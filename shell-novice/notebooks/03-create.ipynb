{
 "cells": [
  {
   "cell_type": "raw",
   "id": "12d397f6",
   "metadata": {},
   "source": [
    "---\n",
    "\n",
    "---"
   ]
  },
  {
   "cell_type": "markdown",
   "id": "7b9b2e6f",
   "metadata": {},
   "source": [
    "\n",
    "```\n",
    "```"
   ]
  },
  {
   "cell_type": "code",
   "execution_count": null,
   "id": "c83c3e52",
   "metadata": {},
   "outputs": [],
   "source": [
    "%%bash\n",
    "~~~\n",
    "$ pwd\n",
    "~~~"
   ]
  },
  {
   "cell_type": "markdown",
   "id": "135516be",
   "metadata": {},
   "source": [
    "```\n",
    "~~~\n",
    "/Users/nelle/Desktop/shell-lesson-data\n",
    "~~~\n",
    "```"
   ]
  },
  {
   "cell_type": "code",
   "execution_count": null,
   "id": "988b6e25",
   "metadata": {},
   "outputs": [],
   "source": [
    "%%bash\n",
    "~~~\n",
    "$ ls -F\n",
    "~~~"
   ]
  },
  {
   "cell_type": "markdown",
   "id": "fb7262eb",
   "metadata": {},
   "source": [
    "```\n",
    "~~~\n",
    "creatures/  data/  molecules/  north-pacific-gyre/  notes.txt  pizza.cfg  solar.pdf  writing/\n",
    "~~~\n",
    "```"
   ]
  },
  {
   "cell_type": "code",
   "execution_count": null,
   "id": "b8eb8a55",
   "metadata": {},
   "outputs": [],
   "source": [
    "%%bash\n",
    "~~~\n",
    "$ mkdir thesis\n",
    "~~~"
   ]
  },
  {
   "cell_type": "markdown",
   "id": "7ab770c7",
   "metadata": {},
   "source": [
    "```\n",
    "```"
   ]
  },
  {
   "cell_type": "code",
   "execution_count": null,
   "id": "dd2b2df3",
   "metadata": {},
   "outputs": [],
   "source": [
    "%%bash\n",
    "~~~\n",
    "$ ls -F\n",
    "~~~"
   ]
  },
  {
   "cell_type": "markdown",
   "id": "a62a380b",
   "metadata": {},
   "source": [
    "```\n",
    "~~~\n",
    "creatures/  data/  molecules/  north-pacific-gyre/  notes.txt  pizza.cfg\n",
    "solar.pdf  thesis/  writing/\n",
    "~~~\n",
    "```"
   ]
  },
  {
   "cell_type": "code",
   "execution_count": null,
   "id": "4949bff2",
   "metadata": {},
   "outputs": [],
   "source": [
    "%%bash\n",
    "~~~\n",
    "$ ls -F thesis\n",
    "~~~"
   ]
  },
  {
   "cell_type": "markdown",
   "id": "04f24e17",
   "metadata": {},
   "source": [
    "```\n",
    "```"
   ]
  },
  {
   "cell_type": "code",
   "execution_count": null,
   "id": "4476e0f9",
   "metadata": {},
   "outputs": [],
   "source": [
    "%%bash\n",
    "~~~\n",
    "$ mkdir -p project/data project/results\n",
    "~~~"
   ]
  },
  {
   "cell_type": "markdown",
   "id": "8d862aba",
   "metadata": {},
   "source": [
    "```\n",
    "```"
   ]
  },
  {
   "cell_type": "code",
   "execution_count": null,
   "id": "1a7be9a8",
   "metadata": {},
   "outputs": [],
   "source": [
    "%%bash\n",
    "~~~\n",
    "$ ls -FR project\n",
    "~~~"
   ]
  },
  {
   "cell_type": "markdown",
   "id": "1a311bfa",
   "metadata": {},
   "source": [
    "```\n",
    "~~~\n",
    "project/:\n",
    "data/  results/\n",
    "project/data:\n",
    "project/results:\n",
    "~~~\n",
    "```"
   ]
  },
  {
   "cell_type": "code",
   "execution_count": null,
   "id": "84eaf170",
   "metadata": {},
   "outputs": [],
   "source": [
    "%%bash\n",
    "~~~\n",
    "$ cd thesis\n",
    "$ nano draft.txt\n",
    "~~~"
   ]
  },
  {
   "cell_type": "markdown",
   "id": "b1629c19",
   "metadata": {},
   "source": [
    "```\n",
    "```"
   ]
  },
  {
   "cell_type": "code",
   "execution_count": null,
   "id": "d414cb0c",
   "metadata": {},
   "outputs": [],
   "source": [
    "%%bash\n",
    "~~~\n",
    "$ ls\n",
    "~~~"
   ]
  },
  {
   "cell_type": "markdown",
   "id": "6d974a2d",
   "metadata": {},
   "source": [
    "```\n",
    "~~~\n",
    "draft.txt\n",
    "~~~\n",
    "```"
   ]
  },
  {
   "cell_type": "code",
   "execution_count": null,
   "id": "0392c901",
   "metadata": {},
   "outputs": [],
   "source": [
    "%%bash\n",
    "> ~~~\n",
    "> $ touch my_file.txt\n",
    "> ~~~"
   ]
  },
  {
   "cell_type": "code",
   "execution_count": null,
   "id": "592e5df8",
   "metadata": {},
   "outputs": [],
   "source": [
    "%%bash\n"
   ]
  },
  {
   "cell_type": "markdown",
   "id": "a3e247d6",
   "metadata": {},
   "source": [
    "```\n",
    "```"
   ]
  },
  {
   "cell_type": "code",
   "execution_count": null,
   "id": "fd471720",
   "metadata": {},
   "outputs": [],
   "source": [
    "%%bash\n",
    "~~~\n",
    "$ mv thesis/draft.txt thesis/quotes.txt\n",
    "~~~"
   ]
  },
  {
   "cell_type": "markdown",
   "id": "c5e52987",
   "metadata": {},
   "source": [
    "```\n",
    "```"
   ]
  },
  {
   "cell_type": "code",
   "execution_count": null,
   "id": "fa130a10",
   "metadata": {},
   "outputs": [],
   "source": [
    "%%bash\n",
    "~~~\n",
    "$ ls thesis\n",
    "~~~"
   ]
  },
  {
   "cell_type": "markdown",
   "id": "fd78902e",
   "metadata": {},
   "source": [
    "```\n",
    "~~~\n",
    "quotes.txt\n",
    "~~~\n",
    "```"
   ]
  },
  {
   "cell_type": "code",
   "execution_count": null,
   "id": "1b7aaf08",
   "metadata": {},
   "outputs": [],
   "source": [
    "%%bash\n",
    "~~~\n",
    "$ mv thesis/quotes.txt .\n",
    "~~~"
   ]
  },
  {
   "cell_type": "markdown",
   "id": "3fd54216",
   "metadata": {},
   "source": [
    "```\n",
    "```"
   ]
  },
  {
   "cell_type": "code",
   "execution_count": null,
   "id": "4f258ef6",
   "metadata": {},
   "outputs": [],
   "source": [
    "%%bash\n",
    "~~~\n",
    "$ ls thesis\n",
    "~~~"
   ]
  },
  {
   "cell_type": "markdown",
   "id": "c691cfff",
   "metadata": {},
   "source": [
    "```\n",
    "~~~\n",
    "$\n",
    "~~~\n",
    "```"
   ]
  },
  {
   "cell_type": "code",
   "execution_count": null,
   "id": "ab9ca5a8",
   "metadata": {},
   "outputs": [],
   "source": [
    "%%bash\n",
    "~~~\n",
    "$ ls thesis/quotes.txt\n",
    "~~~"
   ]
  },
  {
   "cell_type": "markdown",
   "id": "88455f65",
   "metadata": {},
   "source": [
    "```\n",
    "```"
   ]
  },
  {
   "cell_type": "code",
   "execution_count": null,
   "id": "fb1f052d",
   "metadata": {},
   "outputs": [],
   "source": [
    "%%bash\n",
    "~~~\n",
    "$ ls quotes.txt\n",
    "~~~"
   ]
  },
  {
   "cell_type": "markdown",
   "id": "7124890d",
   "metadata": {},
   "source": [
    "```\n",
    "~~~\n",
    "quotes.txt\n",
    "~~~\n",
    "```"
   ]
  },
  {
   "cell_type": "code",
   "execution_count": null,
   "id": "809de3b8",
   "metadata": {},
   "outputs": [],
   "source": [
    "%%bash\n",
    "> ~~~\n",
    "> $ ls -F\n",
    ">  analyzed/ raw/\n",
    "> $ ls -F analyzed\n",
    "> fructose.dat glucose.dat maltose.dat sucrose.dat\n",
    "> $ cd analyzed\n",
    "> ~~~"
   ]
  },
  {
   "cell_type": "markdown",
   "id": "8ac299eb",
   "metadata": {},
   "source": [
    "```\n",
    "```"
   ]
  },
  {
   "cell_type": "code",
   "execution_count": null,
   "id": "d787a913",
   "metadata": {},
   "outputs": [],
   "source": [
    "%%bash\n",
    "> ~~~\n",
    "> $ mv sucrose.dat maltose.dat ____/____\n",
    "> ~~~"
   ]
  },
  {
   "cell_type": "code",
   "execution_count": null,
   "id": "de958e95",
   "metadata": {},
   "outputs": [],
   "source": [
    "%%bash\n"
   ]
  },
  {
   "cell_type": "markdown",
   "id": "535841b3",
   "metadata": {},
   "source": [
    "```\n",
    "```"
   ]
  },
  {
   "cell_type": "code",
   "execution_count": null,
   "id": "8ffce0e5",
   "metadata": {},
   "outputs": [],
   "source": [
    "%%bash\n",
    "~~~\n",
    "$ cp quotes.txt thesis/quotations.txt\n",
    "$ ls quotes.txt thesis/quotations.txt\n",
    "~~~"
   ]
  },
  {
   "cell_type": "code",
   "execution_count": null,
   "id": "0db8896c",
   "metadata": {},
   "outputs": [],
   "source": [
    "%%bash\n",
    "~~~\n",
    "quotes.txt   thesis/quotations.txt\n",
    "~~~"
   ]
  },
  {
   "cell_type": "code",
   "execution_count": null,
   "id": "53364b32",
   "metadata": {},
   "outputs": [],
   "source": [
    "%%bash\n"
   ]
  },
  {
   "cell_type": "markdown",
   "id": "98449eb8",
   "metadata": {},
   "source": [
    "```\n",
    "```"
   ]
  },
  {
   "cell_type": "code",
   "execution_count": null,
   "id": "f5e6642a",
   "metadata": {},
   "outputs": [],
   "source": [
    "%%bash\n",
    "> ~~~\n",
    "> $ pwd\n",
    "> ~~~"
   ]
  },
  {
   "cell_type": "markdown",
   "id": "fee92be1",
   "metadata": {},
   "source": [
    "```\n",
    "> ~~~\n",
    "> /Users/jamie/data\n",
    "> ~~~\n",
    "```"
   ]
  },
  {
   "cell_type": "code",
   "execution_count": null,
   "id": "357cc8cd",
   "metadata": {},
   "outputs": [],
   "source": [
    "%%bash\n",
    "> ~~~\n",
    "> $ ls\n",
    "> ~~~"
   ]
  },
  {
   "cell_type": "markdown",
   "id": "5f980018",
   "metadata": {},
   "source": [
    "```\n",
    "> ~~~\n",
    "> proteins.dat\n",
    "> ~~~\n",
    "```"
   ]
  },
  {
   "cell_type": "code",
   "execution_count": null,
   "id": "7d82d77e",
   "metadata": {},
   "outputs": [],
   "source": [
    "%%bash\n",
    "> ~~~\n",
    "> $ mkdir recombined\n",
    "> $ mv proteins.dat recombined/\n",
    "> $ cp recombined/proteins.dat ../proteins-saved.dat\n",
    "> $ ls\n",
    "> ~~~"
   ]
  },
  {
   "cell_type": "markdown",
   "id": "ec22912e",
   "metadata": {},
   "source": [
    "```\n",
    "```"
   ]
  },
  {
   "cell_type": "code",
   "execution_count": null,
   "id": "621658e3",
   "metadata": {},
   "outputs": [],
   "source": [
    "%%bash\n",
    "~~~\n",
    "$ rm quotes.txt\n",
    "~~~"
   ]
  },
  {
   "cell_type": "markdown",
   "id": "7fe5fd7a",
   "metadata": {},
   "source": [
    "```\n",
    "```"
   ]
  },
  {
   "cell_type": "code",
   "execution_count": null,
   "id": "61c0c5dd",
   "metadata": {},
   "outputs": [],
   "source": [
    "%%bash\n",
    "~~~\n",
    "$ ls quotes.txt\n",
    "~~~"
   ]
  },
  {
   "cell_type": "code",
   "execution_count": null,
   "id": "016bf1ff",
   "metadata": {},
   "outputs": [],
   "source": [
    "%%bash\n"
   ]
  },
  {
   "cell_type": "markdown",
   "id": "a516718d",
   "metadata": {},
   "source": [
    "```\n",
    "```"
   ]
  },
  {
   "cell_type": "code",
   "execution_count": null,
   "id": "2d2c9610",
   "metadata": {},
   "outputs": [],
   "source": [
    "%%bash\n",
    "~~~\n",
    "$ rm thesis\n",
    "~~~"
   ]
  },
  {
   "cell_type": "markdown",
   "id": "4788ddb8",
   "metadata": {},
   "source": [
    "```\n",
    "~~~\n",
    "rm: cannot remove `thesis': Is a directory\n",
    "~~~\n",
    "```"
   ]
  },
  {
   "cell_type": "code",
   "execution_count": null,
   "id": "a8766181",
   "metadata": {},
   "outputs": [],
   "source": [
    "%%bash\n",
    "~~~\n",
    "$ rm -r thesis\n",
    "~~~"
   ]
  },
  {
   "cell_type": "markdown",
   "id": "43670cbe",
   "metadata": {},
   "source": [
    "```\n",
    "```"
   ]
  },
  {
   "cell_type": "code",
   "execution_count": null,
   "id": "4a33bb29",
   "metadata": {},
   "outputs": [],
   "source": [
    "%%bash\n",
    "> ~~~\n",
    "> $ mkdir backup\n",
    "> $ cp amino-acids.txt animals.txt backup/\n",
    "> ~~~"
   ]
  },
  {
   "cell_type": "markdown",
   "id": "dfe9dc53",
   "metadata": {},
   "source": [
    "```\n",
    "```"
   ]
  },
  {
   "cell_type": "code",
   "execution_count": null,
   "id": "b58a79ae",
   "metadata": {},
   "outputs": [],
   "source": [
    "%%bash\n",
    "> ~~~\n",
    "> $ ls -F\n",
    "> ~~~"
   ]
  },
  {
   "cell_type": "markdown",
   "id": "861e0371",
   "metadata": {},
   "source": [
    "```\n",
    "> ~~~\n",
    "> amino-acids.txt  animals.txt  backup/  elements/  morse.txt  pdb/\n",
    "> planets.txt  salmon.txt  sunspot.txt\n",
    "> ~~~\n",
    "```"
   ]
  },
  {
   "cell_type": "code",
   "execution_count": null,
   "id": "19575a9c",
   "metadata": {},
   "outputs": [],
   "source": [
    "%%bash\n",
    "> ~~~\n",
    "> $ cp amino-acids.txt animals.txt morse.txt\n",
    "> ~~~"
   ]
  },
  {
   "cell_type": "markdown",
   "id": "081d57b4",
   "metadata": {},
   "source": [
    "```\n",
    "```"
   ]
  },
  {
   "cell_type": "code",
   "execution_count": null,
   "id": "00707a5c",
   "metadata": {},
   "outputs": [],
   "source": [
    "%%bash\n",
    "> ~~~\n",
    "> .\n",
    "> ├── 2015-10-23-calibration.txt\n",
    "> ├── 2015-10-23-dataset1.txt\n",
    "> ├── 2015-10-23-dataset2.txt\n",
    "> ├── 2015-10-23-dataset_overview.txt\n",
    "> ├── 2015-10-26-calibration.txt\n",
    "> ├── 2015-10-26-dataset1.txt\n",
    "> ├── 2015-10-26-dataset2.txt\n",
    "> ├── 2015-10-26-dataset_overview.txt\n",
    "> ├── 2015-11-23-calibration.txt\n",
    "> ├── 2015-11-23-dataset1.txt\n",
    "> ├── 2015-11-23-dataset2.txt\n",
    "> ├── 2015-11-23-dataset_overview.txt\n",
    "> ├── backup\n",
    "> │   ├── calibration\n",
    "> │   └── datasets\n",
    "> └── send_to_bob\n",
    ">     ├── all_datasets_created_on_a_23rd\n",
    ">     └── all_november_files\n",
    "> ~~~"
   ]
  },
  {
   "cell_type": "markdown",
   "id": "ba800af2",
   "metadata": {},
   "source": [
    "```\n",
    "```"
   ]
  },
  {
   "cell_type": "code",
   "execution_count": null,
   "id": "cf19c858",
   "metadata": {},
   "outputs": [],
   "source": [
    "%%bash\n",
    "> ~~~\n",
    "> $ cp *dataset* backup/datasets\n",
    "> $ cp ____calibration____ backup/calibration\n",
    "> $ cp 2015-____-____ send_to_bob/all_november_files/\n",
    "> $ cp ____ send_to_bob/all_datasets_created_on_a_23rd/\n",
    "> ~~~"
   ]
  },
  {
   "cell_type": "code",
   "execution_count": null,
   "id": "219e1f7f",
   "metadata": {},
   "outputs": [],
   "source": [
    "%%bash\n"
   ]
  },
  {
   "cell_type": "code",
   "execution_count": null,
   "id": "9a611436",
   "metadata": {},
   "outputs": [],
   "source": [
    "%%bash\n"
   ]
  },
  {
   "cell_type": "markdown",
   "id": "501fe0be",
   "metadata": {},
   "source": [
    "```\n",
    "```"
   ]
  },
  {
   "cell_type": "code",
   "execution_count": null,
   "id": "1ce367ad",
   "metadata": {},
   "outputs": [],
   "source": [
    "%%bash\n",
    "> ~~~\n",
    "> $ ls -F\n",
    "> ~~~"
   ]
  },
  {
   "cell_type": "markdown",
   "id": "74c64f4a",
   "metadata": {},
   "source": [
    "```\n",
    "> ~~~\n",
    "> analyzed/  fructose.dat    raw/   sucrose.dat\n",
    "> ~~~\n",
    "```"
   ]
  },
  {
   "cell_type": "code",
   "execution_count": null,
   "id": "6ec538f2",
   "metadata": {},
   "outputs": [],
   "source": [
    "%%bash\n",
    "> ~~~\n",
    "> $ ls -F\n",
    "> ~~~"
   ]
  },
  {
   "cell_type": "markdown",
   "id": "1dc6d923",
   "metadata": {},
   "source": [
    "```\n",
    "> ~~~\n",
    "> analyzed/   raw/\n",
    "> ~~~\n",
    "```"
   ]
  },
  {
   "cell_type": "code",
   "execution_count": null,
   "id": "0857d8b7",
   "metadata": {},
   "outputs": [],
   "source": [
    "%%bash\n",
    "> ~~~\n",
    "> $ ls analyzed\n",
    "> ~~~"
   ]
  },
  {
   "cell_type": "code",
   "execution_count": null,
   "id": "eff08bcf",
   "metadata": {},
   "outputs": [],
   "source": [
    "%%bash\n",
    "> ~~~\n",
    "> fructose.dat    sucrose.dat\n",
    "> ~~~"
   ]
  },
  {
   "cell_type": "markdown",
   "id": "b3240823",
   "metadata": {},
   "source": [
    "```\n",
    "```\n",
    "\n",
    "```\n",
    "> ~~~\n",
    "> 2016-05-20/\n",
    "> └── data\n",
    ">    ├── processed\n",
    ">    └── raw\n",
    "> ~~~\n",
    "```"
   ]
  },
  {
   "cell_type": "code",
   "execution_count": null,
   "id": "9c7516a8",
   "metadata": {},
   "outputs": [],
   "source": [
    "%%bash\n",
    "> ~~~\n",
    "> $ mkdir 2016-05-20\n",
    "> $ mkdir 2016-05-20/data\n",
    "> $ mkdir 2016-05-20/data/processed\n",
    "> $ mkdir 2016-05-20/data/raw\n",
    "> ~~~"
   ]
  },
  {
   "cell_type": "code",
   "execution_count": null,
   "id": "467ae744",
   "metadata": {},
   "outputs": [],
   "source": [
    "%%bash\n",
    "> ~~~\n",
    "> $ mkdir 2016-05-20\n",
    "> $ cd 2016-05-20\n",
    "> $ mkdir data\n",
    "> $ cd data\n",
    "> $ mkdir raw processed\n",
    "> ~~~"
   ]
  },
  {
   "cell_type": "code",
   "execution_count": null,
   "id": "19b61cb9",
   "metadata": {},
   "outputs": [],
   "source": [
    "%%bash\n",
    "> ~~~\n",
    "> $ mkdir 2016-05-20/data/raw\n",
    "> $ mkdir 2016-05-20/data/processed\n",
    "> ~~~"
   ]
  },
  {
   "cell_type": "code",
   "execution_count": null,
   "id": "f1316874",
   "metadata": {},
   "outputs": [],
   "source": [
    "%%bash\n",
    "> ~~~\n",
    "> $ mkdir -p 2016-05-20/data/raw\n",
    "> $ mkdir -p 2016-05-20/data/processed\n",
    "> ~~~"
   ]
  },
  {
   "cell_type": "code",
   "execution_count": null,
   "id": "15da2bc4",
   "metadata": {
    "lines_to_next_cell": 0
   },
   "outputs": [],
   "source": [
    "%%bash\n",
    "> ~~~\n",
    "> $ mkdir 2016-05-20\n",
    "> $ cd 2016-05-20\n",
    "> $ mkdir data\n",
    "> $ mkdir raw processed\n",
    "> ~~~"
   ]
  },
  {
   "cell_type": "markdown",
   "id": "116c8c04",
   "metadata": {},
   "source": []
  }
 ],
 "metadata": {
  "jupytext": {
   "formats": "ipynb,md"
  },
  "kernelspec": {
   "display_name": "Python 3 (ipykernel)",
   "language": "python",
   "name": "python3"
  }
 },
 "nbformat": 4,
 "nbformat_minor": 5
}
