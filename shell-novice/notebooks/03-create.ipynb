{
 "cells": [
  {
   "cell_type": "raw",
   "id": "90b1cab1",
   "metadata": {},
   "source": [
    "---\n",
    "\n",
    "---"
   ]
  },
  {
   "cell_type": "markdown",
   "id": "5bbf45cd",
   "metadata": {},
   "source": [
    "\n",
    "```\n",
    "```"
   ]
  },
  {
   "cell_type": "code",
   "execution_count": null,
   "id": "3e5af4ed",
   "metadata": {},
   "outputs": [],
   "source": [
    "%%bash\n",
    "$ pwd"
   ]
  },
  {
   "cell_type": "markdown",
   "id": "2423da42",
   "metadata": {},
   "source": [
    "```\n",
    "/Users/nelle/Desktop/shell-lesson-data\n",
    "```"
   ]
  },
  {
   "cell_type": "code",
   "execution_count": null,
   "id": "eb1c3da8",
   "metadata": {},
   "outputs": [],
   "source": [
    "%%bash\n",
    "$ ls -F"
   ]
  },
  {
   "cell_type": "markdown",
   "id": "81a3733c",
   "metadata": {},
   "source": [
    "```\n",
    "creatures/  data/  molecules/  north-pacific-gyre/  notes.txt  pizza.cfg  solar.pdf  writing/\n",
    "```"
   ]
  },
  {
   "cell_type": "code",
   "execution_count": null,
   "id": "89dba431",
   "metadata": {},
   "outputs": [],
   "source": [
    "%%bash\n",
    "$ mkdir thesis"
   ]
  },
  {
   "cell_type": "markdown",
   "id": "bbac1b25",
   "metadata": {},
   "source": [
    "```\n",
    "```"
   ]
  },
  {
   "cell_type": "code",
   "execution_count": null,
   "id": "415a40b6",
   "metadata": {},
   "outputs": [],
   "source": [
    "%%bash\n",
    "$ ls -F"
   ]
  },
  {
   "cell_type": "markdown",
   "id": "a49511cb",
   "metadata": {},
   "source": [
    "```\n",
    "creatures/  data/  molecules/  north-pacific-gyre/  notes.txt  pizza.cfg\n",
    "solar.pdf  thesis/  writing/\n",
    "```"
   ]
  },
  {
   "cell_type": "code",
   "execution_count": null,
   "id": "df26b63e",
   "metadata": {},
   "outputs": [],
   "source": [
    "%%bash\n",
    "$ ls -F thesis"
   ]
  },
  {
   "cell_type": "markdown",
   "id": "5e259a64",
   "metadata": {},
   "source": [
    "```\n",
    "```"
   ]
  },
  {
   "cell_type": "code",
   "execution_count": null,
   "id": "d2cec635",
   "metadata": {},
   "outputs": [],
   "source": [
    "%%bash\n",
    "$ mkdir -p project/data project/results"
   ]
  },
  {
   "cell_type": "markdown",
   "id": "a48d2922",
   "metadata": {},
   "source": [
    "```\n",
    "```"
   ]
  },
  {
   "cell_type": "code",
   "execution_count": null,
   "id": "46679927",
   "metadata": {},
   "outputs": [],
   "source": [
    "%%bash\n",
    "$ ls -FR project"
   ]
  },
  {
   "cell_type": "markdown",
   "id": "6194990a",
   "metadata": {},
   "source": [
    "```\n",
    "project/:\n",
    "data/  results/\n",
    "project/data:\n",
    "project/results:\n",
    "```"
   ]
  },
  {
   "cell_type": "code",
   "execution_count": null,
   "id": "75babbcb",
   "metadata": {},
   "outputs": [],
   "source": [
    "%%bash\n",
    "$ cd thesis\n",
    "$ nano draft.txt"
   ]
  },
  {
   "cell_type": "markdown",
   "id": "6e2ee391",
   "metadata": {},
   "source": [
    "```\n",
    "```"
   ]
  },
  {
   "cell_type": "code",
   "execution_count": null,
   "id": "e0b3fc79",
   "metadata": {},
   "outputs": [],
   "source": [
    "%%bash\n",
    "$ ls"
   ]
  },
  {
   "cell_type": "markdown",
   "id": "c71ab634",
   "metadata": {},
   "source": [
    "```\n",
    "draft.txt\n",
    "```"
   ]
  },
  {
   "cell_type": "code",
   "execution_count": null,
   "id": "c69613b8",
   "metadata": {},
   "outputs": [],
   "source": [
    "%%bash\n",
    "> $ touch my_file.txt"
   ]
  },
  {
   "cell_type": "code",
   "execution_count": null,
   "id": "8a4ce9e7",
   "metadata": {},
   "outputs": [],
   "source": [
    "%%bash\n"
   ]
  },
  {
   "cell_type": "markdown",
   "id": "aa3ef2e1",
   "metadata": {},
   "source": [
    "```\n",
    "```"
   ]
  },
  {
   "cell_type": "code",
   "execution_count": null,
   "id": "b004cf48",
   "metadata": {},
   "outputs": [],
   "source": [
    "%%bash\n",
    "$ mv thesis/draft.txt thesis/quotes.txt"
   ]
  },
  {
   "cell_type": "markdown",
   "id": "3a54798c",
   "metadata": {},
   "source": [
    "```\n",
    "```"
   ]
  },
  {
   "cell_type": "code",
   "execution_count": null,
   "id": "57ffc62d",
   "metadata": {},
   "outputs": [],
   "source": [
    "%%bash\n",
    "$ ls thesis"
   ]
  },
  {
   "cell_type": "markdown",
   "id": "923706a8",
   "metadata": {},
   "source": [
    "```\n",
    "quotes.txt\n",
    "```"
   ]
  },
  {
   "cell_type": "code",
   "execution_count": null,
   "id": "d6dfaa6a",
   "metadata": {},
   "outputs": [],
   "source": [
    "%%bash\n",
    "$ mv thesis/quotes.txt ."
   ]
  },
  {
   "cell_type": "markdown",
   "id": "e2e5826f",
   "metadata": {},
   "source": [
    "```\n",
    "```"
   ]
  },
  {
   "cell_type": "code",
   "execution_count": null,
   "id": "95c3c8dd",
   "metadata": {},
   "outputs": [],
   "source": [
    "%%bash\n",
    "$ ls thesis"
   ]
  },
  {
   "cell_type": "markdown",
   "id": "fce79fb5",
   "metadata": {},
   "source": [
    "```\n",
    "$\n",
    "```"
   ]
  },
  {
   "cell_type": "code",
   "execution_count": null,
   "id": "b2c90451",
   "metadata": {},
   "outputs": [],
   "source": [
    "%%bash\n",
    "$ ls thesis/quotes.txt"
   ]
  },
  {
   "cell_type": "markdown",
   "id": "dc4ccda2",
   "metadata": {},
   "source": [
    "```\n",
    "```"
   ]
  },
  {
   "cell_type": "code",
   "execution_count": null,
   "id": "80ee20e5",
   "metadata": {},
   "outputs": [],
   "source": [
    "%%bash\n",
    "$ ls quotes.txt"
   ]
  },
  {
   "cell_type": "markdown",
   "id": "ac9817ce",
   "metadata": {},
   "source": [
    "```\n",
    "quotes.txt\n",
    "```"
   ]
  },
  {
   "cell_type": "code",
   "execution_count": null,
   "id": "6ab5bcb6",
   "metadata": {},
   "outputs": [],
   "source": [
    "%%bash\n",
    "> $ ls -F\n",
    ">  analyzed/ raw/\n",
    "> $ ls -F analyzed\n",
    "> fructose.dat glucose.dat maltose.dat sucrose.dat\n",
    "> $ cd analyzed"
   ]
  },
  {
   "cell_type": "markdown",
   "id": "515c7880",
   "metadata": {},
   "source": [
    "```\n",
    "```"
   ]
  },
  {
   "cell_type": "code",
   "execution_count": null,
   "id": "daedf692",
   "metadata": {},
   "outputs": [],
   "source": [
    "%%bash\n",
    "> $ mv sucrose.dat maltose.dat ____/____"
   ]
  },
  {
   "cell_type": "code",
   "execution_count": null,
   "id": "d853d569",
   "metadata": {},
   "outputs": [],
   "source": [
    "%%bash\n"
   ]
  },
  {
   "cell_type": "markdown",
   "id": "8726c8ae",
   "metadata": {},
   "source": [
    "```\n",
    "```"
   ]
  },
  {
   "cell_type": "code",
   "execution_count": null,
   "id": "086b2035",
   "metadata": {},
   "outputs": [],
   "source": [
    "%%bash\n",
    "$ cp quotes.txt thesis/quotations.txt\n",
    "$ ls quotes.txt thesis/quotations.txt"
   ]
  },
  {
   "cell_type": "code",
   "execution_count": null,
   "id": "36f73251",
   "metadata": {},
   "outputs": [],
   "source": [
    "%%bash\n",
    "quotes.txt   thesis/quotations.txt"
   ]
  },
  {
   "cell_type": "code",
   "execution_count": null,
   "id": "89ecf67b",
   "metadata": {},
   "outputs": [],
   "source": [
    "%%bash\n"
   ]
  },
  {
   "cell_type": "markdown",
   "id": "5db43ac1",
   "metadata": {},
   "source": [
    "```\n",
    "```"
   ]
  },
  {
   "cell_type": "code",
   "execution_count": null,
   "id": "e90c4b11",
   "metadata": {},
   "outputs": [],
   "source": [
    "%%bash\n",
    "> $ pwd"
   ]
  },
  {
   "cell_type": "markdown",
   "id": "65549656",
   "metadata": {},
   "source": [
    "```\n",
    "> /Users/jamie/data\n",
    "```"
   ]
  },
  {
   "cell_type": "code",
   "execution_count": null,
   "id": "ef9a0c7a",
   "metadata": {},
   "outputs": [],
   "source": [
    "%%bash\n",
    "> $ ls"
   ]
  },
  {
   "cell_type": "markdown",
   "id": "09a6c4b9",
   "metadata": {},
   "source": [
    "```\n",
    "> proteins.dat\n",
    "```"
   ]
  },
  {
   "cell_type": "code",
   "execution_count": null,
   "id": "35a0e7e0",
   "metadata": {},
   "outputs": [],
   "source": [
    "%%bash\n",
    "> $ mkdir recombined\n",
    "> $ mv proteins.dat recombined/\n",
    "> $ cp recombined/proteins.dat ../proteins-saved.dat\n",
    "> $ ls"
   ]
  },
  {
   "cell_type": "markdown",
   "id": "9a8abdbb",
   "metadata": {},
   "source": [
    "```\n",
    "```"
   ]
  },
  {
   "cell_type": "code",
   "execution_count": null,
   "id": "ba985054",
   "metadata": {},
   "outputs": [],
   "source": [
    "%%bash\n",
    "$ rm quotes.txt"
   ]
  },
  {
   "cell_type": "markdown",
   "id": "eb754580",
   "metadata": {},
   "source": [
    "```\n",
    "```"
   ]
  },
  {
   "cell_type": "code",
   "execution_count": null,
   "id": "cb6cd5fe",
   "metadata": {},
   "outputs": [],
   "source": [
    "%%bash\n",
    "$ ls quotes.txt"
   ]
  },
  {
   "cell_type": "code",
   "execution_count": null,
   "id": "106de660",
   "metadata": {},
   "outputs": [],
   "source": [
    "%%bash\n"
   ]
  },
  {
   "cell_type": "markdown",
   "id": "9eb7ab6b",
   "metadata": {},
   "source": [
    "```\n",
    "```"
   ]
  },
  {
   "cell_type": "code",
   "execution_count": null,
   "id": "1409f09f",
   "metadata": {},
   "outputs": [],
   "source": [
    "%%bash\n",
    "$ rm thesis"
   ]
  },
  {
   "cell_type": "markdown",
   "id": "470cc5a8",
   "metadata": {},
   "source": [
    "```\n",
    "rm: cannot remove `thesis': Is a directory\n",
    "```"
   ]
  },
  {
   "cell_type": "code",
   "execution_count": null,
   "id": "82fc3e8e",
   "metadata": {},
   "outputs": [],
   "source": [
    "%%bash\n",
    "$ rm -r thesis"
   ]
  },
  {
   "cell_type": "markdown",
   "id": "101c0008",
   "metadata": {},
   "source": [
    "```\n",
    "```"
   ]
  },
  {
   "cell_type": "code",
   "execution_count": null,
   "id": "b82c9b63",
   "metadata": {},
   "outputs": [],
   "source": [
    "%%bash\n",
    "> $ mkdir backup\n",
    "> $ cp amino-acids.txt animals.txt backup/"
   ]
  },
  {
   "cell_type": "markdown",
   "id": "96faa334",
   "metadata": {},
   "source": [
    "```\n",
    "```"
   ]
  },
  {
   "cell_type": "code",
   "execution_count": null,
   "id": "55c91cc5",
   "metadata": {},
   "outputs": [],
   "source": [
    "%%bash\n",
    "> $ ls -F"
   ]
  },
  {
   "cell_type": "markdown",
   "id": "82713caf",
   "metadata": {},
   "source": [
    "```\n",
    "> amino-acids.txt  animals.txt  backup/  elements/  morse.txt  pdb/\n",
    "> planets.txt  salmon.txt  sunspot.txt\n",
    "```"
   ]
  },
  {
   "cell_type": "code",
   "execution_count": null,
   "id": "55626e7d",
   "metadata": {},
   "outputs": [],
   "source": [
    "%%bash\n",
    "> $ cp amino-acids.txt animals.txt morse.txt"
   ]
  },
  {
   "cell_type": "markdown",
   "id": "7d068e36",
   "metadata": {},
   "source": [
    "```\n",
    "```"
   ]
  },
  {
   "cell_type": "code",
   "execution_count": null,
   "id": "62d4b3da",
   "metadata": {},
   "outputs": [],
   "source": [
    "%%bash\n",
    "> .\n",
    "> ├── 2015-10-23-calibration.txt\n",
    "> ├── 2015-10-23-dataset1.txt\n",
    "> ├── 2015-10-23-dataset2.txt\n",
    "> ├── 2015-10-23-dataset_overview.txt\n",
    "> ├── 2015-10-26-calibration.txt\n",
    "> ├── 2015-10-26-dataset1.txt\n",
    "> ├── 2015-10-26-dataset2.txt\n",
    "> ├── 2015-10-26-dataset_overview.txt\n",
    "> ├── 2015-11-23-calibration.txt\n",
    "> ├── 2015-11-23-dataset1.txt\n",
    "> ├── 2015-11-23-dataset2.txt\n",
    "> ├── 2015-11-23-dataset_overview.txt\n",
    "> ├── backup\n",
    "> │   ├── calibration\n",
    "> │   └── datasets\n",
    "> └── send_to_bob\n",
    ">     ├── all_datasets_created_on_a_23rd\n",
    ">     └── all_november_files"
   ]
  },
  {
   "cell_type": "markdown",
   "id": "69c1c671",
   "metadata": {},
   "source": [
    "```\n",
    "```"
   ]
  },
  {
   "cell_type": "code",
   "execution_count": null,
   "id": "cdb93094",
   "metadata": {},
   "outputs": [],
   "source": [
    "%%bash\n",
    "> $ cp *dataset* backup/datasets\n",
    "> $ cp ____calibration____ backup/calibration\n",
    "> $ cp 2015-____-____ send_to_bob/all_november_files/\n",
    "> $ cp ____ send_to_bob/all_datasets_created_on_a_23rd/"
   ]
  },
  {
   "cell_type": "code",
   "execution_count": null,
   "id": "33ba9b65",
   "metadata": {},
   "outputs": [],
   "source": [
    "%%bash\n"
   ]
  },
  {
   "cell_type": "code",
   "execution_count": null,
   "id": "4d62e69f",
   "metadata": {},
   "outputs": [],
   "source": [
    "%%bash\n"
   ]
  },
  {
   "cell_type": "markdown",
   "id": "64706b66",
   "metadata": {},
   "source": [
    "```\n",
    "```"
   ]
  },
  {
   "cell_type": "code",
   "execution_count": null,
   "id": "8b9d53a0",
   "metadata": {},
   "outputs": [],
   "source": [
    "%%bash\n",
    "> $ ls -F"
   ]
  },
  {
   "cell_type": "markdown",
   "id": "f527ac49",
   "metadata": {},
   "source": [
    "```\n",
    "> analyzed/  fructose.dat    raw/   sucrose.dat\n",
    "```"
   ]
  },
  {
   "cell_type": "code",
   "execution_count": null,
   "id": "52eabc14",
   "metadata": {},
   "outputs": [],
   "source": [
    "%%bash\n",
    "> $ ls -F"
   ]
  },
  {
   "cell_type": "markdown",
   "id": "98bca0de",
   "metadata": {},
   "source": [
    "```\n",
    "> analyzed/   raw/\n",
    "```"
   ]
  },
  {
   "cell_type": "code",
   "execution_count": null,
   "id": "b8e0b693",
   "metadata": {},
   "outputs": [],
   "source": [
    "%%bash\n",
    "> $ ls analyzed"
   ]
  },
  {
   "cell_type": "code",
   "execution_count": null,
   "id": "388ab69d",
   "metadata": {},
   "outputs": [],
   "source": [
    "%%bash\n",
    "> fructose.dat    sucrose.dat"
   ]
  },
  {
   "cell_type": "markdown",
   "id": "7b636283",
   "metadata": {},
   "source": [
    "```\n",
    "```\n",
    "\n",
    "```\n",
    "> 2016-05-20/\n",
    "> └── data\n",
    ">    ├── processed\n",
    ">    └── raw\n",
    "```"
   ]
  },
  {
   "cell_type": "code",
   "execution_count": null,
   "id": "9c3d5781",
   "metadata": {},
   "outputs": [],
   "source": [
    "%%bash\n",
    "> $ mkdir 2016-05-20\n",
    "> $ mkdir 2016-05-20/data\n",
    "> $ mkdir 2016-05-20/data/processed\n",
    "> $ mkdir 2016-05-20/data/raw"
   ]
  },
  {
   "cell_type": "code",
   "execution_count": null,
   "id": "5be7fd8d",
   "metadata": {},
   "outputs": [],
   "source": [
    "%%bash\n",
    "> $ mkdir 2016-05-20\n",
    "> $ cd 2016-05-20\n",
    "> $ mkdir data\n",
    "> $ cd data\n",
    "> $ mkdir raw processed"
   ]
  },
  {
   "cell_type": "code",
   "execution_count": null,
   "id": "64a95838",
   "metadata": {},
   "outputs": [],
   "source": [
    "%%bash\n",
    "> $ mkdir 2016-05-20/data/raw\n",
    "> $ mkdir 2016-05-20/data/processed"
   ]
  },
  {
   "cell_type": "code",
   "execution_count": null,
   "id": "4ea877e3",
   "metadata": {},
   "outputs": [],
   "source": [
    "%%bash\n",
    "> $ mkdir -p 2016-05-20/data/raw\n",
    "> $ mkdir -p 2016-05-20/data/processed"
   ]
  },
  {
   "cell_type": "code",
   "execution_count": null,
   "id": "dcc66d23",
   "metadata": {
    "lines_to_next_cell": 0
   },
   "outputs": [],
   "source": [
    "%%bash\n",
    "> $ mkdir 2016-05-20\n",
    "> $ cd 2016-05-20\n",
    "> $ mkdir data\n",
    "> $ mkdir raw processed"
   ]
  },
  {
   "cell_type": "markdown",
   "id": "e376a843",
   "metadata": {},
   "source": []
  }
 ],
 "metadata": {
  "jupytext": {
   "formats": "ipynb,md"
  },
  "kernelspec": {
   "display_name": "Python 3 (ipykernel)",
   "language": "python",
   "name": "python3"
  }
 },
 "nbformat": 4,
 "nbformat_minor": 5
}
