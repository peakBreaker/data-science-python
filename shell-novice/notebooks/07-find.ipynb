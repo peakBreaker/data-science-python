{
 "cells": [
  {
   "cell_type": "raw",
   "id": "4f01f7da",
   "metadata": {},
   "source": [
    "---\n",
    "\n",
    "---"
   ]
  },
  {
   "cell_type": "markdown",
   "id": "95dc630c",
   "metadata": {},
   "source": [
    "\n",
    "```\n",
    "```"
   ]
  },
  {
   "cell_type": "code",
   "execution_count": null,
   "id": "f5e59a17",
   "metadata": {},
   "outputs": [],
   "source": [
    "%%bash\n",
    "~~~\n",
    "$ cd\n",
    "$ cd Desktop/shell-lesson-data/writing\n",
    "$ cat haiku.txt\n",
    "~~~"
   ]
  },
  {
   "cell_type": "markdown",
   "id": "c4b755c7",
   "metadata": {},
   "source": [
    "```\n",
    "~~~\n",
    "The Tao that is seen\n",
    "Is not the true Tao, until\n",
    "You bring fresh toner.\n",
    "With searching comes loss\n",
    "and the presence of absence:\n",
    "\"My Thesis\" not found.\n",
    "Yesterday it worked\n",
    "Today it is not working\n",
    "Software is like that.\n",
    "~~~\n",
    "```"
   ]
  },
  {
   "cell_type": "code",
   "execution_count": null,
   "id": "e3f11900",
   "metadata": {},
   "outputs": [],
   "source": [
    "%%bash\n",
    "~~~\n",
    "$ grep not haiku.txt\n",
    "~~~"
   ]
  },
  {
   "cell_type": "markdown",
   "id": "1fb4dbde",
   "metadata": {},
   "source": [
    "```\n",
    "~~~\n",
    "Is not the true Tao, until\n",
    "\"My Thesis\" not found\n",
    "Today it is not working\n",
    "~~~\n",
    "```"
   ]
  },
  {
   "cell_type": "code",
   "execution_count": null,
   "id": "daf47bee",
   "metadata": {},
   "outputs": [],
   "source": [
    "%%bash\n",
    "~~~\n",
    "$ grep The haiku.txt\n",
    "~~~"
   ]
  },
  {
   "cell_type": "markdown",
   "id": "8dbf0789",
   "metadata": {},
   "source": [
    "```\n",
    "~~~\n",
    "The Tao that is seen\n",
    "\"My Thesis\" not found.\n",
    "~~~\n",
    "```"
   ]
  },
  {
   "cell_type": "code",
   "execution_count": null,
   "id": "7fb6ed70",
   "metadata": {},
   "outputs": [],
   "source": [
    "%%bash\n",
    "~~~\n",
    "$ grep -w The haiku.txt\n",
    "~~~"
   ]
  },
  {
   "cell_type": "markdown",
   "id": "66cc64da",
   "metadata": {},
   "source": [
    "```\n",
    "~~~\n",
    "The Tao that is seen\n",
    "~~~\n",
    "```"
   ]
  },
  {
   "cell_type": "code",
   "execution_count": null,
   "id": "dbbd251f",
   "metadata": {},
   "outputs": [],
   "source": [
    "%%bash\n",
    "~~~\n",
    "$ grep -w \"is not\" haiku.txt\n",
    "~~~"
   ]
  },
  {
   "cell_type": "markdown",
   "id": "7b17c58e",
   "metadata": {},
   "source": [
    "```\n",
    "~~~\n",
    "Today it is not working\n",
    "~~~\n",
    "```"
   ]
  },
  {
   "cell_type": "code",
   "execution_count": null,
   "id": "fd28827b",
   "metadata": {},
   "outputs": [],
   "source": [
    "%%bash\n",
    "~~~\n",
    "$ grep -n \"it\" haiku.txt\n",
    "~~~"
   ]
  },
  {
   "cell_type": "markdown",
   "id": "065f2e12",
   "metadata": {},
   "source": [
    "```\n",
    "~~~\n",
    "5:With searching comes loss\n",
    "9:Yesterday it worked\n",
    "10:Today it is not working\n",
    "~~~\n",
    "```"
   ]
  },
  {
   "cell_type": "code",
   "execution_count": null,
   "id": "97909d01",
   "metadata": {},
   "outputs": [],
   "source": [
    "%%bash\n",
    "~~~\n",
    "$ grep -n -w \"the\" haiku.txt\n",
    "~~~"
   ]
  },
  {
   "cell_type": "markdown",
   "id": "5e208998",
   "metadata": {},
   "source": [
    "```\n",
    "~~~\n",
    "2:Is not the true Tao, until\n",
    "6:and the presence of absence:\n",
    "~~~\n",
    "```"
   ]
  },
  {
   "cell_type": "code",
   "execution_count": null,
   "id": "50229b2d",
   "metadata": {},
   "outputs": [],
   "source": [
    "%%bash\n",
    "~~~\n",
    "$ grep -n -w -i \"the\" haiku.txt\n",
    "~~~"
   ]
  },
  {
   "cell_type": "markdown",
   "id": "81e15cff",
   "metadata": {},
   "source": [
    "```\n",
    "~~~\n",
    "1:The Tao that is seen\n",
    "2:Is not the true Tao, until\n",
    "6:and the presence of absence:\n",
    "~~~\n",
    "```"
   ]
  },
  {
   "cell_type": "code",
   "execution_count": null,
   "id": "b42214b5",
   "metadata": {},
   "outputs": [],
   "source": [
    "%%bash\n",
    "~~~\n",
    "$ grep -n -w -v \"the\" haiku.txt\n",
    "~~~"
   ]
  },
  {
   "cell_type": "code",
   "execution_count": null,
   "id": "787f591e",
   "metadata": {},
   "outputs": [],
   "source": [
    "%%bash\n",
    "~~~\n",
    "1:The Tao that is seen\n",
    "3:You bring fresh toner.\n",
    "4:\n",
    "5:With searching comes loss\n",
    "7:\"My Thesis\" not found.\n",
    "8:\n",
    "9:Yesterday it worked\n",
    "10:Today it is not working\n",
    "11:Software is like that.\n",
    "~~~"
   ]
  },
  {
   "cell_type": "markdown",
   "id": "0e46aac9",
   "metadata": {},
   "source": [
    "```\n",
    "```"
   ]
  },
  {
   "cell_type": "code",
   "execution_count": null,
   "id": "2f08d04b",
   "metadata": {},
   "outputs": [],
   "source": [
    "%%bash\n",
    "~~~\n",
    "$ grep --help\n",
    "~~~"
   ]
  },
  {
   "cell_type": "markdown",
   "id": "7bfc84b5",
   "metadata": {},
   "source": [
    "```\n",
    "~~~\n",
    "Usage: grep [OPTION]... PATTERN [FILE]...\n",
    "Search for PATTERN in each FILE or standard input.\n",
    "PATTERN is, by default, a basic regular expression (BRE).\n",
    "Example: grep -i 'hello world' menu.h main.c\n",
    "Regexp selection and interpretation:\n",
    "-E, --extended-regexp     PATTERN is an extended regular expression (ERE)\n",
    "-F, --fixed-strings       PATTERN is a set of newline-separated fixed strings\n",
    "-G, --basic-regexp        PATTERN is a basic regular expression (BRE)\n",
    "-P, --perl-regexp         PATTERN is a Perl regular expression\n",
    "-e, --regexp=PATTERN      use PATTERN for matching\n",
    "-f, --file=FILE           obtain PATTERN from FILE\n",
    "-i, --ignore-case         ignore case distinctions\n",
    "-w, --word-regexp         force PATTERN to match only whole words\n",
    "-x, --line-regexp         force PATTERN to match only whole lines\n",
    "-z, --null-data           a data line ends in 0 byte, not newline\n",
    "Miscellaneous:\n",
    "...        ...        ...\n",
    "~~~\n",
    "```\n",
    "\n",
    "```\n",
    "> ~~~\n",
    "> and the presence of absence:\n",
    "> ~~~\n",
    "```"
   ]
  },
  {
   "cell_type": "code",
   "execution_count": null,
   "id": "5d2d9b57",
   "metadata": {},
   "outputs": [],
   "source": [
    "%%bash\n",
    "> ~~~\n",
    "> $ grep -E \"^.o\" haiku.txt\n",
    "> ~~~"
   ]
  },
  {
   "cell_type": "markdown",
   "id": "282971e3",
   "metadata": {},
   "source": [
    "```\n",
    "```\n",
    "\n",
    "```\n",
    "> ~~~\n",
    "> You bring fresh toner.\n",
    "> Today it is not working\n",
    "> Software is like that.\n",
    "> ~~~\n",
    "```\n",
    "\n",
    "```\n",
    "> ~~~\n",
    "> 2013-11-05,deer,5\n",
    "> 2013-11-05,rabbit,22\n",
    "> 2013-11-05,raccoon,7\n",
    "> 2013-11-06,rabbit,19\n",
    "> 2013-11-06,deer,2\n",
    "> ~~~\n",
    "```\n",
    "\n",
    "```\n",
    "> ~~~\n",
    "> 2013-11-05,22\n",
    "> 2013-11-06,19\n",
    "> ~~~\n",
    "```"
   ]
  },
  {
   "cell_type": "code",
   "execution_count": null,
   "id": "e8fbfeb6",
   "metadata": {},
   "outputs": [],
   "source": [
    "%%bash\n",
    "> ~~~\n",
    "> cut -d : -f 2\n",
    "> >\n",
    "> |\n",
    "> grep -w $1 -r $2\n",
    "> |\n",
    "> $1.txt\n",
    "> cut -d , -f 1,3\n",
    "> ~~~"
   ]
  },
  {
   "cell_type": "code",
   "execution_count": null,
   "id": "cfdda2d0",
   "metadata": {},
   "outputs": [],
   "source": [
    "%%bash\n"
   ]
  },
  {
   "cell_type": "markdown",
   "id": "00d813bb",
   "metadata": {},
   "source": [
    "```\n",
    "```"
   ]
  },
  {
   "cell_type": "code",
   "execution_count": null,
   "id": "1a5e2309",
   "metadata": {},
   "outputs": [],
   "source": [
    "%%bash\n",
    "~~~\n",
    "$ find .\n",
    "~~~"
   ]
  },
  {
   "cell_type": "markdown",
   "id": "bfb7db74",
   "metadata": {},
   "source": [
    "```\n",
    "~~~\n",
    ".\n",
    "./data\n",
    "./data/one.txt\n",
    "./data/LittleWomen.txt\n",
    "./data/two.txt\n",
    "./tools\n",
    "./tools/format\n",
    "./tools/old\n",
    "./tools/old/oldtool\n",
    "./tools/stats\n",
    "./haiku.txt\n",
    "./thesis\n",
    "./thesis/empty-draft.md\n",
    "~~~\n",
    "```"
   ]
  },
  {
   "cell_type": "code",
   "execution_count": null,
   "id": "3379ea53",
   "metadata": {},
   "outputs": [],
   "source": [
    "%%bash\n",
    "~~~\n",
    "$ find . -type d\n",
    "~~~"
   ]
  },
  {
   "cell_type": "markdown",
   "id": "ab9dbf28",
   "metadata": {},
   "source": [
    "```\n",
    "~~~\n",
    "./\n",
    "./data\n",
    "./thesis\n",
    "./tools\n",
    "./tools/old\n",
    "~~~\n",
    "```"
   ]
  },
  {
   "cell_type": "code",
   "execution_count": null,
   "id": "b9bdc270",
   "metadata": {},
   "outputs": [],
   "source": [
    "%%bash\n",
    "~~~\n",
    "$ find . -type f\n",
    "~~~"
   ]
  },
  {
   "cell_type": "markdown",
   "id": "ff62dbb0",
   "metadata": {},
   "source": [
    "```\n",
    "~~~\n",
    "./haiku.txt\n",
    "./tools/stats\n",
    "./tools/old/oldtool\n",
    "./tools/format\n",
    "./thesis/empty-draft.md\n",
    "./data/one.txt\n",
    "./data/LittleWomen.txt\n",
    "./data/two.txt\n",
    "~~~\n",
    "```"
   ]
  },
  {
   "cell_type": "code",
   "execution_count": null,
   "id": "91bff22e",
   "metadata": {},
   "outputs": [],
   "source": [
    "%%bash\n",
    "~~~\n",
    "$ find . -name *.txt\n",
    "~~~"
   ]
  },
  {
   "cell_type": "markdown",
   "id": "3c58de05",
   "metadata": {},
   "source": [
    "```\n",
    "~~~\n",
    "./haiku.txt\n",
    "~~~\n",
    "```"
   ]
  },
  {
   "cell_type": "code",
   "execution_count": null,
   "id": "a3c34eb6",
   "metadata": {},
   "outputs": [],
   "source": [
    "%%bash\n",
    "~~~\n",
    "$ find . -name haiku.txt\n",
    "~~~"
   ]
  },
  {
   "cell_type": "markdown",
   "id": "41f9d31e",
   "metadata": {},
   "source": [
    "```\n",
    "```"
   ]
  },
  {
   "cell_type": "code",
   "execution_count": null,
   "id": "0054fe59",
   "metadata": {},
   "outputs": [],
   "source": [
    "%%bash\n",
    "~~~\n",
    "$ find . -name \"*.txt\"\n",
    "~~~"
   ]
  },
  {
   "cell_type": "markdown",
   "id": "f40aaf8f",
   "metadata": {},
   "source": [
    "```\n",
    "~~~\n",
    "./data/one.txt\n",
    "./data/LittleWomen.txt\n",
    "./data/two.txt\n",
    "./haiku.txt\n",
    "~~~\n",
    "```"
   ]
  },
  {
   "cell_type": "code",
   "execution_count": null,
   "id": "494ccdf7",
   "metadata": {},
   "outputs": [],
   "source": [
    "%%bash\n",
    "~~~\n",
    "$ wc -l $(find . -name \"*.txt\")\n",
    "~~~"
   ]
  },
  {
   "cell_type": "markdown",
   "id": "c878c83f",
   "metadata": {},
   "source": [
    "```\n",
    "~~~\n",
    "11 ./haiku.txt\n",
    "300 ./data/two.txt\n",
    "21022 ./data/LittleWomen.txt\n",
    "70 ./data/one.txt\n",
    "21403 total\n",
    "~~~\n",
    "```"
   ]
  },
  {
   "cell_type": "code",
   "execution_count": null,
   "id": "f6b20021",
   "metadata": {},
   "outputs": [],
   "source": [
    "%%bash\n",
    "~~~\n",
    "$ wc -l ./data/one.txt ./data/LittleWomen.txt ./data/two.txt ./haiku.txt\n",
    "~~~"
   ]
  },
  {
   "cell_type": "markdown",
   "id": "7220aa34",
   "metadata": {},
   "source": [
    "```\n",
    "```"
   ]
  },
  {
   "cell_type": "code",
   "execution_count": null,
   "id": "93519942",
   "metadata": {},
   "outputs": [],
   "source": [
    "%%bash\n",
    "~~~\n",
    "$ grep \"FE\" $(find .. -name \"*.pdb\")\n",
    "~~~"
   ]
  },
  {
   "cell_type": "markdown",
   "id": "0ef43473",
   "metadata": {},
   "source": [
    "```\n",
    "~~~\n",
    "../data/pdb/heme.pdb:ATOM     25 FE           1      -0.924   0.535  -0.518\n",
    "~~~\n",
    "```"
   ]
  },
  {
   "cell_type": "code",
   "execution_count": null,
   "id": "04b1ea54",
   "metadata": {
    "lines_to_next_cell": 0
   },
   "outputs": [],
   "source": [
    "%%bash\n",
    "> ~~~\n",
    "> wc -l $(find . -name \"*.dat\") | sort -n\n",
    "> ~~~"
   ]
  },
  {
   "cell_type": "markdown",
   "id": "b447ebf2",
   "metadata": {},
   "source": []
  }
 ],
 "metadata": {
  "jupytext": {
   "formats": "ipynb,md"
  },
  "kernelspec": {
   "display_name": "Python 3 (ipykernel)",
   "language": "python",
   "name": "python3"
  }
 },
 "nbformat": 4,
 "nbformat_minor": 5
}
