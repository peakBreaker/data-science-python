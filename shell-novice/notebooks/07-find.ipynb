{
 "cells": [
  {
   "cell_type": "raw",
   "id": "74942c50",
   "metadata": {},
   "source": [
    "---\n",
    "\n",
    "---"
   ]
  },
  {
   "cell_type": "markdown",
   "id": "fcc1808f",
   "metadata": {},
   "source": [
    "\n",
    "```\n",
    "```"
   ]
  },
  {
   "cell_type": "code",
   "execution_count": null,
   "id": "43540ff1",
   "metadata": {},
   "outputs": [],
   "source": [
    "%%bash\n",
    "$ cd\n",
    "$ cd Desktop/shell-lesson-data/writing\n",
    "$ cat haiku.txt"
   ]
  },
  {
   "cell_type": "markdown",
   "id": "998c8cd1",
   "metadata": {},
   "source": [
    "```\n",
    "The Tao that is seen\n",
    "Is not the true Tao, until\n",
    "You bring fresh toner.\n",
    "With searching comes loss\n",
    "and the presence of absence:\n",
    "\"My Thesis\" not found.\n",
    "Yesterday it worked\n",
    "Today it is not working\n",
    "Software is like that.\n",
    "```"
   ]
  },
  {
   "cell_type": "code",
   "execution_count": null,
   "id": "c4998070",
   "metadata": {},
   "outputs": [],
   "source": [
    "%%bash\n",
    "$ grep not haiku.txt"
   ]
  },
  {
   "cell_type": "markdown",
   "id": "34f5b7bc",
   "metadata": {},
   "source": [
    "```\n",
    "Is not the true Tao, until\n",
    "\"My Thesis\" not found\n",
    "Today it is not working\n",
    "```"
   ]
  },
  {
   "cell_type": "code",
   "execution_count": null,
   "id": "f35f3fd0",
   "metadata": {},
   "outputs": [],
   "source": [
    "%%bash\n",
    "$ grep The haiku.txt"
   ]
  },
  {
   "cell_type": "markdown",
   "id": "b70c8e9f",
   "metadata": {},
   "source": [
    "```\n",
    "The Tao that is seen\n",
    "\"My Thesis\" not found.\n",
    "```"
   ]
  },
  {
   "cell_type": "code",
   "execution_count": null,
   "id": "d2cb3b49",
   "metadata": {},
   "outputs": [],
   "source": [
    "%%bash\n",
    "$ grep -w The haiku.txt"
   ]
  },
  {
   "cell_type": "markdown",
   "id": "9bbba07c",
   "metadata": {},
   "source": [
    "```\n",
    "The Tao that is seen\n",
    "```"
   ]
  },
  {
   "cell_type": "code",
   "execution_count": null,
   "id": "7986fe01",
   "metadata": {},
   "outputs": [],
   "source": [
    "%%bash\n",
    "$ grep -w \"is not\" haiku.txt"
   ]
  },
  {
   "cell_type": "markdown",
   "id": "90191163",
   "metadata": {},
   "source": [
    "```\n",
    "Today it is not working\n",
    "```"
   ]
  },
  {
   "cell_type": "code",
   "execution_count": null,
   "id": "88f420e4",
   "metadata": {},
   "outputs": [],
   "source": [
    "%%bash\n",
    "$ grep -n \"it\" haiku.txt"
   ]
  },
  {
   "cell_type": "markdown",
   "id": "133fe904",
   "metadata": {},
   "source": [
    "```\n",
    "5:With searching comes loss\n",
    "9:Yesterday it worked\n",
    "10:Today it is not working\n",
    "```"
   ]
  },
  {
   "cell_type": "code",
   "execution_count": null,
   "id": "0362ebbe",
   "metadata": {},
   "outputs": [],
   "source": [
    "%%bash\n",
    "$ grep -n -w \"the\" haiku.txt"
   ]
  },
  {
   "cell_type": "markdown",
   "id": "a70708ca",
   "metadata": {},
   "source": [
    "```\n",
    "2:Is not the true Tao, until\n",
    "6:and the presence of absence:\n",
    "```"
   ]
  },
  {
   "cell_type": "code",
   "execution_count": null,
   "id": "740803b1",
   "metadata": {},
   "outputs": [],
   "source": [
    "%%bash\n",
    "$ grep -n -w -i \"the\" haiku.txt"
   ]
  },
  {
   "cell_type": "markdown",
   "id": "8e311a57",
   "metadata": {},
   "source": [
    "```\n",
    "1:The Tao that is seen\n",
    "2:Is not the true Tao, until\n",
    "6:and the presence of absence:\n",
    "```"
   ]
  },
  {
   "cell_type": "code",
   "execution_count": null,
   "id": "26b56421",
   "metadata": {},
   "outputs": [],
   "source": [
    "%%bash\n",
    "$ grep -n -w -v \"the\" haiku.txt"
   ]
  },
  {
   "cell_type": "code",
   "execution_count": null,
   "id": "d70a51c2",
   "metadata": {},
   "outputs": [],
   "source": [
    "%%bash\n",
    "1:The Tao that is seen\n",
    "3:You bring fresh toner.\n",
    "4:\n",
    "5:With searching comes loss\n",
    "7:\"My Thesis\" not found.\n",
    "8:\n",
    "9:Yesterday it worked\n",
    "10:Today it is not working\n",
    "11:Software is like that."
   ]
  },
  {
   "cell_type": "markdown",
   "id": "dc041fa3",
   "metadata": {},
   "source": [
    "```\n",
    "```"
   ]
  },
  {
   "cell_type": "code",
   "execution_count": null,
   "id": "f747da92",
   "metadata": {},
   "outputs": [],
   "source": [
    "%%bash\n",
    "$ grep --help"
   ]
  },
  {
   "cell_type": "markdown",
   "id": "310e9d98",
   "metadata": {},
   "source": [
    "```\n",
    "Usage: grep [OPTION]... PATTERN [FILE]...\n",
    "Search for PATTERN in each FILE or standard input.\n",
    "PATTERN is, by default, a basic regular expression (BRE).\n",
    "Example: grep -i 'hello world' menu.h main.c\n",
    "Regexp selection and interpretation:\n",
    "-E, --extended-regexp     PATTERN is an extended regular expression (ERE)\n",
    "-F, --fixed-strings       PATTERN is a set of newline-separated fixed strings\n",
    "-G, --basic-regexp        PATTERN is a basic regular expression (BRE)\n",
    "-P, --perl-regexp         PATTERN is a Perl regular expression\n",
    "-e, --regexp=PATTERN      use PATTERN for matching\n",
    "-f, --file=FILE           obtain PATTERN from FILE\n",
    "-i, --ignore-case         ignore case distinctions\n",
    "-w, --word-regexp         force PATTERN to match only whole words\n",
    "-x, --line-regexp         force PATTERN to match only whole lines\n",
    "-z, --null-data           a data line ends in 0 byte, not newline\n",
    "Miscellaneous:\n",
    "...        ...        ...\n",
    "```\n",
    "\n",
    "```\n",
    "> and the presence of absence:\n",
    "```"
   ]
  },
  {
   "cell_type": "code",
   "execution_count": null,
   "id": "bbf22745",
   "metadata": {},
   "outputs": [],
   "source": [
    "%%bash\n",
    "> $ grep -E \"^.o\" haiku.txt"
   ]
  },
  {
   "cell_type": "markdown",
   "id": "01a468a2",
   "metadata": {},
   "source": [
    "```\n",
    "```\n",
    "\n",
    "```\n",
    "> You bring fresh toner.\n",
    "> Today it is not working\n",
    "> Software is like that.\n",
    "```\n",
    "\n",
    "```\n",
    "> 2013-11-05,deer,5\n",
    "> 2013-11-05,rabbit,22\n",
    "> 2013-11-05,raccoon,7\n",
    "> 2013-11-06,rabbit,19\n",
    "> 2013-11-06,deer,2\n",
    "```\n",
    "\n",
    "```\n",
    "> 2013-11-05,22\n",
    "> 2013-11-06,19\n",
    "```"
   ]
  },
  {
   "cell_type": "code",
   "execution_count": null,
   "id": "eeca79f1",
   "metadata": {},
   "outputs": [],
   "source": [
    "%%bash\n",
    "> cut -d : -f 2\n",
    "> >\n",
    "> |\n",
    "> grep -w $1 -r $2\n",
    "> |\n",
    "> $1.txt\n",
    "> cut -d , -f 1,3"
   ]
  },
  {
   "cell_type": "code",
   "execution_count": null,
   "id": "8729b9de",
   "metadata": {},
   "outputs": [],
   "source": [
    "%%bash\n"
   ]
  },
  {
   "cell_type": "markdown",
   "id": "73b44875",
   "metadata": {},
   "source": [
    "```\n",
    "```"
   ]
  },
  {
   "cell_type": "code",
   "execution_count": null,
   "id": "7145e98a",
   "metadata": {},
   "outputs": [],
   "source": [
    "%%bash\n",
    "$ find ."
   ]
  },
  {
   "cell_type": "markdown",
   "id": "62e8a118",
   "metadata": {},
   "source": [
    "```\n",
    ".\n",
    "./data\n",
    "./data/one.txt\n",
    "./data/LittleWomen.txt\n",
    "./data/two.txt\n",
    "./tools\n",
    "./tools/format\n",
    "./tools/old\n",
    "./tools/old/oldtool\n",
    "./tools/stats\n",
    "./haiku.txt\n",
    "./thesis\n",
    "./thesis/empty-draft.md\n",
    "```"
   ]
  },
  {
   "cell_type": "code",
   "execution_count": null,
   "id": "5aed3ef1",
   "metadata": {},
   "outputs": [],
   "source": [
    "%%bash\n",
    "$ find . -type d"
   ]
  },
  {
   "cell_type": "markdown",
   "id": "d5873c10",
   "metadata": {},
   "source": [
    "```\n",
    "./\n",
    "./data\n",
    "./thesis\n",
    "./tools\n",
    "./tools/old\n",
    "```"
   ]
  },
  {
   "cell_type": "code",
   "execution_count": null,
   "id": "4c00d53e",
   "metadata": {},
   "outputs": [],
   "source": [
    "%%bash\n",
    "$ find . -type f"
   ]
  },
  {
   "cell_type": "markdown",
   "id": "534937a7",
   "metadata": {},
   "source": [
    "```\n",
    "./haiku.txt\n",
    "./tools/stats\n",
    "./tools/old/oldtool\n",
    "./tools/format\n",
    "./thesis/empty-draft.md\n",
    "./data/one.txt\n",
    "./data/LittleWomen.txt\n",
    "./data/two.txt\n",
    "```"
   ]
  },
  {
   "cell_type": "code",
   "execution_count": null,
   "id": "163ee717",
   "metadata": {},
   "outputs": [],
   "source": [
    "%%bash\n",
    "$ find . -name *.txt"
   ]
  },
  {
   "cell_type": "markdown",
   "id": "31f06fc3",
   "metadata": {},
   "source": [
    "```\n",
    "./haiku.txt\n",
    "```"
   ]
  },
  {
   "cell_type": "code",
   "execution_count": null,
   "id": "30e07a1c",
   "metadata": {},
   "outputs": [],
   "source": [
    "%%bash\n",
    "$ find . -name haiku.txt"
   ]
  },
  {
   "cell_type": "markdown",
   "id": "47fb14f8",
   "metadata": {},
   "source": [
    "```\n",
    "```"
   ]
  },
  {
   "cell_type": "code",
   "execution_count": null,
   "id": "bcfadb25",
   "metadata": {},
   "outputs": [],
   "source": [
    "%%bash\n",
    "$ find . -name \"*.txt\""
   ]
  },
  {
   "cell_type": "markdown",
   "id": "6d2252ba",
   "metadata": {},
   "source": [
    "```\n",
    "./data/one.txt\n",
    "./data/LittleWomen.txt\n",
    "./data/two.txt\n",
    "./haiku.txt\n",
    "```"
   ]
  },
  {
   "cell_type": "code",
   "execution_count": null,
   "id": "0a6c22ec",
   "metadata": {},
   "outputs": [],
   "source": [
    "%%bash\n",
    "$ wc -l $(find . -name \"*.txt\")"
   ]
  },
  {
   "cell_type": "markdown",
   "id": "d821c3e9",
   "metadata": {},
   "source": [
    "```\n",
    "11 ./haiku.txt\n",
    "300 ./data/two.txt\n",
    "21022 ./data/LittleWomen.txt\n",
    "70 ./data/one.txt\n",
    "21403 total\n",
    "```"
   ]
  },
  {
   "cell_type": "code",
   "execution_count": null,
   "id": "bfdd2772",
   "metadata": {},
   "outputs": [],
   "source": [
    "%%bash\n",
    "$ wc -l ./data/one.txt ./data/LittleWomen.txt ./data/two.txt ./haiku.txt"
   ]
  },
  {
   "cell_type": "markdown",
   "id": "cbcb9c27",
   "metadata": {},
   "source": [
    "```\n",
    "```"
   ]
  },
  {
   "cell_type": "code",
   "execution_count": null,
   "id": "21ef36f8",
   "metadata": {},
   "outputs": [],
   "source": [
    "%%bash\n",
    "$ grep \"FE\" $(find .. -name \"*.pdb\")"
   ]
  },
  {
   "cell_type": "markdown",
   "id": "8808e753",
   "metadata": {},
   "source": [
    "```\n",
    "../data/pdb/heme.pdb:ATOM     25 FE           1      -0.924   0.535  -0.518\n",
    "```"
   ]
  },
  {
   "cell_type": "code",
   "execution_count": null,
   "id": "850e4fe7",
   "metadata": {
    "lines_to_next_cell": 0
   },
   "outputs": [],
   "source": [
    "%%bash\n",
    "> wc -l $(find . -name \"*.dat\") | sort -n"
   ]
  },
  {
   "cell_type": "markdown",
   "id": "4e9cd5a4",
   "metadata": {},
   "source": []
  }
 ],
 "metadata": {
  "jupytext": {
   "formats": "ipynb,md"
  },
  "kernelspec": {
   "display_name": "Python 3 (ipykernel)",
   "language": "python",
   "name": "python3"
  }
 },
 "nbformat": 4,
 "nbformat_minor": 5
}
