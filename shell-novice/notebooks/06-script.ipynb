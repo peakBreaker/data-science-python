{
 "cells": [
  {
   "cell_type": "raw",
   "id": "d9d3e8a3",
   "metadata": {},
   "source": [
    "---\n",
    "\n",
    "---"
   ]
  },
  {
   "cell_type": "markdown",
   "id": "a1fc19f6",
   "metadata": {},
   "source": [
    "\n",
    "```\n",
    "```"
   ]
  },
  {
   "cell_type": "code",
   "execution_count": null,
   "id": "27262011",
   "metadata": {},
   "outputs": [],
   "source": [
    "%%bash\n",
    "~~~\n",
    "$ cd molecules\n",
    "$ nano middle.sh\n",
    "~~~"
   ]
  },
  {
   "cell_type": "markdown",
   "id": "416a8e49",
   "metadata": {},
   "source": [
    "```\n",
    "```"
   ]
  },
  {
   "cell_type": "code",
   "execution_count": null,
   "id": "1e50c69a",
   "metadata": {},
   "outputs": [],
   "source": [
    "%%bash\n",
    "~~~\n",
    "head -n 15 octane.pdb | tail -n 5\n",
    "~~~"
   ]
  },
  {
   "cell_type": "markdown",
   "id": "2054b5c0",
   "metadata": {},
   "source": [
    "```\n",
    "```"
   ]
  },
  {
   "cell_type": "code",
   "execution_count": null,
   "id": "29206b6a",
   "metadata": {},
   "outputs": [],
   "source": [
    "%%bash\n",
    "~~~\n",
    "$ bash middle.sh\n",
    "~~~"
   ]
  },
  {
   "cell_type": "markdown",
   "id": "d60e8c03",
   "metadata": {},
   "source": [
    "```\n",
    "~~~\n",
    "ATOM      9  H           1      -4.502   0.681   0.785  1.00  0.00\n",
    "ATOM     10  H           1      -5.254  -0.243  -0.537  1.00  0.00\n",
    "ATOM     11  H           1      -4.357   1.252  -0.895  1.00  0.00\n",
    "ATOM     12  H           1      -3.009  -0.741  -1.467  1.00  0.00\n",
    "ATOM     13  H           1      -3.172  -1.337   0.206  1.00  0.00\n",
    "~~~\n",
    "```"
   ]
  },
  {
   "cell_type": "code",
   "execution_count": null,
   "id": "428feee5",
   "metadata": {},
   "outputs": [],
   "source": [
    "%%bash\n",
    "~~~\n",
    "$ nano middle.sh\n",
    "~~~"
   ]
  },
  {
   "cell_type": "markdown",
   "id": "64929737",
   "metadata": {},
   "source": [
    "```\n",
    "```\n",
    "\n",
    "```\n",
    "~~~\n",
    "head -n 15 \"$1\" | tail -n 5\n",
    "~~~\n",
    "```"
   ]
  },
  {
   "cell_type": "code",
   "execution_count": null,
   "id": "c08dec1c",
   "metadata": {},
   "outputs": [],
   "source": [
    "%%bash\n",
    "~~~\n",
    "$ bash middle.sh octane.pdb\n",
    "~~~"
   ]
  },
  {
   "cell_type": "markdown",
   "id": "9842463d",
   "metadata": {},
   "source": [
    "```\n",
    "~~~\n",
    "ATOM      9  H           1      -4.502   0.681   0.785  1.00  0.00\n",
    "ATOM     10  H           1      -5.254  -0.243  -0.537  1.00  0.00\n",
    "ATOM     11  H           1      -4.357   1.252  -0.895  1.00  0.00\n",
    "ATOM     12  H           1      -3.009  -0.741  -1.467  1.00  0.00\n",
    "ATOM     13  H           1      -3.172  -1.337   0.206  1.00  0.00\n",
    "~~~\n",
    "```"
   ]
  },
  {
   "cell_type": "code",
   "execution_count": null,
   "id": "0a543099",
   "metadata": {},
   "outputs": [],
   "source": [
    "%%bash\n",
    "~~~\n",
    "$ bash middle.sh pentane.pdb\n",
    "~~~"
   ]
  },
  {
   "cell_type": "markdown",
   "id": "5d80c9e1",
   "metadata": {},
   "source": [
    "```\n",
    "~~~\n",
    "ATOM      9  H           1       1.324   0.350  -1.332  1.00  0.00\n",
    "ATOM     10  H           1       1.271   1.378   0.122  1.00  0.00\n",
    "ATOM     11  H           1      -0.074  -0.384   1.288  1.00  0.00\n",
    "ATOM     12  H           1      -0.048  -1.362  -0.205  1.00  0.00\n",
    "ATOM     13  H           1      -1.183   0.500  -1.412  1.00  0.00\n",
    "~~~\n",
    "```"
   ]
  },
  {
   "cell_type": "code",
   "execution_count": null,
   "id": "3e72766f",
   "metadata": {},
   "outputs": [],
   "source": [
    "%%bash\n",
    "~~~\n",
    "$ nano middle.sh\n",
    "~~~"
   ]
  },
  {
   "cell_type": "markdown",
   "id": "e7b4f67a",
   "metadata": {},
   "source": [
    "```\n",
    "~~~\n",
    "head -n \"$2\" \"$1\" | tail -n \"$3\"\n",
    "~~~\n",
    "```"
   ]
  },
  {
   "cell_type": "code",
   "execution_count": null,
   "id": "51e30e77",
   "metadata": {},
   "outputs": [],
   "source": [
    "%%bash\n",
    "~~~\n",
    "$ bash middle.sh pentane.pdb 15 5\n",
    "~~~"
   ]
  },
  {
   "cell_type": "markdown",
   "id": "d325ea4a",
   "metadata": {},
   "source": [
    "```\n",
    "~~~\n",
    "ATOM      9  H           1       1.324   0.350  -1.332  1.00  0.00\n",
    "ATOM     10  H           1       1.271   1.378   0.122  1.00  0.00\n",
    "ATOM     11  H           1      -0.074  -0.384   1.288  1.00  0.00\n",
    "ATOM     12  H           1      -0.048  -1.362  -0.205  1.00  0.00\n",
    "ATOM     13  H           1      -1.183   0.500  -1.412  1.00  0.00\n",
    "~~~\n",
    "```"
   ]
  },
  {
   "cell_type": "code",
   "execution_count": null,
   "id": "ffc0a3c1",
   "metadata": {},
   "outputs": [],
   "source": [
    "%%bash\n",
    "~~~\n",
    "$ bash middle.sh pentane.pdb 20 5\n",
    "~~~"
   ]
  },
  {
   "cell_type": "markdown",
   "id": "a4a4ff03",
   "metadata": {},
   "source": [
    "```\n",
    "~~~\n",
    "ATOM     14  H           1      -1.259   1.420   0.112  1.00  0.00\n",
    "ATOM     15  H           1      -2.608  -0.407   1.130  1.00  0.00\n",
    "ATOM     16  H           1      -2.540  -1.303  -0.404  1.00  0.00\n",
    "ATOM     17  H           1      -3.393   0.254  -0.321  1.00  0.00\n",
    "TER      18              1\n",
    "~~~\n",
    "```"
   ]
  },
  {
   "cell_type": "code",
   "execution_count": null,
   "id": "a1244b37",
   "metadata": {},
   "outputs": [],
   "source": [
    "%%bash\n",
    "~~~\n",
    "$ nano middle.sh\n",
    "~~~"
   ]
  },
  {
   "cell_type": "markdown",
   "id": "09369259",
   "metadata": {},
   "source": [
    "```\n",
    "~~~\n",
    "# Select lines from the middle of a file.\n",
    "# Usage: bash middle.sh filename end_line num_lines\n",
    "head -n \"$2\" \"$1\" | tail -n \"$3\"\n",
    "~~~\n",
    "```"
   ]
  },
  {
   "cell_type": "code",
   "execution_count": null,
   "id": "f49cf5e0",
   "metadata": {},
   "outputs": [],
   "source": [
    "%%bash\n",
    "~~~\n",
    "$ wc -l *.pdb | sort -n\n",
    "~~~"
   ]
  },
  {
   "cell_type": "markdown",
   "id": "283e6996",
   "metadata": {},
   "source": [
    "```\n",
    "```"
   ]
  },
  {
   "cell_type": "code",
   "execution_count": null,
   "id": "694487b8",
   "metadata": {},
   "outputs": [],
   "source": [
    "%%bash\n",
    "~~~\n",
    "$ nano sorted.sh\n",
    "~~~"
   ]
  },
  {
   "cell_type": "markdown",
   "id": "7c7ec141",
   "metadata": {},
   "source": [
    "```\n",
    "~~~\n",
    "# Sort files by their length.\n",
    "# Usage: bash sorted.sh one_or_more_filenames\n",
    "wc -l \"$@\" | sort -n\n",
    "~~~\n",
    "```"
   ]
  },
  {
   "cell_type": "code",
   "execution_count": null,
   "id": "36e8b7ee",
   "metadata": {},
   "outputs": [],
   "source": [
    "%%bash\n",
    "~~~\n",
    "$ bash sorted.sh *.pdb ../creatures/*.dat\n",
    "~~~"
   ]
  },
  {
   "cell_type": "markdown",
   "id": "dc52fc35",
   "metadata": {},
   "source": [
    "```\n",
    "~~~\n",
    "9 methane.pdb\n",
    "12 ethane.pdb\n",
    "15 propane.pdb\n",
    "20 cubane.pdb\n",
    "21 pentane.pdb\n",
    "30 octane.pdb\n",
    "163 ../creatures/basilisk.dat\n",
    "163 ../creatures/minotaur.dat\n",
    "163 ../creatures/unicorn.dat\n",
    "596 total\n",
    "~~~\n",
    "```"
   ]
  },
  {
   "cell_type": "code",
   "execution_count": null,
   "id": "b35e25d4",
   "metadata": {},
   "outputs": [],
   "source": [
    "%%bash\n",
    "> ~~~\n",
    "> 2013-11-05,deer,5\n",
    "> 2013-11-05,rabbit,22\n",
    "> 2013-11-05,raccoon,7\n",
    "> 2013-11-06,rabbit,19\n",
    "> 2013-11-06,deer,2\n",
    "> 2013-11-06,fox,1\n",
    "> 2013-11-07,rabbit,18\n",
    "> 2013-11-07,bear,1\n",
    "> ~~~"
   ]
  },
  {
   "cell_type": "markdown",
   "id": "387d92e6",
   "metadata": {},
   "source": [
    "```\n",
    "```"
   ]
  },
  {
   "cell_type": "code",
   "execution_count": null,
   "id": "ed01d5bc",
   "metadata": {},
   "outputs": [],
   "source": [
    "%%bash\n",
    "~~~\n",
    "$ history | tail -n 5 > redo-figure-3.sh\n",
    "~~~"
   ]
  },
  {
   "cell_type": "markdown",
   "id": "efca2d4d",
   "metadata": {},
   "source": [
    "```\n",
    "```\n",
    "\n",
    "```\n",
    "~~~\n",
    "297 bash goostats.sh NENE01729B.txt stats-NENE01729B.txt\n",
    "298 bash goodiff.sh stats-NENE01729B.txt /data/validated/01729.txt > 01729-differences.txt\n",
    "299 cut -d ',' -f 2-3 01729-differences.txt > 01729-time-series.txt\n",
    "300 ygraph --format scatter --color bw --borders none 01729-time-series.txt figure-3.png\n",
    "301 history | tail -n 5 > redo-figure-3.sh\n",
    "~~~\n",
    "```"
   ]
  },
  {
   "cell_type": "code",
   "execution_count": null,
   "id": "198ffcf5",
   "metadata": {},
   "outputs": [],
   "source": [
    "%%bash\n",
    "> ~~~\n",
    "> $ history | tail -n 5 > recent.sh\n",
    "> ~~~"
   ]
  },
  {
   "cell_type": "code",
   "execution_count": null,
   "id": "b7ca831d",
   "metadata": {},
   "outputs": [],
   "source": [
    "%%bash\n"
   ]
  },
  {
   "cell_type": "markdown",
   "id": "6b869efd",
   "metadata": {},
   "source": [
    "```\n",
    "```"
   ]
  },
  {
   "cell_type": "code",
   "execution_count": null,
   "id": "2228d69e",
   "metadata": {},
   "outputs": [],
   "source": [
    "%%bash\n",
    "~~~\n",
    "# Calculate stats for data files.\n",
    "for datafile in \"$@\"\n",
    "do\n",
    "echo $datafile\n",
    "bash goostats.sh $datafile stats-$datafile\n",
    "done\n",
    "~~~"
   ]
  },
  {
   "cell_type": "markdown",
   "id": "a62b2acf",
   "metadata": {},
   "source": [
    "```\n",
    "```"
   ]
  },
  {
   "cell_type": "code",
   "execution_count": null,
   "id": "af0c8246",
   "metadata": {},
   "outputs": [],
   "source": [
    "%%bash\n",
    "~~~\n",
    "$ bash do-stats.sh NENE*A.txt NENE*B.txt\n",
    "~~~"
   ]
  },
  {
   "cell_type": "markdown",
   "id": "6a1dca0e",
   "metadata": {},
   "source": [
    "```\n",
    "```"
   ]
  },
  {
   "cell_type": "code",
   "execution_count": null,
   "id": "16d4a54b",
   "metadata": {},
   "outputs": [],
   "source": [
    "%%bash\n",
    "~~~\n",
    "$ bash do-stats.sh NENE*A.txt NENE*B.txt | wc -l\n",
    "~~~"
   ]
  },
  {
   "cell_type": "markdown",
   "id": "60b8c92a",
   "metadata": {},
   "source": [
    "```\n",
    "```"
   ]
  },
  {
   "cell_type": "code",
   "execution_count": null,
   "id": "c0ba99be",
   "metadata": {},
   "outputs": [],
   "source": [
    "%%bash\n",
    "~~~\n",
    "# Calculate stats for Site A and Site B data files.\n",
    "for datafile in NENE*A.txt NENE*B.txt\n",
    "do\n",
    "echo $datafile\n",
    "bash goostats.sh $datafile stats-$datafile\n",
    "done\n",
    "~~~"
   ]
  },
  {
   "cell_type": "markdown",
   "id": "15109ca5",
   "metadata": {},
   "source": [
    "```\n",
    "```"
   ]
  },
  {
   "cell_type": "code",
   "execution_count": null,
   "id": "672421c1",
   "metadata": {},
   "outputs": [],
   "source": [
    "%%bash\n",
    "> ~~~\n",
    "> head -n $2 $1\n",
    "> tail -n $3 $1\n",
    "> ~~~"
   ]
  },
  {
   "cell_type": "markdown",
   "id": "19dd828c",
   "metadata": {},
   "source": [
    "```\n",
    "```"
   ]
  },
  {
   "cell_type": "code",
   "execution_count": null,
   "id": "918c7864",
   "metadata": {},
   "outputs": [],
   "source": [
    "%%bash\n",
    "> ~~~\n",
    "> bash script.sh '*.pdb' 1 1\n",
    "> ~~~"
   ]
  },
  {
   "cell_type": "code",
   "execution_count": null,
   "id": "0a9d2601",
   "metadata": {},
   "outputs": [],
   "source": [
    "%%bash\n"
   ]
  },
  {
   "cell_type": "markdown",
   "id": "e53f39df",
   "metadata": {},
   "source": [
    "```\n",
    "```"
   ]
  },
  {
   "cell_type": "code",
   "execution_count": null,
   "id": "4f384a6b",
   "metadata": {},
   "outputs": [],
   "source": [
    "%%bash\n",
    "> ~~~\n",
    "> $ bash longest.sh shell-lesson-data/exercise-data/proteins pdb\n",
    "> ~~~"
   ]
  },
  {
   "cell_type": "markdown",
   "id": "5cef2d53",
   "metadata": {},
   "source": [
    "```\n",
    "```"
   ]
  },
  {
   "cell_type": "code",
   "execution_count": null,
   "id": "57cdbd72",
   "metadata": {},
   "outputs": [],
   "source": [
    "%%bash\n",
    "> ~~~\n",
    "> $ bash longest.sh shell-lesson-data/exercise-data/writing txt\n",
    "> ~~~"
   ]
  },
  {
   "cell_type": "code",
   "execution_count": null,
   "id": "c7d75282",
   "metadata": {},
   "outputs": [],
   "source": [
    "%%bash\n"
   ]
  },
  {
   "cell_type": "markdown",
   "id": "2dffd8ed",
   "metadata": {},
   "source": [
    "```\n",
    "```"
   ]
  },
  {
   "cell_type": "code",
   "execution_count": null,
   "id": "c0659e00",
   "metadata": {},
   "outputs": [],
   "source": [
    "%%bash\n",
    "> ~~~\n",
    "> # Script 1\n",
    "> echo *.*\n",
    "> ~~~"
   ]
  },
  {
   "cell_type": "markdown",
   "id": "878ef8f8",
   "metadata": {},
   "source": [
    "```\n",
    "```"
   ]
  },
  {
   "cell_type": "code",
   "execution_count": null,
   "id": "c3fcc5bb",
   "metadata": {},
   "outputs": [],
   "source": [
    "%%bash\n",
    "> ~~~\n",
    "> # Script 2\n",
    "> for filename in $1 $2 $3\n",
    "> do\n",
    ">     cat $filename\n",
    "> done\n",
    "> ~~~"
   ]
  },
  {
   "cell_type": "markdown",
   "id": "83b61de0",
   "metadata": {},
   "source": [
    "```\n",
    "```"
   ]
  },
  {
   "cell_type": "code",
   "execution_count": null,
   "id": "efcf0e37",
   "metadata": {},
   "outputs": [],
   "source": [
    "%%bash\n",
    "> ~~~\n",
    "> # Script 3\n",
    "> echo $@.pdb\n",
    "> ~~~"
   ]
  },
  {
   "cell_type": "markdown",
   "id": "f086fa69",
   "metadata": {},
   "source": [
    "```\n",
    "```"
   ]
  },
  {
   "cell_type": "code",
   "execution_count": null,
   "id": "b58e8458",
   "metadata": {},
   "outputs": [],
   "source": [
    "%%bash\n",
    "> ~~~\n",
    "> # Calculate stats for data files.\n",
    "> for datafile in \"$@\"\n",
    "> do\n",
    ">     echo $datfile\n",
    ">     bash goostats.sh $datafile stats-$datafile\n",
    "> done\n",
    "> ~~~"
   ]
  },
  {
   "cell_type": "markdown",
   "id": "0bb78cbb",
   "metadata": {},
   "source": [
    "```\n",
    "```"
   ]
  },
  {
   "cell_type": "code",
   "execution_count": null,
   "id": "86742783",
   "metadata": {},
   "outputs": [],
   "source": [
    "%%bash\n",
    "> ~~~\n",
    "> $ bash do-errors.sh NENE*A.txt NENE*B.txt\n",
    "> ~~~"
   ]
  },
  {
   "cell_type": "markdown",
   "id": "ce111997",
   "metadata": {},
   "source": [
    "```\n",
    "```"
   ]
  },
  {
   "cell_type": "code",
   "execution_count": null,
   "id": "de923566",
   "metadata": {
    "lines_to_next_cell": 0
   },
   "outputs": [],
   "source": [
    "%%bash\n",
    "> ~~~\n",
    "> bash -x do-errors.sh NENE*A.txt NENE*B.txt\n",
    "> ~~~"
   ]
  },
  {
   "cell_type": "markdown",
   "id": "b2d5fc07",
   "metadata": {},
   "source": []
  }
 ],
 "metadata": {
  "jupytext": {
   "formats": "ipynb,md"
  },
  "kernelspec": {
   "display_name": "Python 3 (ipykernel)",
   "language": "python",
   "name": "python3"
  }
 },
 "nbformat": 4,
 "nbformat_minor": 5
}
