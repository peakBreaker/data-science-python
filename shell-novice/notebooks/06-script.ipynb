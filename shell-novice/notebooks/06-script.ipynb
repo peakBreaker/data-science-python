{
 "cells": [
  {
   "cell_type": "raw",
   "id": "0e51acfd",
   "metadata": {},
   "source": [
    "---\n",
    "\n",
    "---"
   ]
  },
  {
   "cell_type": "markdown",
   "id": "7e281a51",
   "metadata": {},
   "source": [
    "\n",
    "```\n",
    "```"
   ]
  },
  {
   "cell_type": "code",
   "execution_count": null,
   "id": "0b32788a",
   "metadata": {},
   "outputs": [],
   "source": [
    "%%bash\n",
    "$ cd molecules\n",
    "$ nano middle.sh"
   ]
  },
  {
   "cell_type": "markdown",
   "id": "b3f95dc6",
   "metadata": {},
   "source": [
    "```\n",
    "```"
   ]
  },
  {
   "cell_type": "code",
   "execution_count": null,
   "id": "bda70821",
   "metadata": {},
   "outputs": [],
   "source": [
    "%%bash\n",
    "head -n 15 octane.pdb | tail -n 5"
   ]
  },
  {
   "cell_type": "markdown",
   "id": "ab9f0200",
   "metadata": {},
   "source": [
    "```\n",
    "```"
   ]
  },
  {
   "cell_type": "code",
   "execution_count": null,
   "id": "89b0e428",
   "metadata": {},
   "outputs": [],
   "source": [
    "%%bash\n",
    "$ bash middle.sh"
   ]
  },
  {
   "cell_type": "markdown",
   "id": "d7f2d1f8",
   "metadata": {},
   "source": [
    "```\n",
    "ATOM      9  H           1      -4.502   0.681   0.785  1.00  0.00\n",
    "ATOM     10  H           1      -5.254  -0.243  -0.537  1.00  0.00\n",
    "ATOM     11  H           1      -4.357   1.252  -0.895  1.00  0.00\n",
    "ATOM     12  H           1      -3.009  -0.741  -1.467  1.00  0.00\n",
    "ATOM     13  H           1      -3.172  -1.337   0.206  1.00  0.00\n",
    "```"
   ]
  },
  {
   "cell_type": "code",
   "execution_count": null,
   "id": "35693b9c",
   "metadata": {},
   "outputs": [],
   "source": [
    "%%bash\n",
    "$ nano middle.sh"
   ]
  },
  {
   "cell_type": "markdown",
   "id": "1aef2198",
   "metadata": {},
   "source": [
    "```\n",
    "```\n",
    "\n",
    "```\n",
    "head -n 15 \"$1\" | tail -n 5\n",
    "```"
   ]
  },
  {
   "cell_type": "code",
   "execution_count": null,
   "id": "f80e7877",
   "metadata": {},
   "outputs": [],
   "source": [
    "%%bash\n",
    "$ bash middle.sh octane.pdb"
   ]
  },
  {
   "cell_type": "markdown",
   "id": "bee07f87",
   "metadata": {},
   "source": [
    "```\n",
    "ATOM      9  H           1      -4.502   0.681   0.785  1.00  0.00\n",
    "ATOM     10  H           1      -5.254  -0.243  -0.537  1.00  0.00\n",
    "ATOM     11  H           1      -4.357   1.252  -0.895  1.00  0.00\n",
    "ATOM     12  H           1      -3.009  -0.741  -1.467  1.00  0.00\n",
    "ATOM     13  H           1      -3.172  -1.337   0.206  1.00  0.00\n",
    "```"
   ]
  },
  {
   "cell_type": "code",
   "execution_count": null,
   "id": "7605fdcb",
   "metadata": {},
   "outputs": [],
   "source": [
    "%%bash\n",
    "$ bash middle.sh pentane.pdb"
   ]
  },
  {
   "cell_type": "markdown",
   "id": "ba65e139",
   "metadata": {},
   "source": [
    "```\n",
    "ATOM      9  H           1       1.324   0.350  -1.332  1.00  0.00\n",
    "ATOM     10  H           1       1.271   1.378   0.122  1.00  0.00\n",
    "ATOM     11  H           1      -0.074  -0.384   1.288  1.00  0.00\n",
    "ATOM     12  H           1      -0.048  -1.362  -0.205  1.00  0.00\n",
    "ATOM     13  H           1      -1.183   0.500  -1.412  1.00  0.00\n",
    "```"
   ]
  },
  {
   "cell_type": "code",
   "execution_count": null,
   "id": "61e03e99",
   "metadata": {},
   "outputs": [],
   "source": [
    "%%bash\n",
    "$ nano middle.sh"
   ]
  },
  {
   "cell_type": "markdown",
   "id": "29f0fc1c",
   "metadata": {},
   "source": [
    "```\n",
    "head -n \"$2\" \"$1\" | tail -n \"$3\"\n",
    "```"
   ]
  },
  {
   "cell_type": "code",
   "execution_count": null,
   "id": "0c83fe7b",
   "metadata": {},
   "outputs": [],
   "source": [
    "%%bash\n",
    "$ bash middle.sh pentane.pdb 15 5"
   ]
  },
  {
   "cell_type": "markdown",
   "id": "8097d2c9",
   "metadata": {},
   "source": [
    "```\n",
    "ATOM      9  H           1       1.324   0.350  -1.332  1.00  0.00\n",
    "ATOM     10  H           1       1.271   1.378   0.122  1.00  0.00\n",
    "ATOM     11  H           1      -0.074  -0.384   1.288  1.00  0.00\n",
    "ATOM     12  H           1      -0.048  -1.362  -0.205  1.00  0.00\n",
    "ATOM     13  H           1      -1.183   0.500  -1.412  1.00  0.00\n",
    "```"
   ]
  },
  {
   "cell_type": "code",
   "execution_count": null,
   "id": "3285455f",
   "metadata": {},
   "outputs": [],
   "source": [
    "%%bash\n",
    "$ bash middle.sh pentane.pdb 20 5"
   ]
  },
  {
   "cell_type": "markdown",
   "id": "d40df382",
   "metadata": {},
   "source": [
    "```\n",
    "ATOM     14  H           1      -1.259   1.420   0.112  1.00  0.00\n",
    "ATOM     15  H           1      -2.608  -0.407   1.130  1.00  0.00\n",
    "ATOM     16  H           1      -2.540  -1.303  -0.404  1.00  0.00\n",
    "ATOM     17  H           1      -3.393   0.254  -0.321  1.00  0.00\n",
    "TER      18              1\n",
    "```"
   ]
  },
  {
   "cell_type": "code",
   "execution_count": null,
   "id": "31d8f117",
   "metadata": {},
   "outputs": [],
   "source": [
    "%%bash\n",
    "$ nano middle.sh"
   ]
  },
  {
   "cell_type": "markdown",
   "id": "e68514c2",
   "metadata": {},
   "source": [
    "```\n",
    "# Select lines from the middle of a file.\n",
    "# Usage: bash middle.sh filename end_line num_lines\n",
    "head -n \"$2\" \"$1\" | tail -n \"$3\"\n",
    "```"
   ]
  },
  {
   "cell_type": "code",
   "execution_count": null,
   "id": "01b55cda",
   "metadata": {},
   "outputs": [],
   "source": [
    "%%bash\n",
    "$ wc -l *.pdb | sort -n"
   ]
  },
  {
   "cell_type": "markdown",
   "id": "cf010d0a",
   "metadata": {},
   "source": [
    "```\n",
    "```"
   ]
  },
  {
   "cell_type": "code",
   "execution_count": null,
   "id": "171726b9",
   "metadata": {},
   "outputs": [],
   "source": [
    "%%bash\n",
    "$ nano sorted.sh"
   ]
  },
  {
   "cell_type": "markdown",
   "id": "273b3f88",
   "metadata": {},
   "source": [
    "```\n",
    "# Sort files by their length.\n",
    "# Usage: bash sorted.sh one_or_more_filenames\n",
    "wc -l \"$@\" | sort -n\n",
    "```"
   ]
  },
  {
   "cell_type": "code",
   "execution_count": null,
   "id": "bc845f26",
   "metadata": {},
   "outputs": [],
   "source": [
    "%%bash\n",
    "$ bash sorted.sh *.pdb ../creatures/*.dat"
   ]
  },
  {
   "cell_type": "markdown",
   "id": "b44986e4",
   "metadata": {},
   "source": [
    "```\n",
    "9 methane.pdb\n",
    "12 ethane.pdb\n",
    "15 propane.pdb\n",
    "20 cubane.pdb\n",
    "21 pentane.pdb\n",
    "30 octane.pdb\n",
    "163 ../creatures/basilisk.dat\n",
    "163 ../creatures/minotaur.dat\n",
    "163 ../creatures/unicorn.dat\n",
    "596 total\n",
    "```"
   ]
  },
  {
   "cell_type": "code",
   "execution_count": null,
   "id": "979caf12",
   "metadata": {},
   "outputs": [],
   "source": [
    "%%bash\n",
    "> 2013-11-05,deer,5\n",
    "> 2013-11-05,rabbit,22\n",
    "> 2013-11-05,raccoon,7\n",
    "> 2013-11-06,rabbit,19\n",
    "> 2013-11-06,deer,2\n",
    "> 2013-11-06,fox,1\n",
    "> 2013-11-07,rabbit,18\n",
    "> 2013-11-07,bear,1"
   ]
  },
  {
   "cell_type": "markdown",
   "id": "77308753",
   "metadata": {},
   "source": [
    "```\n",
    "```"
   ]
  },
  {
   "cell_type": "code",
   "execution_count": null,
   "id": "66a836cd",
   "metadata": {},
   "outputs": [],
   "source": [
    "%%bash\n",
    "$ history | tail -n 5 > redo-figure-3.sh"
   ]
  },
  {
   "cell_type": "markdown",
   "id": "12eaaf1a",
   "metadata": {},
   "source": [
    "```\n",
    "```\n",
    "\n",
    "```\n",
    "297 bash goostats.sh NENE01729B.txt stats-NENE01729B.txt\n",
    "298 bash goodiff.sh stats-NENE01729B.txt /data/validated/01729.txt > 01729-differences.txt\n",
    "299 cut -d ',' -f 2-3 01729-differences.txt > 01729-time-series.txt\n",
    "300 ygraph --format scatter --color bw --borders none 01729-time-series.txt figure-3.png\n",
    "301 history | tail -n 5 > redo-figure-3.sh\n",
    "```"
   ]
  },
  {
   "cell_type": "code",
   "execution_count": null,
   "id": "9fc939f4",
   "metadata": {},
   "outputs": [],
   "source": [
    "%%bash\n",
    "> $ history | tail -n 5 > recent.sh"
   ]
  },
  {
   "cell_type": "code",
   "execution_count": null,
   "id": "6a1148f6",
   "metadata": {},
   "outputs": [],
   "source": [
    "%%bash\n"
   ]
  },
  {
   "cell_type": "markdown",
   "id": "7db71df1",
   "metadata": {},
   "source": [
    "```\n",
    "```"
   ]
  },
  {
   "cell_type": "code",
   "execution_count": null,
   "id": "95d22e38",
   "metadata": {},
   "outputs": [],
   "source": [
    "%%bash\n",
    "# Calculate stats for data files.\n",
    "for datafile in \"$@\"\n",
    "do\n",
    "echo $datafile\n",
    "bash goostats.sh $datafile stats-$datafile\n",
    "done"
   ]
  },
  {
   "cell_type": "markdown",
   "id": "545ad540",
   "metadata": {},
   "source": [
    "```\n",
    "```"
   ]
  },
  {
   "cell_type": "code",
   "execution_count": null,
   "id": "2e4502a8",
   "metadata": {},
   "outputs": [],
   "source": [
    "%%bash\n",
    "$ bash do-stats.sh NENE*A.txt NENE*B.txt"
   ]
  },
  {
   "cell_type": "markdown",
   "id": "588eb80a",
   "metadata": {},
   "source": [
    "```\n",
    "```"
   ]
  },
  {
   "cell_type": "code",
   "execution_count": null,
   "id": "02bb541c",
   "metadata": {},
   "outputs": [],
   "source": [
    "%%bash\n",
    "$ bash do-stats.sh NENE*A.txt NENE*B.txt | wc -l"
   ]
  },
  {
   "cell_type": "markdown",
   "id": "9a07efdb",
   "metadata": {},
   "source": [
    "```\n",
    "```"
   ]
  },
  {
   "cell_type": "code",
   "execution_count": null,
   "id": "a7f1fd74",
   "metadata": {},
   "outputs": [],
   "source": [
    "%%bash\n",
    "# Calculate stats for Site A and Site B data files.\n",
    "for datafile in NENE*A.txt NENE*B.txt\n",
    "do\n",
    "echo $datafile\n",
    "bash goostats.sh $datafile stats-$datafile\n",
    "done"
   ]
  },
  {
   "cell_type": "markdown",
   "id": "ba868d6c",
   "metadata": {},
   "source": [
    "```\n",
    "```"
   ]
  },
  {
   "cell_type": "code",
   "execution_count": null,
   "id": "80927f4c",
   "metadata": {},
   "outputs": [],
   "source": [
    "%%bash\n",
    "> head -n $2 $1\n",
    "> tail -n $3 $1"
   ]
  },
  {
   "cell_type": "markdown",
   "id": "17f24849",
   "metadata": {},
   "source": [
    "```\n",
    "```"
   ]
  },
  {
   "cell_type": "code",
   "execution_count": null,
   "id": "4ca54e49",
   "metadata": {},
   "outputs": [],
   "source": [
    "%%bash\n",
    "> bash script.sh '*.pdb' 1 1"
   ]
  },
  {
   "cell_type": "code",
   "execution_count": null,
   "id": "8e345292",
   "metadata": {},
   "outputs": [],
   "source": [
    "%%bash\n"
   ]
  },
  {
   "cell_type": "markdown",
   "id": "f9f320af",
   "metadata": {},
   "source": [
    "```\n",
    "```"
   ]
  },
  {
   "cell_type": "code",
   "execution_count": null,
   "id": "4d10c42d",
   "metadata": {},
   "outputs": [],
   "source": [
    "%%bash\n",
    "> $ bash longest.sh shell-lesson-data/exercise-data/proteins pdb"
   ]
  },
  {
   "cell_type": "markdown",
   "id": "b8d95d93",
   "metadata": {},
   "source": [
    "```\n",
    "```"
   ]
  },
  {
   "cell_type": "code",
   "execution_count": null,
   "id": "41edd54a",
   "metadata": {},
   "outputs": [],
   "source": [
    "%%bash\n",
    "> $ bash longest.sh shell-lesson-data/exercise-data/writing txt"
   ]
  },
  {
   "cell_type": "code",
   "execution_count": null,
   "id": "99b37ebc",
   "metadata": {},
   "outputs": [],
   "source": [
    "%%bash\n"
   ]
  },
  {
   "cell_type": "markdown",
   "id": "3f9d9499",
   "metadata": {},
   "source": [
    "```\n",
    "```"
   ]
  },
  {
   "cell_type": "code",
   "execution_count": null,
   "id": "726be510",
   "metadata": {},
   "outputs": [],
   "source": [
    "%%bash\n",
    "> # Script 1\n",
    "> echo *.*"
   ]
  },
  {
   "cell_type": "markdown",
   "id": "e35ea5f7",
   "metadata": {},
   "source": [
    "```\n",
    "```"
   ]
  },
  {
   "cell_type": "code",
   "execution_count": null,
   "id": "833cea77",
   "metadata": {},
   "outputs": [],
   "source": [
    "%%bash\n",
    "> # Script 2\n",
    "> for filename in $1 $2 $3\n",
    "> do\n",
    ">     cat $filename\n",
    "> done"
   ]
  },
  {
   "cell_type": "markdown",
   "id": "9e0e0cef",
   "metadata": {},
   "source": [
    "```\n",
    "```"
   ]
  },
  {
   "cell_type": "code",
   "execution_count": null,
   "id": "8471fbd7",
   "metadata": {},
   "outputs": [],
   "source": [
    "%%bash\n",
    "> # Script 3\n",
    "> echo $@.pdb"
   ]
  },
  {
   "cell_type": "markdown",
   "id": "eded7293",
   "metadata": {},
   "source": [
    "```\n",
    "```"
   ]
  },
  {
   "cell_type": "code",
   "execution_count": null,
   "id": "36404c2c",
   "metadata": {},
   "outputs": [],
   "source": [
    "%%bash\n",
    "> # Calculate stats for data files.\n",
    "> for datafile in \"$@\"\n",
    "> do\n",
    ">     echo $datfile\n",
    ">     bash goostats.sh $datafile stats-$datafile\n",
    "> done"
   ]
  },
  {
   "cell_type": "markdown",
   "id": "45b52b28",
   "metadata": {},
   "source": [
    "```\n",
    "```"
   ]
  },
  {
   "cell_type": "code",
   "execution_count": null,
   "id": "e9bb8b5d",
   "metadata": {},
   "outputs": [],
   "source": [
    "%%bash\n",
    "> $ bash do-errors.sh NENE*A.txt NENE*B.txt"
   ]
  },
  {
   "cell_type": "markdown",
   "id": "7c3458af",
   "metadata": {},
   "source": [
    "```\n",
    "```"
   ]
  },
  {
   "cell_type": "code",
   "execution_count": null,
   "id": "4c228128",
   "metadata": {
    "lines_to_next_cell": 0
   },
   "outputs": [],
   "source": [
    "%%bash\n",
    "> bash -x do-errors.sh NENE*A.txt NENE*B.txt"
   ]
  },
  {
   "cell_type": "markdown",
   "id": "b6cdec36",
   "metadata": {},
   "source": []
  }
 ],
 "metadata": {
  "jupytext": {
   "formats": "ipynb,md"
  },
  "kernelspec": {
   "display_name": "Python 3 (ipykernel)",
   "language": "python",
   "name": "python3"
  }
 },
 "nbformat": 4,
 "nbformat_minor": 5
}
