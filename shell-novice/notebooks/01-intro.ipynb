{
 "cells": [
  {
   "cell_type": "raw",
   "id": "7593379b",
   "metadata": {},
   "source": [
    "---\n",
    "\n",
    "---"
   ]
  },
  {
   "cell_type": "markdown",
   "id": "9ec90faf",
   "metadata": {},
   "source": [
    "\n",
    "```\n",
    "```"
   ]
  },
  {
   "cell_type": "code",
   "execution_count": null,
   "id": "f32ff0aa",
   "metadata": {},
   "outputs": [],
   "source": [
    "%%bash\n",
    "~~~\n",
    "$\n",
    "~~~"
   ]
  },
  {
   "cell_type": "markdown",
   "id": "f1fae02b",
   "metadata": {},
   "source": [
    "```\n",
    "```"
   ]
  },
  {
   "cell_type": "code",
   "execution_count": null,
   "id": "4aca8b1b",
   "metadata": {},
   "outputs": [],
   "source": [
    "%%bash\n",
    "~~~\n",
    "$ ls\n",
    "~~~"
   ]
  },
  {
   "cell_type": "markdown",
   "id": "bd166858",
   "metadata": {},
   "source": [
    "```\n",
    "~~~\n",
    "Desktop     Downloads   Movies      Pictures\n",
    "Documents   Library     Music       Public\n",
    "~~~\n",
    "```"
   ]
  },
  {
   "cell_type": "code",
   "execution_count": null,
   "id": "91b7ef04",
   "metadata": {
    "lines_to_next_cell": 0
   },
   "outputs": [],
   "source": [
    "%%bash\n",
    "> ~~~\n",
    "> $ ks\n",
    "> ~~~"
   ]
  },
  {
   "cell_type": "markdown",
   "id": "7448cc9d",
   "metadata": {},
   "source": []
  }
 ],
 "metadata": {
  "jupytext": {
   "formats": "ipynb,md"
  },
  "kernelspec": {
   "display_name": "Python 3 (ipykernel)",
   "language": "python",
   "name": "python3"
  }
 },
 "nbformat": 4,
 "nbformat_minor": 5
}
