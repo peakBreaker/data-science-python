{
 "cells": [
  {
   "cell_type": "raw",
   "id": "478cd000",
   "metadata": {},
   "source": [
    "---\n",
    "\n",
    "---"
   ]
  },
  {
   "cell_type": "markdown",
   "id": "f7880fce",
   "metadata": {},
   "source": [
    "\n",
    "```\n",
    "```"
   ]
  },
  {
   "cell_type": "code",
   "execution_count": null,
   "id": "54cdd6c6",
   "metadata": {},
   "outputs": [],
   "source": [
    "%%bash\n",
    "$"
   ]
  },
  {
   "cell_type": "markdown",
   "id": "49b7d76c",
   "metadata": {},
   "source": [
    "```\n",
    "```"
   ]
  },
  {
   "cell_type": "code",
   "execution_count": null,
   "id": "4836d758",
   "metadata": {},
   "outputs": [],
   "source": [
    "%%bash\n",
    "$ ls"
   ]
  },
  {
   "cell_type": "markdown",
   "id": "75444295",
   "metadata": {},
   "source": [
    "```\n",
    "Desktop     Downloads   Movies      Pictures\n",
    "Documents   Library     Music       Public\n",
    "```"
   ]
  },
  {
   "cell_type": "code",
   "execution_count": null,
   "id": "ae0b43b6",
   "metadata": {
    "lines_to_next_cell": 0
   },
   "outputs": [],
   "source": [
    "%%bash\n",
    "> $ ks"
   ]
  },
  {
   "cell_type": "markdown",
   "id": "38f5dfa2",
   "metadata": {},
   "source": []
  }
 ],
 "metadata": {
  "jupytext": {
   "formats": "ipynb,md"
  },
  "kernelspec": {
   "display_name": "Python 3 (ipykernel)",
   "language": "python",
   "name": "python3"
  }
 },
 "nbformat": 4,
 "nbformat_minor": 5
}
