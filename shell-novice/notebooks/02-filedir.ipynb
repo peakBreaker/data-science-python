{
 "cells": [
  {
   "cell_type": "raw",
   "id": "448d8cee",
   "metadata": {},
   "source": [
    "---\n",
    "\n",
    "---"
   ]
  },
  {
   "cell_type": "markdown",
   "id": "f8342772",
   "metadata": {},
   "source": [
    "\n",
    "```\n",
    "```"
   ]
  },
  {
   "cell_type": "code",
   "execution_count": null,
   "id": "d6c21a19",
   "metadata": {},
   "outputs": [],
   "source": [
    "%%bash\n",
    "~~~\n",
    "$ pwd\n",
    "~~~"
   ]
  },
  {
   "cell_type": "markdown",
   "id": "08e47913",
   "metadata": {},
   "source": [
    "```\n",
    "~~~\n",
    "/Users/nelle\n",
    "~~~\n",
    "```"
   ]
  },
  {
   "cell_type": "code",
   "execution_count": null,
   "id": "f6c91d0b",
   "metadata": {},
   "outputs": [],
   "source": [
    "%%bash\n",
    "~~~\n",
    "$ ls\n",
    "~~~"
   ]
  },
  {
   "cell_type": "markdown",
   "id": "d5ddd1b9",
   "metadata": {},
   "source": [
    "```\n",
    "~~~\n",
    "Applications Documents    Library      Music        Public\n",
    "Desktop      Downloads    Movies       Pictures\n",
    "~~~\n",
    "```"
   ]
  },
  {
   "cell_type": "code",
   "execution_count": null,
   "id": "9588c62a",
   "metadata": {},
   "outputs": [],
   "source": [
    "%%bash\n",
    "~~~\n",
    "$ ls -F\n",
    "~~~"
   ]
  },
  {
   "cell_type": "markdown",
   "id": "60f6c3a8",
   "metadata": {},
   "source": [
    "```\n",
    "~~~\n",
    "Applications/ Documents/    Library/      Music/        Public/\n",
    "Desktop/      Downloads/    Movies/       Pictures/\n",
    "~~~\n",
    "```"
   ]
  },
  {
   "cell_type": "code",
   "execution_count": null,
   "id": "06d8ac0a",
   "metadata": {},
   "outputs": [],
   "source": [
    "%%bash\n",
    "~~~\n",
    "$ ls --help\n",
    "~~~"
   ]
  },
  {
   "cell_type": "markdown",
   "id": "6f5cec1d",
   "metadata": {},
   "source": [
    "```\n",
    "```"
   ]
  },
  {
   "cell_type": "code",
   "execution_count": null,
   "id": "713ad688",
   "metadata": {},
   "outputs": [],
   "source": [
    "%%bash\n",
    "~~~\n",
    "$ man ls\n",
    "~~~"
   ]
  },
  {
   "cell_type": "markdown",
   "id": "5914d0f1",
   "metadata": {},
   "source": [
    "```\n",
    "```"
   ]
  },
  {
   "cell_type": "code",
   "execution_count": null,
   "id": "3db3211a",
   "metadata": {},
   "outputs": [],
   "source": [
    "%%bash\n",
    "~~~\n",
    "$ ls --help\n",
    "~~~"
   ]
  },
  {
   "cell_type": "markdown",
   "id": "c111df62",
   "metadata": {},
   "source": [
    "```\n",
    "~~~\n",
    "Usage: ls [OPTION]... [FILE]...\n",
    "List information about the FILEs (the current directory by default).\n",
    "Sort entries alphabetically if neither -cftuvSUX nor --sort is specified.\n",
    "Mandatory arguments to long options are mandatory for short options, too.\n",
    "-a, --all                  do not ignore entries starting with .\n",
    "-A, --almost-all           do not list implied . and ..\n",
    "--author               with -l, print the author of each file\n",
    "-b, --escape               print C-style escapes for nongraphic characters\n",
    "--block-size=SIZE      scale sizes by SIZE before printing them; e.g.,\n",
    "'--block-size=M' prints sizes in units of\n",
    "1,048,576 bytes; see SIZE format below\n",
    "-B, --ignore-backups       do not list implied entries ending with ~\n",
    "-c                         with -lt: sort by, and show, ctime (time of last\n",
    "modification of file status information);\n",
    "with -l: show ctime and sort by name;\n",
    "otherwise: sort by ctime, newest first\n",
    "-C                         list entries by columns\n",
    "--color[=WHEN]         colorize the output; WHEN can be 'always' (default\n",
    "if omitted), 'auto', or 'never'; more info below\n",
    "-d, --directory            list directories themselves, not their contents\n",
    "-D, --dired                generate output designed for Emacs' dired mode\n",
    "-f                         do not sort, enable -aU, disable -ls --color\n",
    "-F, --classify             append indicator (one of */=>@|) to entries\n",
    "...        ...        ...\n",
    "~~~\n",
    "```"
   ]
  },
  {
   "cell_type": "code",
   "execution_count": null,
   "id": "b064b11d",
   "metadata": {},
   "outputs": [],
   "source": [
    "%%bash\n",
    "> ~~~\n",
    "> $ ls -j\n",
    "> ~~~"
   ]
  },
  {
   "cell_type": "markdown",
   "id": "0995df91",
   "metadata": {},
   "source": [
    "```\n",
    "```\n",
    "\n",
    "```\n",
    "> ~~~\n",
    "> ls: invalid option -- 'j'\n",
    "> Try 'ls --help' for more information.\n",
    "> ~~~\n",
    "```"
   ]
  },
  {
   "cell_type": "code",
   "execution_count": null,
   "id": "788d0f38",
   "metadata": {},
   "outputs": [],
   "source": [
    "%%bash\n",
    "~~~\n",
    "$ man ls\n",
    "~~~"
   ]
  },
  {
   "cell_type": "markdown",
   "id": "f5dec3ab",
   "metadata": {},
   "source": [
    "```\n",
    "```"
   ]
  },
  {
   "cell_type": "code",
   "execution_count": null,
   "id": "2af022b1",
   "metadata": {},
   "outputs": [],
   "source": [
    "%%bash\n",
    "~~~\n",
    "$ ls -F Desktop\n",
    "~~~"
   ]
  },
  {
   "cell_type": "markdown",
   "id": "38651951",
   "metadata": {},
   "source": [
    "```\n",
    "~~~\n",
    "shell-lesson-data/\n",
    "~~~\n",
    "```"
   ]
  },
  {
   "cell_type": "code",
   "execution_count": null,
   "id": "458f4177",
   "metadata": {},
   "outputs": [],
   "source": [
    "%%bash\n",
    "~~~\n",
    "$ ls -F Desktop/shell-lesson-data\n",
    "~~~"
   ]
  },
  {
   "cell_type": "markdown",
   "id": "ed63fd7f",
   "metadata": {},
   "source": [
    "```\n",
    "~~~\n",
    "creatures/          molecules/          notes.txt           solar.pdf\n",
    "data/               north-pacific-gyre/ pizza.cfg           writing/\n",
    "~~~\n",
    "```"
   ]
  },
  {
   "cell_type": "code",
   "execution_count": null,
   "id": "bb013c1f",
   "metadata": {},
   "outputs": [],
   "source": [
    "%%bash\n",
    "~~~\n",
    "$ cd Desktop\n",
    "$ cd shell-lesson-data\n",
    "$ cd data\n",
    "~~~"
   ]
  },
  {
   "cell_type": "markdown",
   "id": "54f9c8fd",
   "metadata": {},
   "source": [
    "```\n",
    "```"
   ]
  },
  {
   "cell_type": "code",
   "execution_count": null,
   "id": "07d05475",
   "metadata": {},
   "outputs": [],
   "source": [
    "%%bash\n",
    "~~~\n",
    "$ pwd\n",
    "~~~"
   ]
  },
  {
   "cell_type": "markdown",
   "id": "095e8444",
   "metadata": {},
   "source": [
    "```\n",
    "~~~\n",
    "/Users/nelle/Desktop/shell-lesson-data/data\n",
    "~~~\n",
    "```"
   ]
  },
  {
   "cell_type": "code",
   "execution_count": null,
   "id": "59be8e91",
   "metadata": {},
   "outputs": [],
   "source": [
    "%%bash\n",
    "~~~\n",
    "$ ls -F\n",
    "~~~"
   ]
  },
  {
   "cell_type": "markdown",
   "id": "68003ef6",
   "metadata": {},
   "source": [
    "```\n",
    "~~~\n",
    "amino-acids.txt   elements/     pdb/\t        salmon.txt\n",
    "animals.txt       morse.txt     planets.txt     sunspot.txt\n",
    "~~~\n",
    "```"
   ]
  },
  {
   "cell_type": "code",
   "execution_count": null,
   "id": "e57f69d8",
   "metadata": {},
   "outputs": [],
   "source": [
    "%%bash\n",
    "~~~\n",
    "$ cd shell-lesson-data\n",
    "~~~"
   ]
  },
  {
   "cell_type": "markdown",
   "id": "b7f7dd31",
   "metadata": {},
   "source": [
    "```\n",
    "~~~\n",
    "-bash: cd: shell-lesson-data: No such file or directory\n",
    "~~~\n",
    "```"
   ]
  },
  {
   "cell_type": "code",
   "execution_count": null,
   "id": "f93f95a0",
   "metadata": {},
   "outputs": [],
   "source": [
    "%%bash\n",
    "~~~\n",
    "$ cd ..\n",
    "~~~"
   ]
  },
  {
   "cell_type": "markdown",
   "id": "633ccf16",
   "metadata": {},
   "source": [
    "```\n",
    "```"
   ]
  },
  {
   "cell_type": "code",
   "execution_count": null,
   "id": "e31db5b3",
   "metadata": {},
   "outputs": [],
   "source": [
    "%%bash\n",
    "~~~\n",
    "$ pwd\n",
    "~~~"
   ]
  },
  {
   "cell_type": "markdown",
   "id": "ef2093e4",
   "metadata": {},
   "source": [
    "```\n",
    "~~~\n",
    "/Users/nelle/Desktop/shell-lesson-data\n",
    "~~~\n",
    "```"
   ]
  },
  {
   "cell_type": "code",
   "execution_count": null,
   "id": "5f5e98ce",
   "metadata": {},
   "outputs": [],
   "source": [
    "%%bash\n",
    "~~~\n",
    "$ ls -F -a\n",
    "~~~"
   ]
  },
  {
   "cell_type": "markdown",
   "id": "fcaeae96",
   "metadata": {},
   "source": [
    "```\n",
    "~~~\n",
    "./   .bash_profile  data/       north-pacific-gyre/  pizza.cfg  thesis/\n",
    "../  creatures/     molecules/  notes.txt            solar.pdf  writing/\n",
    "~~~\n",
    "```"
   ]
  },
  {
   "cell_type": "code",
   "execution_count": null,
   "id": "51bb399e",
   "metadata": {},
   "outputs": [],
   "source": [
    "%%bash\n",
    "~~~\n",
    "$ cd\n",
    "~~~"
   ]
  },
  {
   "cell_type": "markdown",
   "id": "4d8c065f",
   "metadata": {},
   "source": [
    "```\n",
    "```"
   ]
  },
  {
   "cell_type": "code",
   "execution_count": null,
   "id": "ba4d60f2",
   "metadata": {},
   "outputs": [],
   "source": [
    "%%bash\n",
    "~~~\n",
    "$ pwd\n",
    "~~~"
   ]
  },
  {
   "cell_type": "markdown",
   "id": "226434fe",
   "metadata": {},
   "source": [
    "```\n",
    "~~~\n",
    "/Users/nelle\n",
    "~~~\n",
    "```"
   ]
  },
  {
   "cell_type": "code",
   "execution_count": null,
   "id": "84186947",
   "metadata": {},
   "outputs": [],
   "source": [
    "%%bash\n",
    "~~~\n",
    "$ cd Desktop/shell-lesson-data/data\n",
    "~~~"
   ]
  },
  {
   "cell_type": "markdown",
   "id": "29eb09d3",
   "metadata": {},
   "source": [
    "```\n",
    "```"
   ]
  },
  {
   "cell_type": "code",
   "execution_count": null,
   "id": "73f284a0",
   "metadata": {},
   "outputs": [],
   "source": [
    "%%bash\n",
    "~~~\n",
    "$ pwd\n",
    "~~~"
   ]
  },
  {
   "cell_type": "markdown",
   "id": "c9fa1138",
   "metadata": {},
   "source": [
    "```\n",
    "~~~\n",
    "/Users/nelle/Desktop/shell-lesson-data/data\n",
    "~~~\n",
    "```"
   ]
  },
  {
   "cell_type": "code",
   "execution_count": null,
   "id": "d45360f6",
   "metadata": {},
   "outputs": [],
   "source": [
    "%%bash\n",
    "~~~\n",
    "$ cd /Users/nelle/Desktop/shell-lesson-data\n",
    "~~~"
   ]
  },
  {
   "cell_type": "markdown",
   "id": "3a2c8097",
   "metadata": {},
   "source": [
    "```\n",
    "```"
   ]
  },
  {
   "cell_type": "code",
   "execution_count": null,
   "id": "f8188479",
   "metadata": {},
   "outputs": [],
   "source": [
    "%%bash\n",
    "> ~~~\n",
    "> $ cd ~/Desktop/shell-lesson-data\n",
    "> ~~~"
   ]
  },
  {
   "cell_type": "markdown",
   "id": "1bebb322",
   "metadata": {},
   "source": [
    "```\n",
    "```"
   ]
  },
  {
   "cell_type": "code",
   "execution_count": null,
   "id": "5e4e0577",
   "metadata": {},
   "outputs": [],
   "source": [
    "%%bash\n",
    "> ~~~\n",
    "> $ cd creatures\n",
    "> ~~~"
   ]
  },
  {
   "cell_type": "markdown",
   "id": "ef6331a8",
   "metadata": {},
   "source": [
    "```\n",
    "```"
   ]
  },
  {
   "cell_type": "code",
   "execution_count": null,
   "id": "d4d0c06d",
   "metadata": {},
   "outputs": [],
   "source": [
    "%%bash\n",
    "> ~~~\n",
    "> $ cd -\n",
    "> ~~~"
   ]
  },
  {
   "cell_type": "markdown",
   "id": "e25d09e7",
   "metadata": {},
   "source": [
    "```\n",
    "```\n",
    "\n",
    "```\n",
    "> ~~~\n",
    "> pnas_sub/ pnas_final/ original/\n",
    "> ~~~\n",
    "```"
   ]
  },
  {
   "cell_type": "code",
   "execution_count": null,
   "id": "bfd94934",
   "metadata": {},
   "outputs": [],
   "source": [
    "%%bash\n",
    "~~~\n",
    "$ ls -F /\n",
    "~~~"
   ]
  },
  {
   "cell_type": "markdown",
   "id": "01f69f61",
   "metadata": {},
   "source": [
    "```\n",
    "```\n",
    "\n",
    "```\n",
    "~~~\n",
    "$ ls -s Desktop/shell-lesson-data/data\n",
    "total 116\n",
    "4 amino-acids.txt   4 animals.txt   4 morse.txt  12 planets.txt  76 sunspot.txt\n",
    "4 animal-counts     4 elements      4 pdb         4 salmon.txt\n",
    "$ ls -S Desktop/shell-lesson-data/data\n",
    "sunspot.txt  animal-counts  pdb        amino-acids.txt  salmon.txt\n",
    "planets.txt  elements       morse.txt  animals.txt\n",
    "~~~\n",
    "```"
   ]
  },
  {
   "cell_type": "code",
   "execution_count": null,
   "id": "19e78ba1",
   "metadata": {},
   "outputs": [],
   "source": [
    "%%bash\n",
    "~~~\n",
    "$ ls -F /\n",
    "~~~"
   ]
  },
  {
   "cell_type": "markdown",
   "id": "1a067dd8",
   "metadata": {},
   "source": [
    "```\n",
    "~~~\n",
    "Applications/         System/\n",
    "Library/              Users/\n",
    "Network/              Volumes/\n",
    "~~~\n",
    "```"
   ]
  },
  {
   "cell_type": "code",
   "execution_count": null,
   "id": "bab335a3",
   "metadata": {},
   "outputs": [],
   "source": [
    "%%bash\n",
    "~~~\n",
    "$ ls north-pacific-gyre/2012-07-03/\n",
    "~~~"
   ]
  },
  {
   "cell_type": "markdown",
   "id": "a6550e4b",
   "metadata": {},
   "source": [
    "```\n",
    "```"
   ]
  },
  {
   "cell_type": "code",
   "execution_count": null,
   "id": "25ceefb2",
   "metadata": {},
   "outputs": [],
   "source": [
    "%%bash\n",
    "~~~\n",
    "$ ls nor\n",
    "~~~"
   ]
  },
  {
   "cell_type": "markdown",
   "id": "06b8fbf9",
   "metadata": {},
   "source": [
    "```\n",
    "```"
   ]
  },
  {
   "cell_type": "code",
   "execution_count": null,
   "id": "18c45b48",
   "metadata": {
    "lines_to_next_cell": 0
   },
   "outputs": [],
   "source": [
    "%%bash\n",
    "~~~\n",
    "$ ls north-pacific-gyre/\n",
    "~~~"
   ]
  },
  {
   "cell_type": "markdown",
   "id": "c8cc8fe0",
   "metadata": {},
   "source": []
  }
 ],
 "metadata": {
  "jupytext": {
   "formats": "ipynb,md"
  },
  "kernelspec": {
   "display_name": "Python 3 (ipykernel)",
   "language": "python",
   "name": "python3"
  }
 },
 "nbformat": 4,
 "nbformat_minor": 5
}
