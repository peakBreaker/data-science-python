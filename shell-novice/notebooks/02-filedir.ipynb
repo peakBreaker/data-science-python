{
 "cells": [
  {
   "cell_type": "raw",
   "id": "ba422774",
   "metadata": {},
   "source": [
    "---\n",
    "\n",
    "---"
   ]
  },
  {
   "cell_type": "markdown",
   "id": "faf60b07",
   "metadata": {},
   "source": [
    "\n",
    "```\n",
    "```"
   ]
  },
  {
   "cell_type": "code",
   "execution_count": null,
   "id": "7f956fc5",
   "metadata": {},
   "outputs": [],
   "source": [
    "%%bash\n",
    "$ pwd"
   ]
  },
  {
   "cell_type": "markdown",
   "id": "2d91b1fa",
   "metadata": {},
   "source": [
    "```\n",
    "/Users/nelle\n",
    "```"
   ]
  },
  {
   "cell_type": "code",
   "execution_count": null,
   "id": "76534419",
   "metadata": {},
   "outputs": [],
   "source": [
    "%%bash\n",
    "$ ls"
   ]
  },
  {
   "cell_type": "markdown",
   "id": "3db450e5",
   "metadata": {},
   "source": [
    "```\n",
    "Applications Documents    Library      Music        Public\n",
    "Desktop      Downloads    Movies       Pictures\n",
    "```"
   ]
  },
  {
   "cell_type": "code",
   "execution_count": null,
   "id": "3f190830",
   "metadata": {},
   "outputs": [],
   "source": [
    "%%bash\n",
    "$ ls -F"
   ]
  },
  {
   "cell_type": "markdown",
   "id": "3aac3b8c",
   "metadata": {},
   "source": [
    "```\n",
    "Applications/ Documents/    Library/      Music/        Public/\n",
    "Desktop/      Downloads/    Movies/       Pictures/\n",
    "```"
   ]
  },
  {
   "cell_type": "code",
   "execution_count": null,
   "id": "3ac72cd3",
   "metadata": {},
   "outputs": [],
   "source": [
    "%%bash\n",
    "$ ls --help"
   ]
  },
  {
   "cell_type": "markdown",
   "id": "9a5c512a",
   "metadata": {},
   "source": [
    "```\n",
    "```"
   ]
  },
  {
   "cell_type": "code",
   "execution_count": null,
   "id": "95bf3b19",
   "metadata": {},
   "outputs": [],
   "source": [
    "%%bash\n",
    "$ man ls"
   ]
  },
  {
   "cell_type": "markdown",
   "id": "45dbb464",
   "metadata": {},
   "source": [
    "```\n",
    "```"
   ]
  },
  {
   "cell_type": "code",
   "execution_count": null,
   "id": "0e4b1031",
   "metadata": {},
   "outputs": [],
   "source": [
    "%%bash\n",
    "$ ls --help"
   ]
  },
  {
   "cell_type": "markdown",
   "id": "b908fbd2",
   "metadata": {},
   "source": [
    "```\n",
    "Usage: ls [OPTION]... [FILE]...\n",
    "List information about the FILEs (the current directory by default).\n",
    "Sort entries alphabetically if neither -cftuvSUX nor --sort is specified.\n",
    "Mandatory arguments to long options are mandatory for short options, too.\n",
    "-a, --all                  do not ignore entries starting with .\n",
    "-A, --almost-all           do not list implied . and ..\n",
    "--author               with -l, print the author of each file\n",
    "-b, --escape               print C-style escapes for nongraphic characters\n",
    "--block-size=SIZE      scale sizes by SIZE before printing them; e.g.,\n",
    "'--block-size=M' prints sizes in units of\n",
    "1,048,576 bytes; see SIZE format below\n",
    "-B, --ignore-backups       do not list implied entries ending with ~\n",
    "-c                         with -lt: sort by, and show, ctime (time of last\n",
    "modification of file status information);\n",
    "with -l: show ctime and sort by name;\n",
    "otherwise: sort by ctime, newest first\n",
    "-C                         list entries by columns\n",
    "--color[=WHEN]         colorize the output; WHEN can be 'always' (default\n",
    "if omitted), 'auto', or 'never'; more info below\n",
    "-d, --directory            list directories themselves, not their contents\n",
    "-D, --dired                generate output designed for Emacs' dired mode\n",
    "-f                         do not sort, enable -aU, disable -ls --color\n",
    "-F, --classify             append indicator (one of */=>@|) to entries\n",
    "...        ...        ...\n",
    "```"
   ]
  },
  {
   "cell_type": "code",
   "execution_count": null,
   "id": "de5a0be6",
   "metadata": {},
   "outputs": [],
   "source": [
    "%%bash\n",
    "> $ ls -j"
   ]
  },
  {
   "cell_type": "markdown",
   "id": "7b74fc0d",
   "metadata": {},
   "source": [
    "```\n",
    "```\n",
    "\n",
    "```\n",
    "> ls: invalid option -- 'j'\n",
    "> Try 'ls --help' for more information.\n",
    "```"
   ]
  },
  {
   "cell_type": "code",
   "execution_count": null,
   "id": "cd2f50be",
   "metadata": {},
   "outputs": [],
   "source": [
    "%%bash\n",
    "$ man ls"
   ]
  },
  {
   "cell_type": "markdown",
   "id": "e6890143",
   "metadata": {},
   "source": [
    "```\n",
    "```"
   ]
  },
  {
   "cell_type": "code",
   "execution_count": null,
   "id": "f515dd07",
   "metadata": {},
   "outputs": [],
   "source": [
    "%%bash\n",
    "$ ls -F Desktop"
   ]
  },
  {
   "cell_type": "markdown",
   "id": "bd9ee8b9",
   "metadata": {},
   "source": [
    "```\n",
    "shell-lesson-data/\n",
    "```"
   ]
  },
  {
   "cell_type": "code",
   "execution_count": null,
   "id": "ff55e993",
   "metadata": {},
   "outputs": [],
   "source": [
    "%%bash\n",
    "$ ls -F Desktop/shell-lesson-data"
   ]
  },
  {
   "cell_type": "markdown",
   "id": "5891f654",
   "metadata": {},
   "source": [
    "```\n",
    "creatures/          molecules/          notes.txt           solar.pdf\n",
    "data/               north-pacific-gyre/ pizza.cfg           writing/\n",
    "```"
   ]
  },
  {
   "cell_type": "code",
   "execution_count": null,
   "id": "8c8b1010",
   "metadata": {},
   "outputs": [],
   "source": [
    "%%bash\n",
    "$ cd Desktop\n",
    "$ cd shell-lesson-data\n",
    "$ cd data"
   ]
  },
  {
   "cell_type": "markdown",
   "id": "b5ea439c",
   "metadata": {},
   "source": [
    "```\n",
    "```"
   ]
  },
  {
   "cell_type": "code",
   "execution_count": null,
   "id": "692f19ac",
   "metadata": {},
   "outputs": [],
   "source": [
    "%%bash\n",
    "$ pwd"
   ]
  },
  {
   "cell_type": "markdown",
   "id": "c293ab84",
   "metadata": {},
   "source": [
    "```\n",
    "/Users/nelle/Desktop/shell-lesson-data/data\n",
    "```"
   ]
  },
  {
   "cell_type": "code",
   "execution_count": null,
   "id": "fe9c16bd",
   "metadata": {},
   "outputs": [],
   "source": [
    "%%bash\n",
    "$ ls -F"
   ]
  },
  {
   "cell_type": "markdown",
   "id": "f03f7f65",
   "metadata": {},
   "source": [
    "```\n",
    "amino-acids.txt   elements/     pdb/\t        salmon.txt\n",
    "animals.txt       morse.txt     planets.txt     sunspot.txt\n",
    "```"
   ]
  },
  {
   "cell_type": "code",
   "execution_count": null,
   "id": "2d4d8a29",
   "metadata": {},
   "outputs": [],
   "source": [
    "%%bash\n",
    "$ cd shell-lesson-data"
   ]
  },
  {
   "cell_type": "markdown",
   "id": "e87b0445",
   "metadata": {},
   "source": [
    "```\n",
    "-bash: cd: shell-lesson-data: No such file or directory\n",
    "```"
   ]
  },
  {
   "cell_type": "code",
   "execution_count": null,
   "id": "4347c275",
   "metadata": {},
   "outputs": [],
   "source": [
    "%%bash\n",
    "$ cd .."
   ]
  },
  {
   "cell_type": "markdown",
   "id": "9f152c16",
   "metadata": {},
   "source": [
    "```\n",
    "```"
   ]
  },
  {
   "cell_type": "code",
   "execution_count": null,
   "id": "650ade85",
   "metadata": {},
   "outputs": [],
   "source": [
    "%%bash\n",
    "$ pwd"
   ]
  },
  {
   "cell_type": "markdown",
   "id": "9548da70",
   "metadata": {},
   "source": [
    "```\n",
    "/Users/nelle/Desktop/shell-lesson-data\n",
    "```"
   ]
  },
  {
   "cell_type": "code",
   "execution_count": null,
   "id": "e9eb9162",
   "metadata": {},
   "outputs": [],
   "source": [
    "%%bash\n",
    "$ ls -F -a"
   ]
  },
  {
   "cell_type": "markdown",
   "id": "812d5f71",
   "metadata": {},
   "source": [
    "```\n",
    "./   .bash_profile  data/       north-pacific-gyre/  pizza.cfg  thesis/\n",
    "../  creatures/     molecules/  notes.txt            solar.pdf  writing/\n",
    "```"
   ]
  },
  {
   "cell_type": "code",
   "execution_count": null,
   "id": "a3627e89",
   "metadata": {},
   "outputs": [],
   "source": [
    "%%bash\n",
    "$ cd"
   ]
  },
  {
   "cell_type": "markdown",
   "id": "92a86562",
   "metadata": {},
   "source": [
    "```\n",
    "```"
   ]
  },
  {
   "cell_type": "code",
   "execution_count": null,
   "id": "4e514331",
   "metadata": {},
   "outputs": [],
   "source": [
    "%%bash\n",
    "$ pwd"
   ]
  },
  {
   "cell_type": "markdown",
   "id": "da7e9617",
   "metadata": {},
   "source": [
    "```\n",
    "/Users/nelle\n",
    "```"
   ]
  },
  {
   "cell_type": "code",
   "execution_count": null,
   "id": "51ba5e0a",
   "metadata": {},
   "outputs": [],
   "source": [
    "%%bash\n",
    "$ cd Desktop/shell-lesson-data/data"
   ]
  },
  {
   "cell_type": "markdown",
   "id": "d4539df6",
   "metadata": {},
   "source": [
    "```\n",
    "```"
   ]
  },
  {
   "cell_type": "code",
   "execution_count": null,
   "id": "38ed896a",
   "metadata": {},
   "outputs": [],
   "source": [
    "%%bash\n",
    "$ pwd"
   ]
  },
  {
   "cell_type": "markdown",
   "id": "c54ab0ef",
   "metadata": {},
   "source": [
    "```\n",
    "/Users/nelle/Desktop/shell-lesson-data/data\n",
    "```"
   ]
  },
  {
   "cell_type": "code",
   "execution_count": null,
   "id": "d28cb09a",
   "metadata": {},
   "outputs": [],
   "source": [
    "%%bash\n",
    "$ cd /Users/nelle/Desktop/shell-lesson-data"
   ]
  },
  {
   "cell_type": "markdown",
   "id": "1f105148",
   "metadata": {},
   "source": [
    "```\n",
    "```"
   ]
  },
  {
   "cell_type": "code",
   "execution_count": null,
   "id": "9b05c50d",
   "metadata": {},
   "outputs": [],
   "source": [
    "%%bash\n",
    "> $ cd ~/Desktop/shell-lesson-data"
   ]
  },
  {
   "cell_type": "markdown",
   "id": "d92adad0",
   "metadata": {},
   "source": [
    "```\n",
    "```"
   ]
  },
  {
   "cell_type": "code",
   "execution_count": null,
   "id": "c7c267cd",
   "metadata": {},
   "outputs": [],
   "source": [
    "%%bash\n",
    "> $ cd creatures"
   ]
  },
  {
   "cell_type": "markdown",
   "id": "fa57d3ab",
   "metadata": {},
   "source": [
    "```\n",
    "```"
   ]
  },
  {
   "cell_type": "code",
   "execution_count": null,
   "id": "1cf99f3f",
   "metadata": {},
   "outputs": [],
   "source": [
    "%%bash\n",
    "> $ cd -"
   ]
  },
  {
   "cell_type": "markdown",
   "id": "acb9c8f0",
   "metadata": {},
   "source": [
    "```\n",
    "```\n",
    "\n",
    "```\n",
    "> pnas_sub/ pnas_final/ original/\n",
    "```"
   ]
  },
  {
   "cell_type": "code",
   "execution_count": null,
   "id": "adadfc3f",
   "metadata": {},
   "outputs": [],
   "source": [
    "%%bash\n",
    "$ ls -F /"
   ]
  },
  {
   "cell_type": "markdown",
   "id": "5610f429",
   "metadata": {},
   "source": [
    "```\n",
    "```\n",
    "\n",
    "```\n",
    "$ ls -s Desktop/shell-lesson-data/data\n",
    "total 116\n",
    "4 amino-acids.txt   4 animals.txt   4 morse.txt  12 planets.txt  76 sunspot.txt\n",
    "4 animal-counts     4 elements      4 pdb         4 salmon.txt\n",
    "$ ls -S Desktop/shell-lesson-data/data\n",
    "sunspot.txt  animal-counts  pdb        amino-acids.txt  salmon.txt\n",
    "planets.txt  elements       morse.txt  animals.txt\n",
    "```"
   ]
  },
  {
   "cell_type": "code",
   "execution_count": null,
   "id": "e1be6b90",
   "metadata": {},
   "outputs": [],
   "source": [
    "%%bash\n",
    "$ ls -F /"
   ]
  },
  {
   "cell_type": "markdown",
   "id": "3caa439f",
   "metadata": {},
   "source": [
    "```\n",
    "Applications/         System/\n",
    "Library/              Users/\n",
    "Network/              Volumes/\n",
    "```"
   ]
  },
  {
   "cell_type": "code",
   "execution_count": null,
   "id": "21710d7d",
   "metadata": {},
   "outputs": [],
   "source": [
    "%%bash\n",
    "$ ls north-pacific-gyre/2012-07-03/"
   ]
  },
  {
   "cell_type": "markdown",
   "id": "420b5dee",
   "metadata": {},
   "source": [
    "```\n",
    "```"
   ]
  },
  {
   "cell_type": "code",
   "execution_count": null,
   "id": "bf2cc8bf",
   "metadata": {},
   "outputs": [],
   "source": [
    "%%bash\n",
    "$ ls nor"
   ]
  },
  {
   "cell_type": "markdown",
   "id": "0c13092b",
   "metadata": {},
   "source": [
    "```\n",
    "```"
   ]
  },
  {
   "cell_type": "code",
   "execution_count": null,
   "id": "3ca62cc2",
   "metadata": {
    "lines_to_next_cell": 0
   },
   "outputs": [],
   "source": [
    "%%bash\n",
    "$ ls north-pacific-gyre/"
   ]
  },
  {
   "cell_type": "markdown",
   "id": "22a439e1",
   "metadata": {},
   "source": []
  }
 ],
 "metadata": {
  "jupytext": {
   "formats": "ipynb,md"
  },
  "kernelspec": {
   "display_name": "Python 3 (ipykernel)",
   "language": "python",
   "name": "python3"
  }
 },
 "nbformat": 4,
 "nbformat_minor": 5
}
