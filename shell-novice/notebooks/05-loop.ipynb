{
 "cells": [
  {
   "cell_type": "raw",
   "id": "34bbbb9e",
   "metadata": {},
   "source": [
    "---\n",
    "\n",
    "---"
   ]
  },
  {
   "cell_type": "markdown",
   "id": "f1bb420e",
   "metadata": {
    "lines_to_next_cell": 0
   },
   "source": []
  },
  {
   "cell_type": "code",
   "execution_count": null,
   "id": "aa6778d7",
   "metadata": {},
   "outputs": [],
   "source": [
    "%%bash\n"
   ]
  },
  {
   "cell_type": "code",
   "execution_count": null,
   "id": "75b70d7f",
   "metadata": {},
   "outputs": [],
   "source": [
    "%%bash\n"
   ]
  },
  {
   "cell_type": "code",
   "execution_count": null,
   "id": "e23f5c28",
   "metadata": {},
   "outputs": [],
   "source": [
    "%%bash\n"
   ]
  },
  {
   "cell_type": "markdown",
   "id": "05751f5e",
   "metadata": {},
   "source": [
    "```\n",
    "```"
   ]
  },
  {
   "cell_type": "code",
   "execution_count": null,
   "id": "b4a64f3f",
   "metadata": {},
   "outputs": [],
   "source": [
    "%%bash\n",
    "$ for x in basilisk.dat minotaur.dat unicorn.dat\n",
    "> do\n",
    ">     head -n 2 $x | tail -n 1\n",
    "> done"
   ]
  },
  {
   "cell_type": "markdown",
   "id": "b2a10116",
   "metadata": {},
   "source": [
    "```\n",
    "```"
   ]
  },
  {
   "cell_type": "code",
   "execution_count": null,
   "id": "400e3de4",
   "metadata": {},
   "outputs": [],
   "source": [
    "%%bash\n",
    "$ for temperature in basilisk.dat minotaur.dat unicorn.dat\n",
    "> do\n",
    ">     head -n 2 $temperature | tail -n 1\n",
    "> done"
   ]
  },
  {
   "cell_type": "markdown",
   "id": "0a861a92",
   "metadata": {},
   "source": [
    "```\n",
    "```\n",
    "\n",
    "```\n",
    "> cubane.pdb  ethane.pdb  methane.pdb  octane.pdb  pentane.pdb  propane.pdb\n",
    "```"
   ]
  },
  {
   "cell_type": "code",
   "execution_count": null,
   "id": "4f6d3900",
   "metadata": {},
   "outputs": [],
   "source": [
    "%%bash\n",
    "> $ for datafile in *.pdb\n",
    "> > do\n",
    "> >     ls *.pdb\n",
    "> > done"
   ]
  },
  {
   "cell_type": "markdown",
   "id": "48b91533",
   "metadata": {},
   "source": [
    "```\n",
    "```"
   ]
  },
  {
   "cell_type": "code",
   "execution_count": null,
   "id": "9460d8d8",
   "metadata": {},
   "outputs": [],
   "source": [
    "%%bash\n",
    "> $ for datafile in *.pdb\n",
    "> > do\n",
    "> >\tls $datafile\n",
    "> > done"
   ]
  },
  {
   "cell_type": "code",
   "execution_count": null,
   "id": "f97ecc56",
   "metadata": {},
   "outputs": [],
   "source": [
    "%%bash\n"
   ]
  },
  {
   "cell_type": "markdown",
   "id": "af206711",
   "metadata": {},
   "source": [
    "```\n",
    "```"
   ]
  },
  {
   "cell_type": "code",
   "execution_count": null,
   "id": "bcfd62ff",
   "metadata": {},
   "outputs": [],
   "source": [
    "%%bash\n",
    "> $ for filename in c*\n",
    "> > do\n",
    "> >     ls $filename\n",
    "> > done"
   ]
  },
  {
   "cell_type": "markdown",
   "id": "b4b82c36",
   "metadata": {},
   "source": [
    "```\n",
    "```"
   ]
  },
  {
   "cell_type": "code",
   "execution_count": null,
   "id": "d4d9af5a",
   "metadata": {},
   "outputs": [],
   "source": [
    "%%bash\n",
    "> $ for filename in *c*\n",
    "> > do\n",
    "> >     ls $filename\n",
    "> > done"
   ]
  },
  {
   "cell_type": "markdown",
   "id": "8be69670",
   "metadata": {},
   "source": [
    "```\n",
    "```"
   ]
  },
  {
   "cell_type": "code",
   "execution_count": null,
   "id": "2f7a6646",
   "metadata": {},
   "outputs": [],
   "source": [
    "%%bash\n",
    "> for alkanes in *.pdb\n",
    "> do\n",
    ">     echo $alkanes\n",
    ">     cat $alkanes > alkanes.pdb\n",
    "> done"
   ]
  },
  {
   "cell_type": "markdown",
   "id": "9f6a89e8",
   "metadata": {},
   "source": [
    "```\n",
    "```"
   ]
  },
  {
   "cell_type": "code",
   "execution_count": null,
   "id": "ac236904",
   "metadata": {},
   "outputs": [],
   "source": [
    "%%bash\n",
    "> for datafile in *.pdb\n",
    "> do\n",
    ">     cat $datafile >> all.pdb\n",
    "> done"
   ]
  },
  {
   "cell_type": "markdown",
   "id": "804686ad",
   "metadata": {},
   "source": [
    "```\n",
    "```"
   ]
  },
  {
   "cell_type": "code",
   "execution_count": null,
   "id": "1d652ed9",
   "metadata": {},
   "outputs": [],
   "source": [
    "%%bash\n",
    "$ for filename in *.dat\n",
    "> do\n",
    ">     echo $filename\n",
    ">     head -n 100 $filename | tail -n 20\n",
    "> done"
   ]
  },
  {
   "cell_type": "markdown",
   "id": "35768f1e",
   "metadata": {},
   "source": [
    "```\n",
    "```"
   ]
  },
  {
   "cell_type": "code",
   "execution_count": null,
   "id": "bc9e5987",
   "metadata": {},
   "outputs": [],
   "source": [
    "%%bash\n",
    "$ echo hello there"
   ]
  },
  {
   "cell_type": "markdown",
   "id": "f20f22b6",
   "metadata": {},
   "source": [
    "```\n",
    "```\n",
    "\n",
    "```\n",
    "hello there\n",
    "```"
   ]
  },
  {
   "cell_type": "code",
   "execution_count": null,
   "id": "eefbfa7b",
   "metadata": {},
   "outputs": [],
   "source": [
    "%%bash\n",
    "$ for filename in *.dat\n",
    "> do\n",
    ">     $filename\n",
    ">     head -n 100 $filename | tail -n 20\n",
    "> done"
   ]
  },
  {
   "cell_type": "markdown",
   "id": "d5284a87",
   "metadata": {},
   "source": [
    "```\n",
    "```\n",
    "\n",
    "```\n",
    "> red dragon.dat\n",
    "> purple unicorn.dat\n",
    "```"
   ]
  },
  {
   "cell_type": "code",
   "execution_count": null,
   "id": "bfe6d0b2",
   "metadata": {},
   "outputs": [],
   "source": [
    "%%bash\n",
    "> $ for filename in \"red dragon.dat\" \"purple unicorn.dat\"\n",
    "> > do\n",
    "> >     head -n 100 \"$filename\" | tail -n 20\n",
    "> > done"
   ]
  },
  {
   "cell_type": "markdown",
   "id": "58b44919",
   "metadata": {},
   "source": [
    "```\n",
    "```\n",
    "\n",
    "```\n",
    "> head: cannot open ‘red dragon.dat’ for reading: No such file or directory\n",
    "> head: cannot open ‘purple unicorn.dat’ for reading: No such file or directory\n",
    "```\n",
    "\n",
    "```\n",
    "> head: cannot open ‘red’ for reading: No such file or directory\n",
    "> head: cannot open ‘dragon.dat’ for reading: No such file or directory\n",
    "> head: cannot open ‘purple’ for reading: No such file or directory\n",
    "> CGGTACCGAA\n",
    "> AAGGGTCGCG\n",
    "> CAAGTGTTCC\n",
    "> ...\n",
    "```"
   ]
  },
  {
   "cell_type": "code",
   "execution_count": null,
   "id": "dd62f37b",
   "metadata": {},
   "outputs": [],
   "source": [
    "%%bash\n",
    "$ cp *.dat original-*.dat"
   ]
  },
  {
   "cell_type": "markdown",
   "id": "98281775",
   "metadata": {},
   "source": [
    "```\n",
    "```"
   ]
  },
  {
   "cell_type": "code",
   "execution_count": null,
   "id": "1b6da911",
   "metadata": {},
   "outputs": [],
   "source": [
    "%%bash\n",
    "$ cp basilisk.dat minotaur.dat unicorn.dat original-*.dat"
   ]
  },
  {
   "cell_type": "markdown",
   "id": "5106bf9a",
   "metadata": {},
   "source": [
    "```\n",
    "```\n",
    "\n",
    "```\n",
    "cp: target `original-*.dat' is not a directory\n",
    "```"
   ]
  },
  {
   "cell_type": "code",
   "execution_count": null,
   "id": "c60147cf",
   "metadata": {},
   "outputs": [],
   "source": [
    "%%bash\n",
    "$ for filename in *.dat\n",
    "> do\n",
    ">     cp $filename original-$filename\n",
    "> done"
   ]
  },
  {
   "cell_type": "markdown",
   "id": "9d06c935",
   "metadata": {},
   "source": [
    "```\n",
    "```"
   ]
  },
  {
   "cell_type": "code",
   "execution_count": null,
   "id": "6b5fe56e",
   "metadata": {},
   "outputs": [],
   "source": [
    "%%bash\n",
    "cp basilisk.dat original-basilisk.dat"
   ]
  },
  {
   "cell_type": "markdown",
   "id": "6ed62172",
   "metadata": {},
   "source": [
    "```\n",
    "```"
   ]
  },
  {
   "cell_type": "code",
   "execution_count": null,
   "id": "381fad48",
   "metadata": {},
   "outputs": [],
   "source": [
    "%%bash\n",
    "cp minotaur.dat original-minotaur.dat"
   ]
  },
  {
   "cell_type": "markdown",
   "id": "89a329af",
   "metadata": {},
   "source": [
    "```\n",
    "```"
   ]
  },
  {
   "cell_type": "code",
   "execution_count": null,
   "id": "4aaee105",
   "metadata": {},
   "outputs": [],
   "source": [
    "%%bash\n",
    "cp unicorn.dat original-unicorn.dat"
   ]
  },
  {
   "cell_type": "markdown",
   "id": "59d4a09e",
   "metadata": {},
   "source": [
    "```\n",
    "```"
   ]
  },
  {
   "cell_type": "code",
   "execution_count": null,
   "id": "46cebc30",
   "metadata": {},
   "outputs": [],
   "source": [
    "%%bash\n",
    "$ cd north-pacific-gyre/2012-07-03\n",
    "$ for datafile in NENE*A.txt NENE*B.txt\n",
    "> do\n",
    ">     echo $datafile\n",
    "> done"
   ]
  },
  {
   "cell_type": "markdown",
   "id": "babd31e7",
   "metadata": {},
   "source": [
    "```\n",
    "NENE01729A.txt\n",
    "NENE01729B.txt\n",
    "NENE01736A.txt\n",
    "...\n",
    "NENE02043A.txt\n",
    "NENE02043B.txt\n",
    "```"
   ]
  },
  {
   "cell_type": "code",
   "execution_count": null,
   "id": "c37c8900",
   "metadata": {},
   "outputs": [],
   "source": [
    "%%bash\n",
    "$ for datafile in NENE*A.txt NENE*B.txt\n",
    "> do\n",
    ">     echo $datafile stats-$datafile\n",
    "> done"
   ]
  },
  {
   "cell_type": "markdown",
   "id": "2681c53d",
   "metadata": {},
   "source": [
    "```\n",
    "NENE01729A.txt stats-NENE01729A.txt\n",
    "NENE01729B.txt stats-NENE01729B.txt\n",
    "NENE01736A.txt stats-NENE01736A.txt\n",
    "...\n",
    "NENE02043A.txt stats-NENE02043A.txt\n",
    "NENE02043B.txt stats-NENE02043B.txt\n",
    "```"
   ]
  },
  {
   "cell_type": "code",
   "execution_count": null,
   "id": "4a019a44",
   "metadata": {},
   "outputs": [],
   "source": [
    "%%bash\n",
    "$ for datafile in NENE*A.txt NENE*B.txt; do echo $datafile stats-$datafile; done"
   ]
  },
  {
   "cell_type": "markdown",
   "id": "987dac37",
   "metadata": {},
   "source": [
    "```\n",
    "```"
   ]
  },
  {
   "cell_type": "code",
   "execution_count": null,
   "id": "c84571d5",
   "metadata": {},
   "outputs": [],
   "source": [
    "%%bash\n",
    "$ for datafile in NENE*A.txt NENE*B.txt; do bash goostats.sh $datafile stats-$datafile; done"
   ]
  },
  {
   "cell_type": "markdown",
   "id": "09cd7eea",
   "metadata": {},
   "source": [
    "```\n",
    "```"
   ]
  },
  {
   "cell_type": "code",
   "execution_count": null,
   "id": "8a394634",
   "metadata": {},
   "outputs": [],
   "source": [
    "%%bash\n",
    "$ for datafile in NENE*A.txt NENE*B.txt; do echo $datafile;\n",
    "bash goostats.sh $datafile stats-$datafile; done"
   ]
  },
  {
   "cell_type": "markdown",
   "id": "9ec765c5",
   "metadata": {},
   "source": [
    "```\n",
    "```\n",
    "\n",
    "```\n",
    "NENE01729A.txt\n",
    "NENE01729B.txt\n",
    "NENE01736A.txt\n",
    "...\n",
    "```"
   ]
  },
  {
   "cell_type": "code",
   "execution_count": null,
   "id": "cce67b7b",
   "metadata": {},
   "outputs": [],
   "source": [
    "%%bash\n",
    "> $ history | tail -n 5"
   ]
  },
  {
   "cell_type": "markdown",
   "id": "37daacbe",
   "metadata": {},
   "source": [
    "```\n",
    ">   456  ls -l NENE0*.txt\n",
    ">   457  rm stats-NENE01729B.txt.txt\n",
    ">   458  bash goostats.sh NENE01729B.txt stats-NENE01729B.txt\n",
    ">   459  ls -l NENE0*.txt\n",
    ">   460  history\n",
    "```"
   ]
  },
  {
   "cell_type": "code",
   "execution_count": null,
   "id": "36dabdd9",
   "metadata": {},
   "outputs": [],
   "source": [
    "%%bash\n",
    "> $ for datafile in *.pdb\n",
    "> > do\n",
    "> >     cat $datafile >> all.pdb\n",
    "> > done"
   ]
  },
  {
   "cell_type": "markdown",
   "id": "43a878d6",
   "metadata": {},
   "source": [
    "```\n",
    "```"
   ]
  },
  {
   "cell_type": "code",
   "execution_count": null,
   "id": "77c0e648",
   "metadata": {},
   "outputs": [],
   "source": [
    "%%bash\n",
    "> # Version 1\n",
    "> $ for datafile in *.pdb\n",
    "> > do\n",
    "> >     echo cat $datafile >> all.pdb\n",
    "> > done"
   ]
  },
  {
   "cell_type": "markdown",
   "id": "73641790",
   "metadata": {},
   "source": [
    "```\n",
    "```"
   ]
  },
  {
   "cell_type": "code",
   "execution_count": null,
   "id": "e5a054d2",
   "metadata": {},
   "outputs": [],
   "source": [
    "%%bash\n",
    "> # Version 2\n",
    "> $ for datafile in *.pdb\n",
    "> > do\n",
    "> >     echo \"cat $datafile >> all.pdb\"\n",
    "> > done"
   ]
  },
  {
   "cell_type": "markdown",
   "id": "049d8a8b",
   "metadata": {},
   "source": [
    "```\n",
    "```"
   ]
  },
  {
   "cell_type": "code",
   "execution_count": null,
   "id": "81edb353",
   "metadata": {
    "lines_to_next_cell": 0
   },
   "outputs": [],
   "source": [
    "%%bash\n",
    "> $ for species in cubane ethane methane\n",
    "> > do\n",
    "> >     for temperature in 25 30 37 40\n",
    "> >     do\n",
    "> >         mkdir $species-$temperature\n",
    "> >     done\n",
    "> > done"
   ]
  },
  {
   "cell_type": "markdown",
   "id": "a6e73c95",
   "metadata": {},
   "source": []
  }
 ],
 "metadata": {
  "jupytext": {
   "formats": "ipynb,md"
  },
  "kernelspec": {
   "display_name": "Python 3 (ipykernel)",
   "language": "python",
   "name": "python3"
  }
 },
 "nbformat": 4,
 "nbformat_minor": 5
}
