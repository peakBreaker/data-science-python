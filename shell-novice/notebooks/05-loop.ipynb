{
 "cells": [
  {
   "cell_type": "raw",
   "id": "92eb7892",
   "metadata": {},
   "source": [
    "---\n",
    "\n",
    "---"
   ]
  },
  {
   "cell_type": "markdown",
   "id": "3fa066e4",
   "metadata": {
    "lines_to_next_cell": 0
   },
   "source": []
  },
  {
   "cell_type": "code",
   "execution_count": null,
   "id": "ee1b4e7c",
   "metadata": {},
   "outputs": [],
   "source": [
    "%%bash\n"
   ]
  },
  {
   "cell_type": "code",
   "execution_count": null,
   "id": "217361ca",
   "metadata": {},
   "outputs": [],
   "source": [
    "%%bash\n"
   ]
  },
  {
   "cell_type": "code",
   "execution_count": null,
   "id": "e61ac5d2",
   "metadata": {},
   "outputs": [],
   "source": [
    "%%bash\n"
   ]
  },
  {
   "cell_type": "markdown",
   "id": "de1abca0",
   "metadata": {},
   "source": [
    "```\n",
    "```"
   ]
  },
  {
   "cell_type": "code",
   "execution_count": null,
   "id": "c2c8f3ab",
   "metadata": {},
   "outputs": [],
   "source": [
    "%%bash\n",
    "~~~\n",
    "$ for x in basilisk.dat minotaur.dat unicorn.dat\n",
    "> do\n",
    ">     head -n 2 $x | tail -n 1\n",
    "> done\n",
    "~~~"
   ]
  },
  {
   "cell_type": "markdown",
   "id": "de413032",
   "metadata": {},
   "source": [
    "```\n",
    "```"
   ]
  },
  {
   "cell_type": "code",
   "execution_count": null,
   "id": "1806ab38",
   "metadata": {},
   "outputs": [],
   "source": [
    "%%bash\n",
    "~~~\n",
    "$ for temperature in basilisk.dat minotaur.dat unicorn.dat\n",
    "> do\n",
    ">     head -n 2 $temperature | tail -n 1\n",
    "> done\n",
    "~~~"
   ]
  },
  {
   "cell_type": "markdown",
   "id": "8394c3d7",
   "metadata": {},
   "source": [
    "```\n",
    "```\n",
    "\n",
    "```\n",
    "> ~~~\n",
    "> cubane.pdb  ethane.pdb  methane.pdb  octane.pdb  pentane.pdb  propane.pdb\n",
    "> ~~~\n",
    "```"
   ]
  },
  {
   "cell_type": "code",
   "execution_count": null,
   "id": "604b91a8",
   "metadata": {},
   "outputs": [],
   "source": [
    "%%bash\n",
    "> ~~~\n",
    "> $ for datafile in *.pdb\n",
    "> > do\n",
    "> >     ls *.pdb\n",
    "> > done\n",
    "> ~~~"
   ]
  },
  {
   "cell_type": "markdown",
   "id": "17ca1219",
   "metadata": {},
   "source": [
    "```\n",
    "```"
   ]
  },
  {
   "cell_type": "code",
   "execution_count": null,
   "id": "1fe9f3aa",
   "metadata": {},
   "outputs": [],
   "source": [
    "%%bash\n",
    "> ~~~\n",
    "> $ for datafile in *.pdb\n",
    "> > do\n",
    "> >\tls $datafile\n",
    "> > done\n",
    "> ~~~"
   ]
  },
  {
   "cell_type": "code",
   "execution_count": null,
   "id": "0b089f0b",
   "metadata": {},
   "outputs": [],
   "source": [
    "%%bash\n"
   ]
  },
  {
   "cell_type": "markdown",
   "id": "9e1aa206",
   "metadata": {},
   "source": [
    "```\n",
    "```"
   ]
  },
  {
   "cell_type": "code",
   "execution_count": null,
   "id": "9e738f77",
   "metadata": {},
   "outputs": [],
   "source": [
    "%%bash\n",
    "> ~~~\n",
    "> $ for filename in c*\n",
    "> > do\n",
    "> >     ls $filename\n",
    "> > done\n",
    "> ~~~"
   ]
  },
  {
   "cell_type": "markdown",
   "id": "8135b8b0",
   "metadata": {},
   "source": [
    "```\n",
    "```"
   ]
  },
  {
   "cell_type": "code",
   "execution_count": null,
   "id": "6c742383",
   "metadata": {},
   "outputs": [],
   "source": [
    "%%bash\n",
    "> ~~~\n",
    "> $ for filename in *c*\n",
    "> > do\n",
    "> >     ls $filename\n",
    "> > done\n",
    "> ~~~"
   ]
  },
  {
   "cell_type": "markdown",
   "id": "373de98a",
   "metadata": {},
   "source": [
    "```\n",
    "```"
   ]
  },
  {
   "cell_type": "code",
   "execution_count": null,
   "id": "ddee2d97",
   "metadata": {},
   "outputs": [],
   "source": [
    "%%bash\n",
    "> ~~~\n",
    "> for alkanes in *.pdb\n",
    "> do\n",
    ">     echo $alkanes\n",
    ">     cat $alkanes > alkanes.pdb\n",
    "> done\n",
    "> ~~~"
   ]
  },
  {
   "cell_type": "markdown",
   "id": "0a96d808",
   "metadata": {},
   "source": [
    "```\n",
    "```"
   ]
  },
  {
   "cell_type": "code",
   "execution_count": null,
   "id": "f20ffb9b",
   "metadata": {},
   "outputs": [],
   "source": [
    "%%bash\n",
    "> ~~~\n",
    "> for datafile in *.pdb\n",
    "> do\n",
    ">     cat $datafile >> all.pdb\n",
    "> done\n",
    "> ~~~"
   ]
  },
  {
   "cell_type": "markdown",
   "id": "be214d6f",
   "metadata": {},
   "source": [
    "```\n",
    "```"
   ]
  },
  {
   "cell_type": "code",
   "execution_count": null,
   "id": "b71dc6b7",
   "metadata": {},
   "outputs": [],
   "source": [
    "%%bash\n",
    "~~~\n",
    "$ for filename in *.dat\n",
    "> do\n",
    ">     echo $filename\n",
    ">     head -n 100 $filename | tail -n 20\n",
    "> done\n",
    "~~~"
   ]
  },
  {
   "cell_type": "markdown",
   "id": "158ad21f",
   "metadata": {},
   "source": [
    "```\n",
    "```"
   ]
  },
  {
   "cell_type": "code",
   "execution_count": null,
   "id": "f5a18ca4",
   "metadata": {},
   "outputs": [],
   "source": [
    "%%bash\n",
    "~~~\n",
    "$ echo hello there\n",
    "~~~"
   ]
  },
  {
   "cell_type": "markdown",
   "id": "6da75fbb",
   "metadata": {},
   "source": [
    "```\n",
    "```\n",
    "\n",
    "```\n",
    "~~~\n",
    "hello there\n",
    "~~~\n",
    "```"
   ]
  },
  {
   "cell_type": "code",
   "execution_count": null,
   "id": "63cf3ed3",
   "metadata": {},
   "outputs": [],
   "source": [
    "%%bash\n",
    "~~~\n",
    "$ for filename in *.dat\n",
    "> do\n",
    ">     $filename\n",
    ">     head -n 100 $filename | tail -n 20\n",
    "> done\n",
    "~~~"
   ]
  },
  {
   "cell_type": "markdown",
   "id": "cbb72a7d",
   "metadata": {},
   "source": [
    "```\n",
    "```\n",
    "\n",
    "```\n",
    "> ~~~\n",
    "> red dragon.dat\n",
    "> purple unicorn.dat\n",
    "> ~~~\n",
    "```"
   ]
  },
  {
   "cell_type": "code",
   "execution_count": null,
   "id": "0e91d636",
   "metadata": {},
   "outputs": [],
   "source": [
    "%%bash\n",
    "> ~~~\n",
    "> $ for filename in \"red dragon.dat\" \"purple unicorn.dat\"\n",
    "> > do\n",
    "> >     head -n 100 \"$filename\" | tail -n 20\n",
    "> > done\n",
    "> ~~~"
   ]
  },
  {
   "cell_type": "markdown",
   "id": "079f7fb9",
   "metadata": {},
   "source": [
    "```\n",
    "```\n",
    "\n",
    "```\n",
    "> ~~~\n",
    "> head: cannot open ‘red dragon.dat’ for reading: No such file or directory\n",
    "> head: cannot open ‘purple unicorn.dat’ for reading: No such file or directory\n",
    "> ~~~\n",
    "```\n",
    "\n",
    "```\n",
    "> ~~~\n",
    "> head: cannot open ‘red’ for reading: No such file or directory\n",
    "> head: cannot open ‘dragon.dat’ for reading: No such file or directory\n",
    "> head: cannot open ‘purple’ for reading: No such file or directory\n",
    "> CGGTACCGAA\n",
    "> AAGGGTCGCG\n",
    "> CAAGTGTTCC\n",
    "> ...\n",
    "> ~~~\n",
    "```"
   ]
  },
  {
   "cell_type": "code",
   "execution_count": null,
   "id": "d1271c0c",
   "metadata": {},
   "outputs": [],
   "source": [
    "%%bash\n",
    "~~~\n",
    "$ cp *.dat original-*.dat\n",
    "~~~"
   ]
  },
  {
   "cell_type": "markdown",
   "id": "ec84f2b0",
   "metadata": {},
   "source": [
    "```\n",
    "```"
   ]
  },
  {
   "cell_type": "code",
   "execution_count": null,
   "id": "707586f3",
   "metadata": {},
   "outputs": [],
   "source": [
    "%%bash\n",
    "~~~\n",
    "$ cp basilisk.dat minotaur.dat unicorn.dat original-*.dat\n",
    "~~~"
   ]
  },
  {
   "cell_type": "markdown",
   "id": "c050c799",
   "metadata": {},
   "source": [
    "```\n",
    "```\n",
    "\n",
    "```\n",
    "~~~\n",
    "cp: target `original-*.dat' is not a directory\n",
    "~~~\n",
    "```"
   ]
  },
  {
   "cell_type": "code",
   "execution_count": null,
   "id": "7fcd4a43",
   "metadata": {},
   "outputs": [],
   "source": [
    "%%bash\n",
    "~~~\n",
    "$ for filename in *.dat\n",
    "> do\n",
    ">     cp $filename original-$filename\n",
    "> done\n",
    "~~~"
   ]
  },
  {
   "cell_type": "markdown",
   "id": "eb32daa7",
   "metadata": {},
   "source": [
    "```\n",
    "```"
   ]
  },
  {
   "cell_type": "code",
   "execution_count": null,
   "id": "6a3769e7",
   "metadata": {},
   "outputs": [],
   "source": [
    "%%bash\n",
    "~~~\n",
    "cp basilisk.dat original-basilisk.dat\n",
    "~~~"
   ]
  },
  {
   "cell_type": "markdown",
   "id": "9f981a0a",
   "metadata": {},
   "source": [
    "```\n",
    "```"
   ]
  },
  {
   "cell_type": "code",
   "execution_count": null,
   "id": "03d20040",
   "metadata": {},
   "outputs": [],
   "source": [
    "%%bash\n",
    "~~~\n",
    "cp minotaur.dat original-minotaur.dat\n",
    "~~~"
   ]
  },
  {
   "cell_type": "markdown",
   "id": "d7ff06f7",
   "metadata": {},
   "source": [
    "```\n",
    "```"
   ]
  },
  {
   "cell_type": "code",
   "execution_count": null,
   "id": "e4c1164a",
   "metadata": {},
   "outputs": [],
   "source": [
    "%%bash\n",
    "~~~\n",
    "cp unicorn.dat original-unicorn.dat\n",
    "~~~"
   ]
  },
  {
   "cell_type": "markdown",
   "id": "58bbafcb",
   "metadata": {},
   "source": [
    "```\n",
    "```"
   ]
  },
  {
   "cell_type": "code",
   "execution_count": null,
   "id": "2116366e",
   "metadata": {},
   "outputs": [],
   "source": [
    "%%bash\n",
    "~~~\n",
    "$ cd north-pacific-gyre/2012-07-03\n",
    "$ for datafile in NENE*A.txt NENE*B.txt\n",
    "> do\n",
    ">     echo $datafile\n",
    "> done\n",
    "~~~"
   ]
  },
  {
   "cell_type": "markdown",
   "id": "0cb01820",
   "metadata": {},
   "source": [
    "```\n",
    "~~~\n",
    "NENE01729A.txt\n",
    "NENE01729B.txt\n",
    "NENE01736A.txt\n",
    "...\n",
    "NENE02043A.txt\n",
    "NENE02043B.txt\n",
    "~~~\n",
    "```"
   ]
  },
  {
   "cell_type": "code",
   "execution_count": null,
   "id": "8f9681f6",
   "metadata": {},
   "outputs": [],
   "source": [
    "%%bash\n",
    "~~~\n",
    "$ for datafile in NENE*A.txt NENE*B.txt\n",
    "> do\n",
    ">     echo $datafile stats-$datafile\n",
    "> done\n",
    "~~~"
   ]
  },
  {
   "cell_type": "markdown",
   "id": "c560578a",
   "metadata": {},
   "source": [
    "```\n",
    "~~~\n",
    "NENE01729A.txt stats-NENE01729A.txt\n",
    "NENE01729B.txt stats-NENE01729B.txt\n",
    "NENE01736A.txt stats-NENE01736A.txt\n",
    "...\n",
    "NENE02043A.txt stats-NENE02043A.txt\n",
    "NENE02043B.txt stats-NENE02043B.txt\n",
    "~~~\n",
    "```"
   ]
  },
  {
   "cell_type": "code",
   "execution_count": null,
   "id": "e7568d23",
   "metadata": {},
   "outputs": [],
   "source": [
    "%%bash\n",
    "~~~\n",
    "$ for datafile in NENE*A.txt NENE*B.txt; do echo $datafile stats-$datafile; done\n",
    "~~~"
   ]
  },
  {
   "cell_type": "markdown",
   "id": "759bcaa5",
   "metadata": {},
   "source": [
    "```\n",
    "```"
   ]
  },
  {
   "cell_type": "code",
   "execution_count": null,
   "id": "07129f64",
   "metadata": {},
   "outputs": [],
   "source": [
    "%%bash\n",
    "~~~\n",
    "$ for datafile in NENE*A.txt NENE*B.txt; do bash goostats.sh $datafile stats-$datafile; done\n",
    "~~~"
   ]
  },
  {
   "cell_type": "markdown",
   "id": "5f5058f4",
   "metadata": {},
   "source": [
    "```\n",
    "```"
   ]
  },
  {
   "cell_type": "code",
   "execution_count": null,
   "id": "954647ae",
   "metadata": {},
   "outputs": [],
   "source": [
    "%%bash\n",
    "~~~\n",
    "$ for datafile in NENE*A.txt NENE*B.txt; do echo $datafile;\n",
    "bash goostats.sh $datafile stats-$datafile; done\n",
    "~~~"
   ]
  },
  {
   "cell_type": "markdown",
   "id": "d5b8237c",
   "metadata": {},
   "source": [
    "```\n",
    "```\n",
    "\n",
    "```\n",
    "~~~\n",
    "NENE01729A.txt\n",
    "NENE01729B.txt\n",
    "NENE01736A.txt\n",
    "...\n",
    "~~~\n",
    "```"
   ]
  },
  {
   "cell_type": "code",
   "execution_count": null,
   "id": "cacfe3eb",
   "metadata": {},
   "outputs": [],
   "source": [
    "%%bash\n",
    "> ~~~\n",
    "> $ history | tail -n 5\n",
    "> ~~~"
   ]
  },
  {
   "cell_type": "markdown",
   "id": "76902d54",
   "metadata": {},
   "source": [
    "```\n",
    "> ~~~\n",
    ">   456  ls -l NENE0*.txt\n",
    ">   457  rm stats-NENE01729B.txt.txt\n",
    ">   458  bash goostats.sh NENE01729B.txt stats-NENE01729B.txt\n",
    ">   459  ls -l NENE0*.txt\n",
    ">   460  history\n",
    "> ~~~\n",
    "```"
   ]
  },
  {
   "cell_type": "code",
   "execution_count": null,
   "id": "1188b09a",
   "metadata": {},
   "outputs": [],
   "source": [
    "%%bash\n",
    "> ~~~\n",
    "> $ for datafile in *.pdb\n",
    "> > do\n",
    "> >     cat $datafile >> all.pdb\n",
    "> > done\n",
    "> ~~~"
   ]
  },
  {
   "cell_type": "markdown",
   "id": "14c3ad71",
   "metadata": {},
   "source": [
    "```\n",
    "```"
   ]
  },
  {
   "cell_type": "code",
   "execution_count": null,
   "id": "245eb43c",
   "metadata": {},
   "outputs": [],
   "source": [
    "%%bash\n",
    "> ~~~\n",
    "> # Version 1\n",
    "> $ for datafile in *.pdb\n",
    "> > do\n",
    "> >     echo cat $datafile >> all.pdb\n",
    "> > done\n",
    "> ~~~"
   ]
  },
  {
   "cell_type": "markdown",
   "id": "025396d6",
   "metadata": {},
   "source": [
    "```\n",
    "```"
   ]
  },
  {
   "cell_type": "code",
   "execution_count": null,
   "id": "7cb24bda",
   "metadata": {},
   "outputs": [],
   "source": [
    "%%bash\n",
    "> ~~~\n",
    "> # Version 2\n",
    "> $ for datafile in *.pdb\n",
    "> > do\n",
    "> >     echo \"cat $datafile >> all.pdb\"\n",
    "> > done\n",
    "> ~~~"
   ]
  },
  {
   "cell_type": "markdown",
   "id": "ba31fd2c",
   "metadata": {},
   "source": [
    "```\n",
    "```"
   ]
  },
  {
   "cell_type": "code",
   "execution_count": null,
   "id": "01377b4c",
   "metadata": {
    "lines_to_next_cell": 0
   },
   "outputs": [],
   "source": [
    "%%bash\n",
    "> ~~~\n",
    "> $ for species in cubane ethane methane\n",
    "> > do\n",
    "> >     for temperature in 25 30 37 40\n",
    "> >     do\n",
    "> >         mkdir $species-$temperature\n",
    "> >     done\n",
    "> > done\n",
    "> ~~~"
   ]
  },
  {
   "cell_type": "markdown",
   "id": "811022cb",
   "metadata": {},
   "source": []
  }
 ],
 "metadata": {
  "jupytext": {
   "formats": "ipynb,md"
  },
  "kernelspec": {
   "display_name": "Python 3 (ipykernel)",
   "language": "python",
   "name": "python3"
  }
 },
 "nbformat": 4,
 "nbformat_minor": 5
}
