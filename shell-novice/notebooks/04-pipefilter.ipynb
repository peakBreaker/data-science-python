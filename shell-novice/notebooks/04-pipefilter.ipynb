{
 "cells": [
  {
   "cell_type": "raw",
   "id": "4b282b57",
   "metadata": {},
   "source": [
    "---\n",
    "\n",
    "---"
   ]
  },
  {
   "cell_type": "markdown",
   "id": "94935324",
   "metadata": {},
   "source": [
    "\n",
    "```\n",
    "```"
   ]
  },
  {
   "cell_type": "code",
   "execution_count": null,
   "id": "ce8618d5",
   "metadata": {},
   "outputs": [],
   "source": [
    "%%bash\n",
    "$ ls molecules"
   ]
  },
  {
   "cell_type": "markdown",
   "id": "0c37be2b",
   "metadata": {},
   "source": [
    "```\n",
    "cubane.pdb    ethane.pdb    methane.pdb\n",
    "octane.pdb    pentane.pdb   propane.pdb\n",
    "```"
   ]
  },
  {
   "cell_type": "code",
   "execution_count": null,
   "id": "3a696788",
   "metadata": {},
   "outputs": [],
   "source": [
    "%%bash\n",
    "$ cd molecules\n",
    "$ wc cubane.pdb"
   ]
  },
  {
   "cell_type": "markdown",
   "id": "41514ae7",
   "metadata": {},
   "source": [
    "```\n",
    "20  156 1158 cubane.pdb\n",
    "```"
   ]
  },
  {
   "cell_type": "code",
   "execution_count": null,
   "id": "2e2b46c7",
   "metadata": {},
   "outputs": [],
   "source": [
    "%%bash\n",
    "$ wc *.pdb"
   ]
  },
  {
   "cell_type": "markdown",
   "id": "f86426e9",
   "metadata": {},
   "source": [
    "```\n",
    "20  156  1158  cubane.pdb\n",
    "12  84   622   ethane.pdb\n",
    "9  57   422   methane.pdb\n",
    "30  246  1828  octane.pdb\n",
    "21  165  1226  pentane.pdb\n",
    "15  111  825   propane.pdb\n",
    "107  819  6081  total\n",
    "```"
   ]
  },
  {
   "cell_type": "code",
   "execution_count": null,
   "id": "48665cfd",
   "metadata": {},
   "outputs": [],
   "source": [
    "%%bash\n",
    "$ wc -l *.pdb"
   ]
  },
  {
   "cell_type": "markdown",
   "id": "c44536b0",
   "metadata": {},
   "source": [
    "```\n",
    "20  cubane.pdb\n",
    "12  ethane.pdb\n",
    "9  methane.pdb\n",
    "30  octane.pdb\n",
    "21  pentane.pdb\n",
    "15  propane.pdb\n",
    "107  total\n",
    "```"
   ]
  },
  {
   "cell_type": "code",
   "execution_count": null,
   "id": "7ee67d0f",
   "metadata": {},
   "outputs": [],
   "source": [
    "%%bash\n",
    "> $ wc -l"
   ]
  },
  {
   "cell_type": "markdown",
   "id": "cacd782e",
   "metadata": {},
   "source": [
    "```\n",
    "```"
   ]
  },
  {
   "cell_type": "code",
   "execution_count": null,
   "id": "df30f6e9",
   "metadata": {},
   "outputs": [],
   "source": [
    "%%bash\n",
    "$ wc -l *.pdb > lengths.txt"
   ]
  },
  {
   "cell_type": "markdown",
   "id": "0497728a",
   "metadata": {},
   "source": [
    "```\n",
    "```"
   ]
  },
  {
   "cell_type": "code",
   "execution_count": null,
   "id": "df614ec2",
   "metadata": {},
   "outputs": [],
   "source": [
    "%%bash\n",
    "$ ls lengths.txt"
   ]
  },
  {
   "cell_type": "markdown",
   "id": "f7e380e5",
   "metadata": {},
   "source": [
    "```\n",
    "lengths.txt\n",
    "```"
   ]
  },
  {
   "cell_type": "code",
   "execution_count": null,
   "id": "31d3827c",
   "metadata": {},
   "outputs": [],
   "source": [
    "%%bash\n",
    "$ cat lengths.txt"
   ]
  },
  {
   "cell_type": "markdown",
   "id": "584f55b9",
   "metadata": {},
   "source": [
    "```\n",
    "20  cubane.pdb\n",
    "12  ethane.pdb\n",
    "9  methane.pdb\n",
    "30  octane.pdb\n",
    "21  pentane.pdb\n",
    "15  propane.pdb\n",
    "107  total\n",
    "```\n",
    "\n",
    "```\n",
    "> 10\n",
    "> 2\n",
    "> 19\n",
    "> 22\n",
    "> 6\n",
    "```\n",
    "\n",
    "```\n",
    "> 10\n",
    "> 19\n",
    "> 2\n",
    "> 22\n",
    "> 6\n",
    "```\n",
    "\n",
    "```\n",
    "> 2\n",
    "> 6\n",
    "> 10\n",
    "> 19\n",
    "> 22\n",
    "```"
   ]
  },
  {
   "cell_type": "code",
   "execution_count": null,
   "id": "ed1762f5",
   "metadata": {},
   "outputs": [],
   "source": [
    "%%bash\n",
    "$ sort -n lengths.txt"
   ]
  },
  {
   "cell_type": "markdown",
   "id": "3a82c7cf",
   "metadata": {},
   "source": [
    "```\n",
    "9  methane.pdb\n",
    "12  ethane.pdb\n",
    "15  propane.pdb\n",
    "20  cubane.pdb\n",
    "21  pentane.pdb\n",
    "30  octane.pdb\n",
    "107  total\n",
    "```"
   ]
  },
  {
   "cell_type": "code",
   "execution_count": null,
   "id": "b3b084c1",
   "metadata": {},
   "outputs": [],
   "source": [
    "%%bash\n",
    "$ sort -n lengths.txt > sorted-lengths.txt\n",
    "$ head -n 1 sorted-lengths.txt"
   ]
  },
  {
   "cell_type": "markdown",
   "id": "7d73cb3c",
   "metadata": {},
   "source": [
    "```\n",
    "9  methane.pdb\n",
    "```"
   ]
  },
  {
   "cell_type": "code",
   "execution_count": null,
   "id": "91a12067",
   "metadata": {},
   "outputs": [],
   "source": [
    "%%bash\n",
    "> $ sort -n lengths.txt > lengths.txt"
   ]
  },
  {
   "cell_type": "markdown",
   "id": "e8236fa5",
   "metadata": {},
   "source": [
    "```\n",
    "```"
   ]
  },
  {
   "cell_type": "code",
   "execution_count": null,
   "id": "cfa35c11",
   "metadata": {},
   "outputs": [],
   "source": [
    "%%bash\n",
    "> $ echo The echo command prints text"
   ]
  },
  {
   "cell_type": "markdown",
   "id": "0e0e60e0",
   "metadata": {},
   "source": [
    "```\n",
    "> The echo command prints text\n",
    "```"
   ]
  },
  {
   "cell_type": "code",
   "execution_count": null,
   "id": "b98e3219",
   "metadata": {},
   "outputs": [],
   "source": [
    "%%bash\n",
    "> $ echo hello > testfile01.txt"
   ]
  },
  {
   "cell_type": "markdown",
   "id": "8e3070b6",
   "metadata": {},
   "source": [
    "```\n",
    "```"
   ]
  },
  {
   "cell_type": "code",
   "execution_count": null,
   "id": "48ed119a",
   "metadata": {},
   "outputs": [],
   "source": [
    "%%bash\n",
    "> $ echo hello >> testfile02.txt"
   ]
  },
  {
   "cell_type": "markdown",
   "id": "035fceb6",
   "metadata": {},
   "source": [
    "```\n",
    "```"
   ]
  },
  {
   "cell_type": "code",
   "execution_count": null,
   "id": "7e244a37",
   "metadata": {},
   "outputs": [],
   "source": [
    "%%bash\n",
    "> $ head -n 3 animals.txt > animals-subset.txt\n",
    "> $ tail -n 2 animals.txt >> animals-subset.txt"
   ]
  },
  {
   "cell_type": "markdown",
   "id": "f508fbc9",
   "metadata": {},
   "source": [
    "```\n",
    "```"
   ]
  },
  {
   "cell_type": "code",
   "execution_count": null,
   "id": "d38eb383",
   "metadata": {},
   "outputs": [],
   "source": [
    "%%bash\n",
    "$ sort -n lengths.txt | head -n 1"
   ]
  },
  {
   "cell_type": "markdown",
   "id": "1afa1cfa",
   "metadata": {},
   "source": [
    "```\n",
    "9  methane.pdb\n",
    "```"
   ]
  },
  {
   "cell_type": "code",
   "execution_count": null,
   "id": "b2c4205d",
   "metadata": {},
   "outputs": [],
   "source": [
    "%%bash\n",
    "$ wc -l *.pdb | sort -n"
   ]
  },
  {
   "cell_type": "markdown",
   "id": "e86ba2d9",
   "metadata": {},
   "source": [
    "```\n",
    "9 methane.pdb\n",
    "12 ethane.pdb\n",
    "15 propane.pdb\n",
    "20 cubane.pdb\n",
    "21 pentane.pdb\n",
    "30 octane.pdb\n",
    "107 total\n",
    "```"
   ]
  },
  {
   "cell_type": "code",
   "execution_count": null,
   "id": "d6757024",
   "metadata": {},
   "outputs": [],
   "source": [
    "%%bash\n",
    "$ wc -l *.pdb | sort -n | head -n 1"
   ]
  },
  {
   "cell_type": "markdown",
   "id": "e3e151ff",
   "metadata": {},
   "source": [
    "```\n",
    "9  methane.pdb\n",
    "```\n",
    "\n",
    "```\n",
    "> 2012-11-05,deer\n",
    "> 2012-11-05,rabbit\n",
    "> 2012-11-05,raccoon\n",
    "> 2012-11-06,rabbit\n",
    "> 2012-11-06,deer\n",
    "> 2012-11-06,fox\n",
    "> 2012-11-07,rabbit\n",
    "> 2012-11-07,bear\n",
    "```"
   ]
  },
  {
   "cell_type": "code",
   "execution_count": null,
   "id": "a4b35285",
   "metadata": {},
   "outputs": [],
   "source": [
    "%%bash\n",
    "> $ cat animals.txt | head -n 5 | tail -n 3 | sort -r > final.txt"
   ]
  },
  {
   "cell_type": "markdown",
   "id": "c501c66e",
   "metadata": {},
   "source": [
    "```\n",
    "```"
   ]
  },
  {
   "cell_type": "code",
   "execution_count": null,
   "id": "55b72284",
   "metadata": {},
   "outputs": [],
   "source": [
    "%%bash\n",
    "> $ cut -d , -f 2 animals.txt"
   ]
  },
  {
   "cell_type": "markdown",
   "id": "a4c53e6f",
   "metadata": {},
   "source": [
    "```\n",
    "```"
   ]
  },
  {
   "cell_type": "code",
   "execution_count": null,
   "id": "3eebd017",
   "metadata": {},
   "outputs": [],
   "source": [
    "%%bash\n",
    "> deer\n",
    "> rabbit\n",
    "> raccoon\n",
    "> rabbit\n",
    "> deer\n",
    "> fox\n",
    "> rabbit\n",
    "> bear"
   ]
  },
  {
   "cell_type": "markdown",
   "id": "2d1e83fe",
   "metadata": {},
   "source": [
    "```\n",
    "```\n",
    "\n",
    "```\n",
    "> 2012-11-05,deer\n",
    "> 2012-11-05,rabbit\n",
    "> 2012-11-05,raccoon\n",
    "> 2012-11-06,rabbit\n",
    "> ...\n",
    "```"
   ]
  },
  {
   "cell_type": "code",
   "execution_count": null,
   "id": "88094d09",
   "metadata": {},
   "outputs": [],
   "source": [
    "%%bash\n",
    "$ cd north-pacific-gyre/2012-07-03\n",
    "$ wc -l *.txt"
   ]
  },
  {
   "cell_type": "markdown",
   "id": "795c98ac",
   "metadata": {},
   "source": [
    "```\n",
    "```\n",
    "\n",
    "```\n",
    "300 NENE01729A.txt\n",
    "300 NENE01729B.txt\n",
    "300 NENE01736A.txt\n",
    "300 NENE01751A.txt\n",
    "300 NENE01751B.txt\n",
    "300 NENE01812A.txt\n",
    "... ...\n",
    "```"
   ]
  },
  {
   "cell_type": "code",
   "execution_count": null,
   "id": "365daaee",
   "metadata": {},
   "outputs": [],
   "source": [
    "%%bash\n",
    "$ wc -l *.txt | sort -n | head -n 5"
   ]
  },
  {
   "cell_type": "markdown",
   "id": "903b1426",
   "metadata": {},
   "source": [
    "```\n",
    "240 NENE02018B.txt\n",
    "300 NENE01729A.txt\n",
    "300 NENE01729B.txt\n",
    "300 NENE01736A.txt\n",
    "300 NENE01751A.txt\n",
    "```"
   ]
  },
  {
   "cell_type": "code",
   "execution_count": null,
   "id": "98b2dfcb",
   "metadata": {},
   "outputs": [],
   "source": [
    "%%bash\n",
    "$ wc -l *.txt | sort -n | tail -n 5"
   ]
  },
  {
   "cell_type": "markdown",
   "id": "a7ca895a",
   "metadata": {},
   "source": [
    "```\n",
    "300 NENE02040B.txt\n",
    "300 NENE02040Z.txt\n",
    "300 NENE02043A.txt\n",
    "300 NENE02043B.txt\n",
    "5040 total\n",
    "```"
   ]
  },
  {
   "cell_type": "code",
   "execution_count": null,
   "id": "032318a3",
   "metadata": {
    "lines_to_next_cell": 0
   },
   "outputs": [],
   "source": [
    "%%bash\n",
    "$ ls *Z.txt"
   ]
  },
  {
   "cell_type": "markdown",
   "id": "1ee97e40",
   "metadata": {},
   "source": []
  }
 ],
 "metadata": {
  "jupytext": {
   "formats": "ipynb,md"
  },
  "kernelspec": {
   "display_name": "Python 3 (ipykernel)",
   "language": "python",
   "name": "python3"
  }
 },
 "nbformat": 4,
 "nbformat_minor": 5
}
