{
 "cells": [
  {
   "cell_type": "raw",
   "id": "2494338e",
   "metadata": {},
   "source": [
    "---\n",
    "\n",
    "---"
   ]
  },
  {
   "cell_type": "markdown",
   "id": "737c135e",
   "metadata": {},
   "source": [
    "\n",
    "```\n",
    "```"
   ]
  },
  {
   "cell_type": "code",
   "execution_count": null,
   "id": "a445e732",
   "metadata": {},
   "outputs": [],
   "source": [
    "%%bash\n",
    "~~~\n",
    "$ ls molecules\n",
    "~~~"
   ]
  },
  {
   "cell_type": "markdown",
   "id": "aec65bd9",
   "metadata": {},
   "source": [
    "```\n",
    "~~~\n",
    "cubane.pdb    ethane.pdb    methane.pdb\n",
    "octane.pdb    pentane.pdb   propane.pdb\n",
    "~~~\n",
    "```"
   ]
  },
  {
   "cell_type": "code",
   "execution_count": null,
   "id": "c2124626",
   "metadata": {},
   "outputs": [],
   "source": [
    "%%bash\n",
    "~~~\n",
    "$ cd molecules\n",
    "$ wc cubane.pdb\n",
    "~~~"
   ]
  },
  {
   "cell_type": "markdown",
   "id": "37d4b846",
   "metadata": {},
   "source": [
    "```\n",
    "~~~\n",
    "20  156 1158 cubane.pdb\n",
    "~~~\n",
    "```"
   ]
  },
  {
   "cell_type": "code",
   "execution_count": null,
   "id": "b16aef34",
   "metadata": {},
   "outputs": [],
   "source": [
    "%%bash\n",
    "~~~\n",
    "$ wc *.pdb\n",
    "~~~"
   ]
  },
  {
   "cell_type": "markdown",
   "id": "3eb87313",
   "metadata": {},
   "source": [
    "```\n",
    "~~~\n",
    "20  156  1158  cubane.pdb\n",
    "12  84   622   ethane.pdb\n",
    "9  57   422   methane.pdb\n",
    "30  246  1828  octane.pdb\n",
    "21  165  1226  pentane.pdb\n",
    "15  111  825   propane.pdb\n",
    "107  819  6081  total\n",
    "~~~\n",
    "```"
   ]
  },
  {
   "cell_type": "code",
   "execution_count": null,
   "id": "aae5f848",
   "metadata": {},
   "outputs": [],
   "source": [
    "%%bash\n",
    "~~~\n",
    "$ wc -l *.pdb\n",
    "~~~"
   ]
  },
  {
   "cell_type": "markdown",
   "id": "65170870",
   "metadata": {},
   "source": [
    "```\n",
    "~~~\n",
    "20  cubane.pdb\n",
    "12  ethane.pdb\n",
    "9  methane.pdb\n",
    "30  octane.pdb\n",
    "21  pentane.pdb\n",
    "15  propane.pdb\n",
    "107  total\n",
    "~~~\n",
    "```"
   ]
  },
  {
   "cell_type": "code",
   "execution_count": null,
   "id": "04d57dd7",
   "metadata": {},
   "outputs": [],
   "source": [
    "%%bash\n",
    "> ~~~\n",
    "> $ wc -l\n",
    "> ~~~"
   ]
  },
  {
   "cell_type": "markdown",
   "id": "c845bfa3",
   "metadata": {},
   "source": [
    "```\n",
    "```"
   ]
  },
  {
   "cell_type": "code",
   "execution_count": null,
   "id": "8ece0407",
   "metadata": {},
   "outputs": [],
   "source": [
    "%%bash\n",
    "~~~\n",
    "$ wc -l *.pdb > lengths.txt\n",
    "~~~"
   ]
  },
  {
   "cell_type": "markdown",
   "id": "d204c6bc",
   "metadata": {},
   "source": [
    "```\n",
    "```"
   ]
  },
  {
   "cell_type": "code",
   "execution_count": null,
   "id": "6dd63b39",
   "metadata": {},
   "outputs": [],
   "source": [
    "%%bash\n",
    "~~~\n",
    "$ ls lengths.txt\n",
    "~~~"
   ]
  },
  {
   "cell_type": "markdown",
   "id": "ca0a256e",
   "metadata": {},
   "source": [
    "```\n",
    "~~~\n",
    "lengths.txt\n",
    "~~~\n",
    "```"
   ]
  },
  {
   "cell_type": "code",
   "execution_count": null,
   "id": "c77fa855",
   "metadata": {},
   "outputs": [],
   "source": [
    "%%bash\n",
    "~~~\n",
    "$ cat lengths.txt\n",
    "~~~"
   ]
  },
  {
   "cell_type": "markdown",
   "id": "dda04027",
   "metadata": {},
   "source": [
    "```\n",
    "~~~\n",
    "20  cubane.pdb\n",
    "12  ethane.pdb\n",
    "9  methane.pdb\n",
    "30  octane.pdb\n",
    "21  pentane.pdb\n",
    "15  propane.pdb\n",
    "107  total\n",
    "~~~\n",
    "```\n",
    "\n",
    "```\n",
    "> ~~~\n",
    "> 10\n",
    "> 2\n",
    "> 19\n",
    "> 22\n",
    "> 6\n",
    "> ~~~\n",
    "```\n",
    "\n",
    "```\n",
    "> ~~~\n",
    "> 10\n",
    "> 19\n",
    "> 2\n",
    "> 22\n",
    "> 6\n",
    "> ~~~\n",
    "```\n",
    "\n",
    "```\n",
    "> ~~~\n",
    "> 2\n",
    "> 6\n",
    "> 10\n",
    "> 19\n",
    "> 22\n",
    "> ~~~\n",
    "```"
   ]
  },
  {
   "cell_type": "code",
   "execution_count": null,
   "id": "8076a320",
   "metadata": {},
   "outputs": [],
   "source": [
    "%%bash\n",
    "~~~\n",
    "$ sort -n lengths.txt\n",
    "~~~"
   ]
  },
  {
   "cell_type": "markdown",
   "id": "71bfc253",
   "metadata": {},
   "source": [
    "```\n",
    "~~~\n",
    "9  methane.pdb\n",
    "12  ethane.pdb\n",
    "15  propane.pdb\n",
    "20  cubane.pdb\n",
    "21  pentane.pdb\n",
    "30  octane.pdb\n",
    "107  total\n",
    "~~~\n",
    "```"
   ]
  },
  {
   "cell_type": "code",
   "execution_count": null,
   "id": "6fd328e3",
   "metadata": {},
   "outputs": [],
   "source": [
    "%%bash\n",
    "~~~\n",
    "$ sort -n lengths.txt > sorted-lengths.txt\n",
    "$ head -n 1 sorted-lengths.txt\n",
    "~~~"
   ]
  },
  {
   "cell_type": "markdown",
   "id": "a6aff99c",
   "metadata": {},
   "source": [
    "```\n",
    "~~~\n",
    "9  methane.pdb\n",
    "~~~\n",
    "```"
   ]
  },
  {
   "cell_type": "code",
   "execution_count": null,
   "id": "86a040f5",
   "metadata": {},
   "outputs": [],
   "source": [
    "%%bash\n",
    "> ~~~\n",
    "> $ sort -n lengths.txt > lengths.txt\n",
    "> ~~~"
   ]
  },
  {
   "cell_type": "markdown",
   "id": "7716c8e6",
   "metadata": {},
   "source": [
    "```\n",
    "```"
   ]
  },
  {
   "cell_type": "code",
   "execution_count": null,
   "id": "33154848",
   "metadata": {},
   "outputs": [],
   "source": [
    "%%bash\n",
    "> ~~~\n",
    "> $ echo The echo command prints text\n",
    "> ~~~"
   ]
  },
  {
   "cell_type": "markdown",
   "id": "5e14acd1",
   "metadata": {},
   "source": [
    "```\n",
    "> ~~~\n",
    "> The echo command prints text\n",
    "> ~~~\n",
    "```"
   ]
  },
  {
   "cell_type": "code",
   "execution_count": null,
   "id": "4d10cd29",
   "metadata": {},
   "outputs": [],
   "source": [
    "%%bash\n",
    "> ~~~\n",
    "> $ echo hello > testfile01.txt\n",
    "> ~~~"
   ]
  },
  {
   "cell_type": "markdown",
   "id": "ad51565f",
   "metadata": {},
   "source": [
    "```\n",
    "```"
   ]
  },
  {
   "cell_type": "code",
   "execution_count": null,
   "id": "45829ba7",
   "metadata": {},
   "outputs": [],
   "source": [
    "%%bash\n",
    "> ~~~\n",
    "> $ echo hello >> testfile02.txt\n",
    "> ~~~"
   ]
  },
  {
   "cell_type": "markdown",
   "id": "a8d2567e",
   "metadata": {},
   "source": [
    "```\n",
    "```"
   ]
  },
  {
   "cell_type": "code",
   "execution_count": null,
   "id": "6886475f",
   "metadata": {},
   "outputs": [],
   "source": [
    "%%bash\n",
    "> ~~~\n",
    "> $ head -n 3 animals.txt > animals-subset.txt\n",
    "> $ tail -n 2 animals.txt >> animals-subset.txt\n",
    "> ~~~"
   ]
  },
  {
   "cell_type": "markdown",
   "id": "4ac53b00",
   "metadata": {},
   "source": [
    "```\n",
    "```"
   ]
  },
  {
   "cell_type": "code",
   "execution_count": null,
   "id": "c9f9b6d0",
   "metadata": {},
   "outputs": [],
   "source": [
    "%%bash\n",
    "~~~\n",
    "$ sort -n lengths.txt | head -n 1\n",
    "~~~"
   ]
  },
  {
   "cell_type": "markdown",
   "id": "37148154",
   "metadata": {},
   "source": [
    "```\n",
    "~~~\n",
    "9  methane.pdb\n",
    "~~~\n",
    "```"
   ]
  },
  {
   "cell_type": "code",
   "execution_count": null,
   "id": "621f740c",
   "metadata": {},
   "outputs": [],
   "source": [
    "%%bash\n",
    "~~~\n",
    "$ wc -l *.pdb | sort -n\n",
    "~~~"
   ]
  },
  {
   "cell_type": "markdown",
   "id": "63bc6e35",
   "metadata": {},
   "source": [
    "```\n",
    "~~~\n",
    "9 methane.pdb\n",
    "12 ethane.pdb\n",
    "15 propane.pdb\n",
    "20 cubane.pdb\n",
    "21 pentane.pdb\n",
    "30 octane.pdb\n",
    "107 total\n",
    "~~~\n",
    "```"
   ]
  },
  {
   "cell_type": "code",
   "execution_count": null,
   "id": "1362ef43",
   "metadata": {},
   "outputs": [],
   "source": [
    "%%bash\n",
    "~~~\n",
    "$ wc -l *.pdb | sort -n | head -n 1\n",
    "~~~"
   ]
  },
  {
   "cell_type": "markdown",
   "id": "f93388c2",
   "metadata": {},
   "source": [
    "```\n",
    "~~~\n",
    "9  methane.pdb\n",
    "~~~\n",
    "```\n",
    "\n",
    "```\n",
    "> ~~~\n",
    "> 2012-11-05,deer\n",
    "> 2012-11-05,rabbit\n",
    "> 2012-11-05,raccoon\n",
    "> 2012-11-06,rabbit\n",
    "> 2012-11-06,deer\n",
    "> 2012-11-06,fox\n",
    "> 2012-11-07,rabbit\n",
    "> 2012-11-07,bear\n",
    "> ~~~\n",
    "```"
   ]
  },
  {
   "cell_type": "code",
   "execution_count": null,
   "id": "48c8dd36",
   "metadata": {},
   "outputs": [],
   "source": [
    "%%bash\n",
    "> ~~~\n",
    "> $ cat animals.txt | head -n 5 | tail -n 3 | sort -r > final.txt\n",
    "> ~~~"
   ]
  },
  {
   "cell_type": "markdown",
   "id": "149ae7b1",
   "metadata": {},
   "source": [
    "```\n",
    "```"
   ]
  },
  {
   "cell_type": "code",
   "execution_count": null,
   "id": "e5781ea1",
   "metadata": {},
   "outputs": [],
   "source": [
    "%%bash\n",
    "> ~~~\n",
    "> $ cut -d , -f 2 animals.txt\n",
    "> ~~~"
   ]
  },
  {
   "cell_type": "markdown",
   "id": "08372979",
   "metadata": {},
   "source": [
    "```\n",
    "```"
   ]
  },
  {
   "cell_type": "code",
   "execution_count": null,
   "id": "ff73fd80",
   "metadata": {},
   "outputs": [],
   "source": [
    "%%bash\n",
    "> ~~~\n",
    "> deer\n",
    "> rabbit\n",
    "> raccoon\n",
    "> rabbit\n",
    "> deer\n",
    "> fox\n",
    "> rabbit\n",
    "> bear\n",
    "> ~~~"
   ]
  },
  {
   "cell_type": "markdown",
   "id": "744d1e19",
   "metadata": {},
   "source": [
    "```\n",
    "```\n",
    "\n",
    "```\n",
    "> ~~~\n",
    "> 2012-11-05,deer\n",
    "> 2012-11-05,rabbit\n",
    "> 2012-11-05,raccoon\n",
    "> 2012-11-06,rabbit\n",
    "> ...\n",
    "> ~~~\n",
    "```"
   ]
  },
  {
   "cell_type": "code",
   "execution_count": null,
   "id": "9e769364",
   "metadata": {},
   "outputs": [],
   "source": [
    "%%bash\n",
    "~~~\n",
    "$ cd north-pacific-gyre/2012-07-03\n",
    "$ wc -l *.txt\n",
    "~~~"
   ]
  },
  {
   "cell_type": "markdown",
   "id": "ec80c249",
   "metadata": {},
   "source": [
    "```\n",
    "```\n",
    "\n",
    "```\n",
    "~~~\n",
    "300 NENE01729A.txt\n",
    "300 NENE01729B.txt\n",
    "300 NENE01736A.txt\n",
    "300 NENE01751A.txt\n",
    "300 NENE01751B.txt\n",
    "300 NENE01812A.txt\n",
    "... ...\n",
    "~~~\n",
    "```"
   ]
  },
  {
   "cell_type": "code",
   "execution_count": null,
   "id": "64969b93",
   "metadata": {},
   "outputs": [],
   "source": [
    "%%bash\n",
    "~~~\n",
    "$ wc -l *.txt | sort -n | head -n 5\n",
    "~~~"
   ]
  },
  {
   "cell_type": "markdown",
   "id": "26595f67",
   "metadata": {},
   "source": [
    "```\n",
    "~~~\n",
    "240 NENE02018B.txt\n",
    "300 NENE01729A.txt\n",
    "300 NENE01729B.txt\n",
    "300 NENE01736A.txt\n",
    "300 NENE01751A.txt\n",
    "~~~\n",
    "```"
   ]
  },
  {
   "cell_type": "code",
   "execution_count": null,
   "id": "63c2e286",
   "metadata": {},
   "outputs": [],
   "source": [
    "%%bash\n",
    "~~~\n",
    "$ wc -l *.txt | sort -n | tail -n 5\n",
    "~~~"
   ]
  },
  {
   "cell_type": "markdown",
   "id": "c8368a8c",
   "metadata": {},
   "source": [
    "```\n",
    "~~~\n",
    "300 NENE02040B.txt\n",
    "300 NENE02040Z.txt\n",
    "300 NENE02043A.txt\n",
    "300 NENE02043B.txt\n",
    "5040 total\n",
    "~~~\n",
    "```"
   ]
  },
  {
   "cell_type": "code",
   "execution_count": null,
   "id": "c58f9a02",
   "metadata": {
    "lines_to_next_cell": 0
   },
   "outputs": [],
   "source": [
    "%%bash\n",
    "~~~\n",
    "$ ls *Z.txt\n",
    "~~~"
   ]
  },
  {
   "cell_type": "markdown",
   "id": "4a47f66d",
   "metadata": {},
   "source": []
  }
 ],
 "metadata": {
  "jupytext": {
   "formats": "ipynb,md"
  },
  "kernelspec": {
   "display_name": "Python 3 (ipykernel)",
   "language": "python",
   "name": "python3"
  }
 },
 "nbformat": 4,
 "nbformat_minor": 5
}
